{
 "cells": [
  {
   "cell_type": "markdown",
   "id": "2ce78347",
   "metadata": {},
   "source": [
    "# EEN060 - Applied object-oriented programming\n",
    "\n",
    "Teacher: [Carlos Natalino](https://www.chalmers.se/en/staff/Pages/Carlos-Natalino-Da-Silva.aspx) / Examiner: [Paolo Monti](https://www.chalmers.se/en/staff/Pages/Paolo-Monti.aspx)\n",
    "\n",
    "[Canvas course page](https://chalmers.instructure.com/courses/28094)\n",
    "\n",
    "[Course channel on Chalmers Play](https://play.chalmers.se/channel/EEN060_EEN065_Applied_object-oriented_programming/300149)\n",
    "\n",
    "Before you turn this assignment list in, make sure everything runs as expected.\n",
    "First, **restart the kernel** and then **run all cells**.\n",
    "Then, check if all the tests run correctly.\n",
    "Note that if one of the problems present an error, the following ones **will not** be tested.\n",
    "\n",
    "In case of discrepancies between the problem command and the tests, you should solve it having in mind the tests.\n",
    "\n",
    "There are two types of cell:\n",
    "1. *solution cells:* These are the cells where you write your answer, or modify the existing code to solve the problem.\n",
    "2. *test cells:* These cells are used to test whether your solution is correct or not. If the tests run correctly, you should see a message `tests passed`. Otherwise, you should see an error message.\n",
    "\n",
    "**Delete** the line `raise NotImplementedError()` from the problems that you solve.\n",
    "\n",
    "**Do not delete or add any cell in this file.** All cells that you need are already in place.\n",
    "\n",
    "You may also have problems that will be manually graded (e.g., HTML/CSS/JS/pseudocode problems).\n",
    "These problems **do not** have a respective *test cell*.\n",
    "\n",
    "If you want to execute a cell, select the cell and press **CTRL+Enter** (in Windows) or **CMD+Enter** (in macOS) or click on the **Run cell** button.\n",
    "\n",
    "**If you want, you can solve this programming assignment using Google Colab**\n",
    "\n",
    "Link: https://colab.research.google.com/\n",
    "\n",
    "Just uncomment the following lines and run it."
   ]
  },
  {
   "cell_type": "code",
   "execution_count": 1,
   "id": "dcf4e42b",
   "metadata": {
    "tags": [
     "install"
    ]
   },
   "outputs": [],
   "source": [
    "# !pip install --upgrade --user pip pip-tools\n",
    "# !pip install ipykernel jupyter notebook wtforms flask flask-wtf gunicorn nose flask-testing pytest coverage flake8 requests mypy pylint blinker types-requests isort black lorem-text bs4 pep8-naming matplotlib redis"
   ]
  },
  {
   "cell_type": "markdown",
   "id": "c5ee2f55",
   "metadata": {},
   "source": [
    "#### Assignment week 5\n",
    "\n",
    "In this assignment, students should practice:\n",
    "- how to intercept errors\n",
    "- how to use exceptions to ensure input correctness\n",
    "- how to handle multiple exception types\n",
    "- how to open, read/write from/to files\n",
    "- how to create a database\n",
    "- continue getting familiar with Python and HTML\n",
    "\n",
    "**Preparation:** Run the cell below every time you start working on this file, and every time you restart the kernel."
   ]
  },
  {
   "cell_type": "code",
   "execution_count": 2,
   "id": "305007c2",
   "metadata": {
    "nbgrader": {
     "grade": false,
     "grade_id": "activate-autoreload",
     "locked": true,
     "schema_version": 3,
     "solution": false,
     "task": false
    },
    "tags": [
     "load"
    ]
   },
   "outputs": [],
   "source": [
    "%load_ext autoreload\n",
    "try:\n",
    "    from utils import validate_python_code, validate_html\n",
    "except:\n",
    "    import sys\n",
    "    print(\"It seems this file is in the wrong folder. \"\n",
    "          \"Make sure to place it in the `programming-assignments` folder/project.\",\n",
    "          file=sys.stderr)\n",
    "\n",
    "def run_tests(func, test_cases):\n",
    "    for (test_case, expected_output) in test_cases:\n",
    "        assert func(test_case) == expected_output, \\\n",
    "            print(\"Your solution fails for the test case =\", test_case, \\\n",
    "                \"\\nYour output is\", func(test_case), \\\n",
    "                    \"\\nThe expected output is\", expected_output)"
   ]
  },
  {
   "cell_type": "markdown",
   "id": "2d9ed597",
   "metadata": {},
   "source": [
    "## Level 1\n",
    "\n",
    "Level 1 problems are simple problems that required only the knowledge obtained in the content of the lecture and the lecture notes of the particular lecture."
   ]
  },
  {
   "cell_type": "markdown",
   "id": "dc19cfc2",
   "metadata": {},
   "source": [
    "### Problem 1.1\n",
    "\n",
    "Create a Python function called `validating_sum_of_squares` that receives a sequence of elements and validates whether or not each of the elements is a number and a sum of squares (eg. 25 is sum of 16 and 9 that is $4^2 + 3^2$).\n",
    "\n",
    "Note that numbers can be placed within a string. And, for any integer $a$, since $a^2 = 0^2 + a^2$, square of any integer is assumed to valid.\n",
    "\n",
    "At the end, the function should return a sequence (with the same number of elements as the input) containing `True` for the elements that are numbers which are sum of square and `False` otherwise.\n",
    "\n",
    "**Examples**\n",
    "\n",
    "Input: ['5', 3, 25, None]\n",
    "\n",
    "Output: [True, False, True, False]"
   ]
  },
  {
   "cell_type": "markdown",
   "id": "5b02f0e4",
   "metadata": {},
   "source": [
    "```\n",
    "# write here your pseudocode (not graded)\n",
    "\n",
    "# * pseudocode is necessary when asking for help during the lab\n",
    "```"
   ]
  },
  {
   "cell_type": "code",
   "execution_count": 3,
   "id": "32c7debd",
   "metadata": {
    "nbgrader": {
     "grade": false,
     "grade_id": "cell-answer-1-1",
     "locked": false,
     "schema_version": 3,
     "solution": true,
     "task": false
    },
    "tags": [
     "solution",
     "solution-1.1"
    ]
   },
   "outputs": [
    {
     "name": "stdout",
     "output_type": "stream",
     "text": [
      "Overwriting validating_sum_of_squares_solution.py\n"
     ]
    }
   ],
   "source": [
    "%%writefile validating_sum_of_squares_solution.py\n",
    "# solution cell\n",
    "### BEGIN SOLUTION\n",
    "def validating_sum_of_squares(\n",
    "    sequence: list[int | float | str | bool | None],\n",
    ") -> list[bool]:\n",
    "    def is_sum_of_squares(num: int | float) -> bool:\n",
    "        # Validate whether a number can be expressed as a sum of two squares.\n",
    "        if num < 0:  # Negative numbers cannot be sums of squares\n",
    "            return False\n",
    "        for i in range(int(num**0.5) + 1):  # Iterate over possible square roots\n",
    "            j_squared = num - i**2\n",
    "            if j_squared >= 0 and (j_squared**0.5).is_integer():\n",
    "                return True\n",
    "        return False\n",
    "\n",
    "    results = []\n",
    "    for element in sequence:\n",
    "        # Convert to number if possible\n",
    "        if isinstance(element, str) and element.isdigit():\n",
    "            element = int(element)\n",
    "        elif not isinstance(element, (int, float)):\n",
    "            results.append(False)\n",
    "            continue\n",
    "\n",
    "        # Check if the current element is a sum of two squares\n",
    "        if is_sum_of_squares(element):\n",
    "            results.append(True)\n",
    "        else:\n",
    "            results.append(False)\n",
    "\n",
    "    return results\n",
    "\n",
    "\n",
    "### END SOLUTION\n"
   ]
  },
  {
   "cell_type": "code",
   "execution_count": 4,
   "id": "797399e5",
   "metadata": {
    "nbgrader": {
     "grade": false,
     "grade_id": "cell-debug-1-1",
     "locked": true,
     "schema_version": 3,
     "solution": false,
     "task": false
    },
    "tags": [
     "debug",
     "debug-1.1"
    ]
   },
   "outputs": [
    {
     "name": "stdout",
     "output_type": "stream",
     "text": [
      " Input sequence:  5\t3\t25\tNone\thello\n",
      "Output sequence:  True\tFalse\tTrue\tFalse\tFalse\n",
      "Execution finished ✓\n"
     ]
    }
   ],
   "source": [
    "%autoreload 2\n",
    "# uncomment the line(s) below to debug\n",
    "from validating_sum_of_squares_solution import validating_sum_of_squares\n",
    "\n",
    "seq_input = ['5', 3, 25, None, 'hello']\n",
    "x = validating_sum_of_squares(seq_input)\n",
    "print(f' Input sequence: ', '\\t'.join([str(x) for x in seq_input]))\n",
    "print(f\"Output sequence: \", \"\\t\".join([str(r) for r in x]))\n",
    "print(\"Execution finished\", u\"\\u2713\")"
   ]
  },
  {
   "cell_type": "code",
   "execution_count": 5,
   "id": "57887a01",
   "metadata": {
    "nbgrader": {
     "grade": true,
     "grade_id": "cell-tests-1-1",
     "locked": true,
     "points": 1,
     "schema_version": 3,
     "solution": false,
     "task": false
    },
    "tags": [
     "tests"
    ]
   },
   "outputs": [
    {
     "data": {
      "text/html": [
       "<div class=\"tip admonition\">\n",
       "<p class=\"admonition-title\">Code Quality Analysis: <span style=\"color: green\">Pass</span></p><p>*No problem was found*\n",
       "</p>\n",
       "    </div>"
      ],
      "text/plain": [
       "<IPython.core.display.HTML object>"
      ]
     },
     "metadata": {},
     "output_type": "display_data"
    },
    {
     "name": "stdout",
     "output_type": "stream",
     "text": [
      "tests passed ✓\n"
     ]
    }
   ],
   "source": [
    "%autoreload 2\n",
    "# test cell\n",
    "try:\n",
    "    import validating_sum_of_squares_solution\n",
    "except:\n",
    "    raise ValueError(\"You did not execute your solution cell!\")\n",
    "try:\n",
    "    from validating_sum_of_squares_solution import validating_sum_of_squares\n",
    "except:\n",
    "    raise ValueError(\"Your solution does not contain the right function!\")\n",
    "\n",
    "test_cases = [(['2', 'x', -10, 3.3, 'asd', None, 'b', 4.0], \\\n",
    "    [True, False, False, False, False, False, False, True]), \\\n",
    "        ([9, 'x', -9, None], [True, False, False, False])]\n",
    "\n",
    "run_tests(validating_sum_of_squares, test_cases)\n",
    "\n",
    "validate_python_code(\"validating_sum_of_squares_solution.py\")\n",
    "print('tests passed', u'\\u2713')"
   ]
  },
  {
   "cell_type": "markdown",
   "id": "e54a78c8",
   "metadata": {},
   "source": [
    "### Problem 1.2\n",
    "\n",
    "Create a Python function `gm_calculation` that receives a sequence of elements.\n",
    "\n",
    "Then, the function should return the geometric mean of the numbers ignoring the elements in the sequence which are not numbers. The mean should be returned in a string type containing only two decimal cases. If there are no numbers in the sequence, then return `None`.\n",
    "\n",
    "Remember to use the module `statistics` for this task."
   ]
  },
  {
   "cell_type": "markdown",
   "id": "d9cd4309",
   "metadata": {},
   "source": [
    "```\n",
    "# write here your pseudocode (not graded)\n",
    "\n",
    "# * pseudocode is necessary when asking for help during the lab\n",
    "```"
   ]
  },
  {
   "cell_type": "code",
   "execution_count": 6,
   "id": "ab4b24b5",
   "metadata": {
    "nbgrader": {
     "grade": false,
     "grade_id": "cell-answer-1-2",
     "locked": false,
     "schema_version": 3,
     "solution": true,
     "task": false
    },
    "tags": [
     "solution",
     "solution-1.2"
    ]
   },
   "outputs": [
    {
     "name": "stdout",
     "output_type": "stream",
     "text": [
      "Overwriting gm_calculation_solution.py\n"
     ]
    }
   ],
   "source": [
    "%%writefile gm_calculation_solution.py\n",
    "# solution cell\n",
    "### BEGIN SOLUTION\n",
    "from statistics import geometric_mean\n",
    "\n",
    "\n",
    "def gm_calculation(sequence: list[int | float | str | bool | None]) -> str | None:\n",
    "    # Filter out elements that are not numbers\n",
    "    numbers = []\n",
    "    for x in sequence:\n",
    "        if isinstance(x, (int, float)):\n",
    "            numbers.append(x)\n",
    "        elif isinstance(x, str):\n",
    "            if x.isdigit():\n",
    "                numbers.append(float(x))\n",
    "            elif x.replace(\".\", \"\", 1).isdigit():\n",
    "                numbers.append(float(x))\n",
    "        else:\n",
    "            continue\n",
    "    print(numbers)\n",
    "    # Check if there are no numbers in the list\n",
    "    if not numbers:\n",
    "        return None\n",
    "\n",
    "    # Calculate the geometric mean using the `statistics` module\n",
    "    gm = geometric_mean(numbers)\n",
    "\n",
    "    # Return the result as a string with two decimal places\n",
    "    return f\"{gm:.2f}\"\n",
    "\n",
    "\n",
    "### END SOLUTION\n"
   ]
  },
  {
   "cell_type": "code",
   "execution_count": 7,
   "id": "a965a8e4",
   "metadata": {
    "nbgrader": {
     "grade": false,
     "grade_id": "debug-cell-1-2",
     "locked": true,
     "schema_version": 3,
     "solution": false,
     "task": false
    },
    "tags": [
     "debug",
     "debug-1.2"
    ]
   },
   "outputs": [
    {
     "name": "stdout",
     "output_type": "stream",
     "text": [
      "[10.2, 11, 12.3, 15, 32.5, 100.87534262]\n",
      "The geometric mean of [10.2, 11, '12.3', 15, 32.5, 'x', '100.87534262'] is 20.20\n",
      "Execution finished ✓\n"
     ]
    }
   ],
   "source": [
    "%autoreload 2\n",
    "# uncomment the line(s) below to debug\n",
    "from gm_calculation_solution import gm_calculation\n",
    "\n",
    "sequence = [10.2, 11, '12.3', 15, 32.5, 'x', '100.87534262']\n",
    "print(f'The geometric mean of {sequence} is {gm_calculation(sequence)}')\n",
    "print('Execution finished', u'\\u2713')"
   ]
  },
  {
   "cell_type": "code",
   "execution_count": 8,
   "id": "e3bd6bad",
   "metadata": {
    "nbgrader": {
     "grade": true,
     "grade_id": "cell-test-1-2",
     "locked": true,
     "points": 1,
     "schema_version": 3,
     "solution": false,
     "task": false
    },
    "tags": [
     "tests",
     "tests-1.2"
    ]
   },
   "outputs": [
    {
     "name": "stdout",
     "output_type": "stream",
     "text": [
      "[1.2, 1]\n",
      "[10.2, 11, 12.3, 15, 32.5, 100.87534262]\n",
      "[10.2, 11, 12.3, 15, 32.5, 100.87534262]\n",
      "[]\n",
      "[]\n"
     ]
    },
    {
     "data": {
      "text/html": [
       "<div class=\"tip admonition\">\n",
       "<p class=\"admonition-title\">Code Quality Analysis: <span style=\"color: green\">Pass</span></p><p>*No problem was found*\n",
       "</p>\n",
       "    </div>"
      ],
      "text/plain": [
       "<IPython.core.display.HTML object>"
      ]
     },
     "metadata": {},
     "output_type": "display_data"
    },
    {
     "name": "stdout",
     "output_type": "stream",
     "text": [
      "tests passed ✓\n"
     ]
    }
   ],
   "source": [
    "%autoreload 2\n",
    "#test cell\n",
    "try:\n",
    "    import gm_calculation_solution\n",
    "except:\n",
    "    raise ValueError(\"You did not execute your solution cell!\")\n",
    "try:\n",
    "    from gm_calculation_solution import gm_calculation\n",
    "except:\n",
    "    raise ValueError(\"Your solution does not contain the right function!\")\n",
    "\n",
    "assert isinstance(gm_calculation([1.2, 1]), str), 'The return value should be a string'\n",
    "\n",
    "test_cases = [([10.2, 11, 12.3, 15, 32.5, 'x', '100.87534262'], '20.20'), \\\n",
    "    (['10.2', 11, 12.3, 15, 32.5, None, '100.87534262'], '20.20'), \\\n",
    "    ([None, 'x', 'as', 'as1', 'x'], None), ([], None)]\n",
    "\n",
    "run_tests(gm_calculation, test_cases)\n",
    "\n",
    "validate_python_code(\"gm_calculation_solution.py\")\n",
    "print('tests passed', u'\\u2713')"
   ]
  },
  {
   "cell_type": "markdown",
   "id": "97eb859c",
   "metadata": {},
   "source": [
    "### Problem 1.3\n",
    "\n",
    "Create a Python function called `datetime_validator` that receives a string which represents date-time, and converts it into `datetime` object.\n",
    "\n",
    "The allowed format for the input: `Month Date, Year, Time`. For example `January 15, 2022, 12:30:45`. \n",
    "\n",
    "If the input is not in this format, return `None`."
   ]
  },
  {
   "cell_type": "markdown",
   "id": "cc2e2f60",
   "metadata": {},
   "source": [
    "```\n",
    "# write here your pseudocode (not graded)\n",
    "\n",
    "# * pseudocode is necessary when asking for help during the lab\n",
    "```"
   ]
  },
  {
   "cell_type": "code",
   "execution_count": 15,
   "id": "e31317d7",
   "metadata": {
    "nbgrader": {
     "grade": false,
     "grade_id": "cell-answer-1-3",
     "locked": false,
     "schema_version": 3,
     "solution": true,
     "task": false
    },
    "tags": [
     "solution",
     "solution-1.3"
    ]
   },
   "outputs": [
    {
     "name": "stdout",
     "output_type": "stream",
     "text": [
      "Overwriting datetime_validator_solution.py\n"
     ]
    }
   ],
   "source": [
    "%%writefile datetime_validator_solution.py\n",
    "# solution cell\n",
    "### BEGIN SOLUTION\n",
    "from datetime import datetime\n",
    "\n",
    "\n",
    "def datetime_validator(date_time_str: str) -> datetime | None:\n",
    "    try:\n",
    "        # Define the required format\n",
    "        format = \"%B %d, %Y, %H:%M:%S\"\n",
    "        # Attempt to parse the string using the datetime.strptime method\n",
    "        return datetime.strptime(date_time_str, format)\n",
    "    except ValueError:\n",
    "        # If parsing fails, return None\n",
    "        return None\n",
    "\n",
    "\n",
    "### END SOLUTION\n"
   ]
  },
  {
   "cell_type": "code",
   "execution_count": 16,
   "id": "aad8326d",
   "metadata": {
    "nbgrader": {
     "grade": false,
     "grade_id": "cell_debug1-3",
     "locked": true,
     "schema_version": 3,
     "solution": false,
     "task": false
    },
    "tags": [
     "debug",
     "debug-1.3"
    ]
   },
   "outputs": [
    {
     "name": "stdout",
     "output_type": "stream",
     "text": [
      "January 15, 2022, 12:30:45 is equivalent to 2022-01-15 12:30:45 datetime object\n",
      "Execution finished ✓\n"
     ]
    }
   ],
   "source": [
    "%autoreload 2\n",
    "# uncomment the line(s) below to debug\n",
    "from datetime_validator_solution import datetime_validator\n",
    "\n",
    "date_input = 'January 15, 2022, 12:30:45'\n",
    "print(f'{date_input} is equivalent to {datetime_validator(date_input)} datetime object')\n",
    "print('Execution finished', u'\\u2713')"
   ]
  },
  {
   "cell_type": "code",
   "execution_count": 17,
   "id": "18f3e984",
   "metadata": {
    "nbgrader": {
     "grade": true,
     "grade_id": "cell-test-1-3",
     "locked": true,
     "points": 1,
     "schema_version": 3,
     "solution": false,
     "task": false
    },
    "tags": [
     "tests",
     "tests-1.3"
    ]
   },
   "outputs": [
    {
     "data": {
      "text/html": [
       "<div class=\"tip admonition\">\n",
       "<p class=\"admonition-title\">Code Quality Analysis: <span style=\"color: green\">Pass</span></p><p>*No problem was found*\n",
       "</p>\n",
       "    </div>"
      ],
      "text/plain": [
       "<IPython.core.display.HTML object>"
      ]
     },
     "metadata": {},
     "output_type": "display_data"
    },
    {
     "name": "stdout",
     "output_type": "stream",
     "text": [
      "tests passed ✓\n"
     ]
    }
   ],
   "source": [
    "%autoreload 2\n",
    "# test cell\n",
    "try:\n",
    "    import datetime_validator_solution\n",
    "except:\n",
    "    raise ValueError(\"You did not execute your solution cell!\")\n",
    "try:\n",
    "    from datetime_validator_solution import datetime_validator\n",
    "except:\n",
    "    raise ValueError(\"Your solution does not contain the right function!\")\n",
    "\n",
    "from datetime import datetime\n",
    "\n",
    "test_cases = [('January 15, 2022, 12:30:45', datetime(2022, 1, 15, 12, 30, 45)),\\\n",
    "    ('September 08, 2021, 14:45:15', datetime(2021, 9, 8, 14, 45, 15)), \\\n",
    "    ('Sep 8, 2021, 14:45:15', None), ('2021-01-01 1:41:43.321', None)]\n",
    "\n",
    "run_tests(datetime_validator, test_cases)\n",
    "\n",
    "validate_python_code(\"datetime_validator_solution.py\")\n",
    "print('tests passed', u'\\u2713')"
   ]
  },
  {
   "cell_type": "markdown",
   "id": "af94f99a",
   "metadata": {},
   "source": [
    "### Problem 1.4\n",
    "\n",
    "Create a Python function called `write_text_with_line_numbers` that receives a string containing text and writes it to a text file called `text_file.txt`, with line numbers for each line. The function should always wipe out the previous content of the file, i.e., do not use the append mode.\n",
    "\n",
    "**Example**\n",
    "\n",
    "Input: \"År\\n2013\"\n",
    "\n",
    "Textfile contents: \n",
    "1. År\n",
    "2. 2013"
   ]
  },
  {
   "cell_type": "markdown",
   "id": "4f77fb01",
   "metadata": {},
   "source": [
    "```\n",
    "# write here your pseudocode (not graded)\n",
    "\n",
    "# * pseudocode is necessary when asking for help during the lab\n",
    "```"
   ]
  },
  {
   "cell_type": "code",
   "execution_count": 24,
   "id": "d897b4c5",
   "metadata": {
    "nbgrader": {
     "grade": false,
     "grade_id": "cell-answer-1-4",
     "locked": false,
     "schema_version": 3,
     "solution": true,
     "task": false
    },
    "tags": [
     "solution",
     "solution-1.4"
    ]
   },
   "outputs": [
    {
     "name": "stdout",
     "output_type": "stream",
     "text": [
      "Overwriting write_text_with_line_numbers_solution.py\n"
     ]
    }
   ],
   "source": [
    "%%writefile write_text_with_line_numbers_solution.py\n",
    "# solution cell\n",
    "### BEGIN SOLUTION\n",
    "def write_text_with_line_numbers(text: str) -> None:\n",
    "    # Split the input text into lines\n",
    "    lines = text.splitlines()\n",
    "\n",
    "    # Open the file `text_file.txt` in write mode ('w') to overwrite existing content\n",
    "    with open(\"text_file.txt\", \"w\", encoding=\"utf-8\") as file:\n",
    "        # Loop through each line along with its line number\n",
    "        for i, line in enumerate(lines, start=1):\n",
    "            # Write the line number followed by the text line to the file\n",
    "            if i < len(lines):\n",
    "                file.write(f\"{i}. {line}\\n\")\n",
    "            else:\n",
    "                file.write(f\"{i}. {line}\")\n",
    "\n",
    "\n",
    "### END SOLUTION\n"
   ]
  },
  {
   "cell_type": "code",
   "execution_count": 25,
   "id": "30c5ba70",
   "metadata": {
    "nbgrader": {
     "grade": false,
     "grade_id": "cell-debug-1-4",
     "locked": true,
     "schema_version": 3,
     "solution": false,
     "task": false
    },
    "tags": [
     "debug",
     "debug-1.4"
    ]
   },
   "outputs": [
    {
     "name": "stdout",
     "output_type": "stream",
     "text": [
      "The file contents are: ✓\n",
      "1. År\n",
      "2. 2013\n"
     ]
    }
   ],
   "source": [
    "%autoreload 2\n",
    "# uncomment the line below to debug\n",
    "from write_text_with_line_numbers_solution import write_text_with_line_numbers\n",
    "\n",
    "write_text_with_line_numbers(\"År\\n2013\")\n",
    "print('The file contents are:', u'\\u2713')\n",
    "with open(\"text_file.txt\", \"r\", encoding=\"utf-8\") as file:\n",
    "    print(file.read())"
   ]
  },
  {
   "cell_type": "code",
   "execution_count": 26,
   "id": "e009b221",
   "metadata": {
    "nbgrader": {
     "grade": true,
     "grade_id": "cell-test-1-4",
     "locked": true,
     "points": 1,
     "schema_version": 3,
     "solution": false,
     "task": false
    },
    "tags": [
     "tests",
     "tests-1.4"
    ]
   },
   "outputs": [
    {
     "data": {
      "text/html": [
       "<div class=\"tip admonition\">\n",
       "<p class=\"admonition-title\">Code Quality Analysis: <span style=\"color: green\">Pass</span></p><p>*No problem was found*\n",
       "</p>\n",
       "    </div>"
      ],
      "text/plain": [
       "<IPython.core.display.HTML object>"
      ]
     },
     "metadata": {},
     "output_type": "display_data"
    },
    {
     "name": "stdout",
     "output_type": "stream",
     "text": [
      "tests passed ✓\n"
     ]
    }
   ],
   "source": [
    "%autoreload 2\n",
    "# test cell\n",
    "try:\n",
    "    import write_text_with_line_numbers_solution\n",
    "except:\n",
    "    raise ValueError(\"You did not execute your solution cell!\")\n",
    "try:\n",
    "    from write_text_with_line_numbers_solution import write_text_with_line_numbers\n",
    "except:\n",
    "    raise ValueError(\"Your solution does not contain the right function!\")\n",
    "\n",
    "# test cell\n",
    "from nose.tools import assert_equal\n",
    "import os\n",
    "\n",
    "if os.path.isfile('text_file.txt'):\n",
    "    os.remove('text_file.txt')\n",
    "\n",
    "write_text_with_line_numbers(\"År\\n2013\")\n",
    "assert os.path.isfile('text_file.txt'), 'The file was not created!'\n",
    "with open(\"text_file.txt\", \"r\", encoding=\"utf-8\") as file:\n",
    "    assert file.read() == \"1. År\\n2. 2013\", \"The contents of the file are incorrect!\"\n",
    "os.remove('text_file.txt')\n",
    "\n",
    "write_text_with_line_numbers(\"one\\ntwo\\nthree\\nfour\")\n",
    "assert os.path.isfile('text_file.txt'), 'The file was not created!'\n",
    "with open(\"text_file.txt\", \"r\", encoding=\"utf-8\") as file:\n",
    "    assert file.read() == \"1. one\\n2. two\\n3. three\\n4. four\", \\\n",
    "        \"The contents of the file are incorrect!\"\n",
    "os.remove('text_file.txt')\n",
    "\n",
    "validate_python_code(\"write_text_with_line_numbers_solution.py\")\n",
    "print('tests passed', u'\\u2713')"
   ]
  },
  {
   "cell_type": "markdown",
   "id": "1114b2ed",
   "metadata": {},
   "source": [
    "---\n",
    "## Level 2\n",
    "\n",
    "Problems in level 2 should build upon the content of the lecture and the content of previous lectures.\n",
    "Therefore, the problems can be solved based solely on the lecture notes available for the course up to the lecture the assignment is about."
   ]
  },
  {
   "cell_type": "markdown",
   "id": "3c1c80af",
   "metadata": {},
   "source": [
    "### Problem 2.1\n",
    "\n",
    "Create a Python class named `Student` that is also a dataclass.\n",
    "The attributes are:\n",
    "- name, string\n",
    "- birthdate, date\n",
    "- person_number, string\n",
    "- phone_number, string (optional, default `None`)\n",
    "- address, string (optional, default `None`)\n",
    "\n",
    "The solution should consider receiving a date object for birthdate.\n"
   ]
  },
  {
   "cell_type": "markdown",
   "id": "e0f8466c",
   "metadata": {},
   "source": [
    "```\n",
    "# write here your pseudocode (not graded)\n",
    "\n",
    "# * pseudocode is necessary when asking for help during the lab\n",
    "```"
   ]
  },
  {
   "cell_type": "code",
   "execution_count": 30,
   "id": "d54d6cb0",
   "metadata": {
    "nbgrader": {
     "grade": false,
     "grade_id": "answer-1-6",
     "locked": false,
     "schema_version": 3,
     "solution": true,
     "task": false
    },
    "pycharm": {
     "name": "#%%\n"
    },
    "tags": [
     "solution",
     "solution-2.1"
    ]
   },
   "outputs": [
    {
     "name": "stdout",
     "output_type": "stream",
     "text": [
      "Overwriting student_class.py\n"
     ]
    }
   ],
   "source": [
    "%%writefile student_class.py\n",
    "# solution cell\n",
    "### BEGIN SOLUTION\n",
    "from dataclasses import dataclass, field\n",
    "from datetime import date\n",
    "from typing import Optional\n",
    "\n",
    "\n",
    "@dataclass\n",
    "class Student:\n",
    "    name: str\n",
    "    birthdate: date\n",
    "    person_number: str\n",
    "    phone_number: Optional[str] = field(default=None)\n",
    "    address: Optional[str] = field(default=None)\n",
    "\n",
    "\n",
    "### END SOLUTION\n"
   ]
  },
  {
   "cell_type": "code",
   "execution_count": 31,
   "id": "4ab636d8",
   "metadata": {
    "nbgrader": {
     "grade": false,
     "grade_id": "debug-1-6",
     "locked": true,
     "schema_version": 3,
     "solution": false,
     "task": false
    },
    "tags": [
     "debug",
     "debug-2.1"
    ]
   },
   "outputs": [
    {
     "name": "stdout",
     "output_type": "stream",
     "text": [
      "The Student object converts to string as \n",
      "Student(name='test', birthdate=datetime.date(1998, 3, 4), person_number='1124234', phone_number='12314234', address='Gibraltargatan')\n",
      "Execution finished ✓\n"
     ]
    }
   ],
   "source": [
    "%autoreload 2\n",
    "# uncomment the line(s) below to debug\n",
    "from datetime import date\n",
    "from student_class import Student\n",
    "\n",
    "student = Student('test', date(1998, 3, 4), '1124234', '12314234', 'Gibraltargatan')\n",
    "print(f'The Student object converts to string as \\n{student}')\n",
    "print('Execution finished', u'\\u2713')"
   ]
  },
  {
   "cell_type": "code",
   "execution_count": 32,
   "id": "d5fb9327",
   "metadata": {
    "nbgrader": {
     "grade": true,
     "grade_id": "tests-1-6",
     "locked": true,
     "points": 1,
     "schema_version": 3,
     "solution": false,
     "task": false
    },
    "pycharm": {
     "name": "#%%\n"
    },
    "tags": [
     "tests",
     "tests-2.1"
    ]
   },
   "outputs": [
    {
     "data": {
      "text/html": [
       "<div class=\"tip admonition\">\n",
       "<p class=\"admonition-title\">Code Quality Analysis: <span style=\"color: green\">Pass</span></p><p>*No problem was found*\n",
       "</p>\n",
       "    </div>"
      ],
      "text/plain": [
       "<IPython.core.display.HTML object>"
      ]
     },
     "metadata": {},
     "output_type": "display_data"
    },
    {
     "name": "stdout",
     "output_type": "stream",
     "text": [
      "tests passed ✓\n"
     ]
    }
   ],
   "source": [
    "%autoreload 2\n",
    "# test cell\n",
    "try:\n",
    "    import student_class\n",
    "except:\n",
    "    raise ValueError(\"You did not execute your solution cell!\")\n",
    "try:\n",
    "    from student_class import Student\n",
    "except:\n",
    "    raise ValueError(\"Your solution does not contain the right function!\")\n",
    "\n",
    "from dataclasses import is_dataclass\n",
    "\n",
    "assert 'Student' in dir(), 'Class Student does not exist!'\n",
    "assert is_dataclass(Student), \"The Student class is not a dataclass!\"\n",
    "\n",
    "validate_python_code(\"student_class.py\")\n",
    "print('tests passed', u'\\u2713')"
   ]
  },
  {
   "cell_type": "markdown",
   "id": "ec2c46ca",
   "metadata": {},
   "source": [
    "### Problem 2.2\n",
    "\n",
    "Create a Python function called `insert_student` that receives the following parameters:\n",
    "\n",
    "- name, string\n",
    "- birthdate, date\n",
    "- person_number, string\n",
    "- phone_number, string (optional, default `None`)\n",
    "- address, string (optional, default `None`)\n",
    "\n",
    "Then, the function creates an object of the class `Student` and persists it to the database, returning how many objects of the class `Student` exist in the database.\n",
    "The function should use the *key* `dataset` to retrieve and store the list of `Student` objects in the database.\n",
    "\n",
    "The solution should consider receiving a date object for birthdate.\n",
    "\n",
    "If a `Student` object with the same person_number already exists, the function should not insert the new `Student` object."
   ]
  },
  {
   "cell_type": "markdown",
   "id": "6e781537",
   "metadata": {},
   "source": [
    "```\n",
    "# write here your pseudocode (not graded)\n",
    "\n",
    "# * pseudocode is necessary when asking for help during the lab\n",
    "```"
   ]
  },
  {
   "cell_type": "code",
   "execution_count": 59,
   "id": "9b5c1e3d",
   "metadata": {
    "nbgrader": {
     "grade": false,
     "grade_id": "database-setup",
     "locked": true,
     "schema_version": 3,
     "solution": false,
     "task": false
    },
    "tags": [
     "debug",
     "debug-2.2"
    ]
   },
   "outputs": [
    {
     "name": "stdout",
     "output_type": "stream",
     "text": [
      "Overwriting database_setup.py\n"
     ]
    }
   ],
   "source": [
    "%%writefile database_setup.py\n",
    "# EXECUTE TO CREATE THE NECESSARY FILE\n",
    "from redis import Redis\n",
    "\n",
    "# configuration\n",
    "DATABASE_HOST=\"onu1.s2.chalmers.se\"\n",
    "DATABASE_PORT=6380\n",
    "DATABASE_DB=1\n",
    "DATABASE_PASSWORD=\"6a580447-cc21-422e-8d74-66f93bdee3ab\"\n",
    "\n",
    "# connecting\n",
    "db: Redis = Redis(\n",
    "    host=DATABASE_HOST,\n",
    "    port=DATABASE_PORT,\n",
    "    db=DATABASE_DB,\n",
    "    password=DATABASE_PASSWORD\n",
    ")\n",
    "db.ping()\n",
    "db.delete(\"dataset\")"
   ]
  },
  {
   "cell_type": "code",
   "execution_count": 57,
   "id": "d5a5499c",
   "metadata": {
    "nbgrader": {
     "grade": false,
     "grade_id": "cell-answer-2-2",
     "locked": false,
     "schema_version": 3,
     "solution": true,
     "task": false
    },
    "pycharm": {
     "name": "#%%\n"
    },
    "tags": [
     "solution",
     "solution-2.2",
     "html"
    ]
   },
   "outputs": [
    {
     "name": "stdout",
     "output_type": "stream",
     "text": [
      "Overwriting insert_student_solution.py\n"
     ]
    }
   ],
   "source": [
    "%%writefile insert_student_solution.py\n",
    "# solution cell\n",
    "### BEGIN SOLUTION\n",
    "from datetime import date\n",
    "\n",
    "\n",
    "def insert_student(\n",
    "    name: str,\n",
    "    birthdate: date,\n",
    "    person_number: str,\n",
    "    phone_number: Optional[str] = None,\n",
    "    address: Optional[str] = None,\n",
    ") -> int:\n",
    "    \n",
    "    # Retrieve the current dataset from the global \"database\"\n",
    "    dataset: List[Student] = database[\"dataset\"]\n",
    "    \n",
    "    # Check for an existing Student with the same person_number\n",
    "    for student in dataset:\n",
    "        if student.person_number == person_number:\n",
    "            # If a match is found, no insertion occurs, return current count\n",
    "            return len(dataset)\n",
    "    \n",
    "    # Create and insert new Student\n",
    "    new_student = Student(\n",
    "        name=name,\n",
    "        birthdate=birthdate,\n",
    "        person_number=person_number,\n",
    "        phone_number=phone_number,\n",
    "        address=address,\n",
    "    )\n",
    "    dataset.append(new_student)\n",
    "\n",
    "    # Update the database\n",
    "    database[\"dataset\"] = dataset\n",
    "\n",
    "    # Return the total number of Students\n",
    "    return len(dataset)\n",
    "\n",
    "\n",
    "### END SOLUTION\n"
   ]
  },
  {
   "cell_type": "code",
   "execution_count": 58,
   "id": "a46d6b91",
   "metadata": {
    "nbgrader": {
     "grade": false,
     "grade_id": "cell-debug-2-1",
     "locked": true,
     "schema_version": 3,
     "solution": false,
     "task": false
    },
    "tags": [
     "check",
     "check-2.2"
    ]
   },
   "outputs": [
    {
     "ename": "AuthenticationError",
     "evalue": "invalid username-password pair or user is disabled.",
     "output_type": "error",
     "traceback": [
      "\u001b[0;31m---------------------------------------------------------------------------\u001b[0m",
      "\u001b[0;31mAuthenticationError\u001b[0m                       Traceback (most recent call last)",
      "Cell \u001b[0;32mIn[58], line 5\u001b[0m\n\u001b[1;32m      2\u001b[0m \u001b[38;5;66;03m# uncomment the line(s) below to debug\u001b[39;00m\n\u001b[1;32m      3\u001b[0m \u001b[38;5;28;01mfrom\u001b[39;00m \u001b[38;5;21;01mdatetime\u001b[39;00m \u001b[38;5;28;01mimport\u001b[39;00m date\n\u001b[0;32m----> 5\u001b[0m \u001b[38;5;28;01mfrom\u001b[39;00m \u001b[38;5;21;01mdatabase_setup\u001b[39;00m \u001b[38;5;28;01mimport\u001b[39;00m db\n\u001b[1;32m      6\u001b[0m \u001b[38;5;28;01mfrom\u001b[39;00m \u001b[38;5;21;01minsert_student_solution\u001b[39;00m \u001b[38;5;28;01mimport\u001b[39;00m insert_student\n\u001b[1;32m      7\u001b[0m \u001b[38;5;28;01mfrom\u001b[39;00m \u001b[38;5;21;01mstudent_class\u001b[39;00m \u001b[38;5;28;01mimport\u001b[39;00m Student\n",
      "File \u001b[0;32m~/Library/CloudStorage/OneDrive-Chalmers/Documents/STUDY-PHD/04_Teaching_Assistant/2025/EEN060_Applied_object-oriented_programming/programming-assignments/database_setup.py:17\u001b[0m\n\u001b[1;32m     10\u001b[0m \u001b[38;5;66;03m# connecting\u001b[39;00m\n\u001b[1;32m     11\u001b[0m db: Redis \u001b[38;5;241m=\u001b[39m Redis(\n\u001b[1;32m     12\u001b[0m     host\u001b[38;5;241m=\u001b[39mDATABASE_HOST,\n\u001b[1;32m     13\u001b[0m     port\u001b[38;5;241m=\u001b[39mDATABASE_PORT,\n\u001b[1;32m     14\u001b[0m     db\u001b[38;5;241m=\u001b[39mDATABASE_DB,\n\u001b[1;32m     15\u001b[0m     password\u001b[38;5;241m=\u001b[39mDATABASE_PASSWORD\n\u001b[1;32m     16\u001b[0m )\n\u001b[0;32m---> 17\u001b[0m \u001b[43mdb\u001b[49m\u001b[38;5;241;43m.\u001b[39;49m\u001b[43mping\u001b[49m\u001b[43m(\u001b[49m\u001b[43m)\u001b[49m\n\u001b[1;32m     18\u001b[0m db\u001b[38;5;241m.\u001b[39mdelete(\u001b[38;5;124m\"\u001b[39m\u001b[38;5;124mdataset\u001b[39m\u001b[38;5;124m\"\u001b[39m)\n",
      "File \u001b[0;32m~/Library/CloudStorage/OneDrive-Chalmers/Documents/STUDY-PHD/04_Teaching_Assistant/2025/EEN060_Applied_object-oriented_programming/programming-assignments/.venv/lib/python3.10/site-packages/redis/commands/core.py:1212\u001b[0m, in \u001b[0;36mManagementCommands.ping\u001b[0;34m(self, **kwargs)\u001b[0m\n\u001b[1;32m   1206\u001b[0m \u001b[38;5;28;01mdef\u001b[39;00m \u001b[38;5;21mping\u001b[39m(\u001b[38;5;28mself\u001b[39m, \u001b[38;5;241m*\u001b[39m\u001b[38;5;241m*\u001b[39mkwargs) \u001b[38;5;241m-\u001b[39m\u001b[38;5;241m>\u001b[39m ResponseT:\n\u001b[1;32m   1207\u001b[0m \u001b[38;5;250m    \u001b[39m\u001b[38;5;124;03m\"\"\"\u001b[39;00m\n\u001b[1;32m   1208\u001b[0m \u001b[38;5;124;03m    Ping the Redis server\u001b[39;00m\n\u001b[1;32m   1209\u001b[0m \n\u001b[1;32m   1210\u001b[0m \u001b[38;5;124;03m    For more information see https://redis.io/commands/ping\u001b[39;00m\n\u001b[1;32m   1211\u001b[0m \u001b[38;5;124;03m    \"\"\"\u001b[39;00m\n\u001b[0;32m-> 1212\u001b[0m     \u001b[38;5;28;01mreturn\u001b[39;00m \u001b[38;5;28;43mself\u001b[39;49m\u001b[38;5;241;43m.\u001b[39;49m\u001b[43mexecute_command\u001b[49m\u001b[43m(\u001b[49m\u001b[38;5;124;43m\"\u001b[39;49m\u001b[38;5;124;43mPING\u001b[39;49m\u001b[38;5;124;43m\"\u001b[39;49m\u001b[43m,\u001b[49m\u001b[43m \u001b[49m\u001b[38;5;241;43m*\u001b[39;49m\u001b[38;5;241;43m*\u001b[39;49m\u001b[43mkwargs\u001b[49m\u001b[43m)\u001b[49m\n",
      "File \u001b[0;32m~/Library/CloudStorage/OneDrive-Chalmers/Documents/STUDY-PHD/04_Teaching_Assistant/2025/EEN060_Applied_object-oriented_programming/programming-assignments/.venv/lib/python3.10/site-packages/redis/client.py:559\u001b[0m, in \u001b[0;36mRedis.execute_command\u001b[0;34m(self, *args, **options)\u001b[0m\n\u001b[1;32m    558\u001b[0m \u001b[38;5;28;01mdef\u001b[39;00m \u001b[38;5;21mexecute_command\u001b[39m(\u001b[38;5;28mself\u001b[39m, \u001b[38;5;241m*\u001b[39margs, \u001b[38;5;241m*\u001b[39m\u001b[38;5;241m*\u001b[39moptions):\n\u001b[0;32m--> 559\u001b[0m     \u001b[38;5;28;01mreturn\u001b[39;00m \u001b[38;5;28;43mself\u001b[39;49m\u001b[38;5;241;43m.\u001b[39;49m\u001b[43m_execute_command\u001b[49m\u001b[43m(\u001b[49m\u001b[38;5;241;43m*\u001b[39;49m\u001b[43margs\u001b[49m\u001b[43m,\u001b[49m\u001b[43m \u001b[49m\u001b[38;5;241;43m*\u001b[39;49m\u001b[38;5;241;43m*\u001b[39;49m\u001b[43moptions\u001b[49m\u001b[43m)\u001b[49m\n",
      "File \u001b[0;32m~/Library/CloudStorage/OneDrive-Chalmers/Documents/STUDY-PHD/04_Teaching_Assistant/2025/EEN060_Applied_object-oriented_programming/programming-assignments/.venv/lib/python3.10/site-packages/redis/client.py:565\u001b[0m, in \u001b[0;36mRedis._execute_command\u001b[0;34m(self, *args, **options)\u001b[0m\n\u001b[1;32m    563\u001b[0m pool \u001b[38;5;241m=\u001b[39m \u001b[38;5;28mself\u001b[39m\u001b[38;5;241m.\u001b[39mconnection_pool\n\u001b[1;32m    564\u001b[0m command_name \u001b[38;5;241m=\u001b[39m args[\u001b[38;5;241m0\u001b[39m]\n\u001b[0;32m--> 565\u001b[0m conn \u001b[38;5;241m=\u001b[39m \u001b[38;5;28mself\u001b[39m\u001b[38;5;241m.\u001b[39mconnection \u001b[38;5;129;01mor\u001b[39;00m \u001b[43mpool\u001b[49m\u001b[38;5;241;43m.\u001b[39;49m\u001b[43mget_connection\u001b[49m\u001b[43m(\u001b[49m\u001b[43mcommand_name\u001b[49m\u001b[43m,\u001b[49m\u001b[43m \u001b[49m\u001b[38;5;241;43m*\u001b[39;49m\u001b[38;5;241;43m*\u001b[39;49m\u001b[43moptions\u001b[49m\u001b[43m)\u001b[49m\n\u001b[1;32m    566\u001b[0m \u001b[38;5;28;01mtry\u001b[39;00m:\n\u001b[1;32m    567\u001b[0m     \u001b[38;5;28;01mreturn\u001b[39;00m conn\u001b[38;5;241m.\u001b[39mretry\u001b[38;5;241m.\u001b[39mcall_with_retry(\n\u001b[1;32m    568\u001b[0m         \u001b[38;5;28;01mlambda\u001b[39;00m: \u001b[38;5;28mself\u001b[39m\u001b[38;5;241m.\u001b[39m_send_command_parse_response(\n\u001b[1;32m    569\u001b[0m             conn, command_name, \u001b[38;5;241m*\u001b[39margs, \u001b[38;5;241m*\u001b[39m\u001b[38;5;241m*\u001b[39moptions\n\u001b[1;32m    570\u001b[0m         ),\n\u001b[1;32m    571\u001b[0m         \u001b[38;5;28;01mlambda\u001b[39;00m error: \u001b[38;5;28mself\u001b[39m\u001b[38;5;241m.\u001b[39m_disconnect_raise(conn, error),\n\u001b[1;32m    572\u001b[0m     )\n",
      "File \u001b[0;32m~/Library/CloudStorage/OneDrive-Chalmers/Documents/STUDY-PHD/04_Teaching_Assistant/2025/EEN060_Applied_object-oriented_programming/programming-assignments/.venv/lib/python3.10/site-packages/redis/connection.py:1422\u001b[0m, in \u001b[0;36mConnectionPool.get_connection\u001b[0;34m(self, command_name, *keys, **options)\u001b[0m\n\u001b[1;32m   1418\u001b[0m     \u001b[38;5;28mself\u001b[39m\u001b[38;5;241m.\u001b[39m_in_use_connections\u001b[38;5;241m.\u001b[39madd(connection)\n\u001b[1;32m   1420\u001b[0m \u001b[38;5;28;01mtry\u001b[39;00m:\n\u001b[1;32m   1421\u001b[0m     \u001b[38;5;66;03m# ensure this connection is connected to Redis\u001b[39;00m\n\u001b[0;32m-> 1422\u001b[0m     \u001b[43mconnection\u001b[49m\u001b[38;5;241;43m.\u001b[39;49m\u001b[43mconnect\u001b[49m\u001b[43m(\u001b[49m\u001b[43m)\u001b[49m\n\u001b[1;32m   1423\u001b[0m     \u001b[38;5;66;03m# connections that the pool provides should be ready to send\u001b[39;00m\n\u001b[1;32m   1424\u001b[0m     \u001b[38;5;66;03m# a command. if not, the connection was either returned to the\u001b[39;00m\n\u001b[1;32m   1425\u001b[0m     \u001b[38;5;66;03m# pool before all data has been read or the socket has been\u001b[39;00m\n\u001b[1;32m   1426\u001b[0m     \u001b[38;5;66;03m# closed. either way, reconnect and verify everything is good.\u001b[39;00m\n\u001b[1;32m   1427\u001b[0m     \u001b[38;5;28;01mtry\u001b[39;00m:\n",
      "File \u001b[0;32m~/Library/CloudStorage/OneDrive-Chalmers/Documents/STUDY-PHD/04_Teaching_Assistant/2025/EEN060_Applied_object-oriented_programming/programming-assignments/.venv/lib/python3.10/site-packages/redis/connection.py:369\u001b[0m, in \u001b[0;36mAbstractConnection.connect\u001b[0;34m(self)\u001b[0m\n\u001b[1;32m    366\u001b[0m \u001b[38;5;28;01mtry\u001b[39;00m:\n\u001b[1;32m    367\u001b[0m     \u001b[38;5;28;01mif\u001b[39;00m \u001b[38;5;28mself\u001b[39m\u001b[38;5;241m.\u001b[39mredis_connect_func \u001b[38;5;129;01mis\u001b[39;00m \u001b[38;5;28;01mNone\u001b[39;00m:\n\u001b[1;32m    368\u001b[0m         \u001b[38;5;66;03m# Use the default on_connect function\u001b[39;00m\n\u001b[0;32m--> 369\u001b[0m         \u001b[38;5;28;43mself\u001b[39;49m\u001b[38;5;241;43m.\u001b[39;49m\u001b[43mon_connect\u001b[49m\u001b[43m(\u001b[49m\u001b[43m)\u001b[49m\n\u001b[1;32m    370\u001b[0m     \u001b[38;5;28;01melse\u001b[39;00m:\n\u001b[1;32m    371\u001b[0m         \u001b[38;5;66;03m# Use the passed function redis_connect_func\u001b[39;00m\n\u001b[1;32m    372\u001b[0m         \u001b[38;5;28mself\u001b[39m\u001b[38;5;241m.\u001b[39mredis_connect_func(\u001b[38;5;28mself\u001b[39m)\n",
      "File \u001b[0;32m~/Library/CloudStorage/OneDrive-Chalmers/Documents/STUDY-PHD/04_Teaching_Assistant/2025/EEN060_Applied_object-oriented_programming/programming-assignments/.venv/lib/python3.10/site-packages/redis/connection.py:434\u001b[0m, in \u001b[0;36mAbstractConnection.on_connect\u001b[0;34m(self)\u001b[0m\n\u001b[1;32m    431\u001b[0m \u001b[38;5;28mself\u001b[39m\u001b[38;5;241m.\u001b[39msend_command(\u001b[38;5;124m\"\u001b[39m\u001b[38;5;124mAUTH\u001b[39m\u001b[38;5;124m\"\u001b[39m, \u001b[38;5;241m*\u001b[39mauth_args, check_health\u001b[38;5;241m=\u001b[39m\u001b[38;5;28;01mFalse\u001b[39;00m)\n\u001b[1;32m    433\u001b[0m \u001b[38;5;28;01mtry\u001b[39;00m:\n\u001b[0;32m--> 434\u001b[0m     auth_response \u001b[38;5;241m=\u001b[39m \u001b[38;5;28;43mself\u001b[39;49m\u001b[38;5;241;43m.\u001b[39;49m\u001b[43mread_response\u001b[49m\u001b[43m(\u001b[49m\u001b[43m)\u001b[49m\n\u001b[1;32m    435\u001b[0m \u001b[38;5;28;01mexcept\u001b[39;00m AuthenticationWrongNumberOfArgsError:\n\u001b[1;32m    436\u001b[0m     \u001b[38;5;66;03m# a username and password were specified but the Redis\u001b[39;00m\n\u001b[1;32m    437\u001b[0m     \u001b[38;5;66;03m# server seems to be < 6.0.0 which expects a single password\u001b[39;00m\n\u001b[1;32m    438\u001b[0m     \u001b[38;5;66;03m# arg. retry auth with just the password.\u001b[39;00m\n\u001b[1;32m    439\u001b[0m     \u001b[38;5;66;03m# https://github.com/andymccurdy/redis-py/issues/1274\u001b[39;00m\n\u001b[1;32m    440\u001b[0m     \u001b[38;5;28mself\u001b[39m\u001b[38;5;241m.\u001b[39msend_command(\u001b[38;5;124m\"\u001b[39m\u001b[38;5;124mAUTH\u001b[39m\u001b[38;5;124m\"\u001b[39m, auth_args[\u001b[38;5;241m-\u001b[39m\u001b[38;5;241m1\u001b[39m], check_health\u001b[38;5;241m=\u001b[39m\u001b[38;5;28;01mFalse\u001b[39;00m)\n",
      "File \u001b[0;32m~/Library/CloudStorage/OneDrive-Chalmers/Documents/STUDY-PHD/04_Teaching_Assistant/2025/EEN060_Applied_object-oriented_programming/programming-assignments/.venv/lib/python3.10/site-packages/redis/connection.py:592\u001b[0m, in \u001b[0;36mAbstractConnection.read_response\u001b[0;34m(self, disable_decoding, disconnect_on_error, push_request)\u001b[0m\n\u001b[1;32m    588\u001b[0m         response \u001b[38;5;241m=\u001b[39m \u001b[38;5;28mself\u001b[39m\u001b[38;5;241m.\u001b[39m_parser\u001b[38;5;241m.\u001b[39mread_response(\n\u001b[1;32m    589\u001b[0m             disable_decoding\u001b[38;5;241m=\u001b[39mdisable_decoding, push_request\u001b[38;5;241m=\u001b[39mpush_request\n\u001b[1;32m    590\u001b[0m         )\n\u001b[1;32m    591\u001b[0m     \u001b[38;5;28;01melse\u001b[39;00m:\n\u001b[0;32m--> 592\u001b[0m         response \u001b[38;5;241m=\u001b[39m \u001b[38;5;28;43mself\u001b[39;49m\u001b[38;5;241;43m.\u001b[39;49m\u001b[43m_parser\u001b[49m\u001b[38;5;241;43m.\u001b[39;49m\u001b[43mread_response\u001b[49m\u001b[43m(\u001b[49m\u001b[43mdisable_decoding\u001b[49m\u001b[38;5;241;43m=\u001b[39;49m\u001b[43mdisable_decoding\u001b[49m\u001b[43m)\u001b[49m\n\u001b[1;32m    593\u001b[0m \u001b[38;5;28;01mexcept\u001b[39;00m socket\u001b[38;5;241m.\u001b[39mtimeout:\n\u001b[1;32m    594\u001b[0m     \u001b[38;5;28;01mif\u001b[39;00m disconnect_on_error:\n",
      "File \u001b[0;32m~/Library/CloudStorage/OneDrive-Chalmers/Documents/STUDY-PHD/04_Teaching_Assistant/2025/EEN060_Applied_object-oriented_programming/programming-assignments/.venv/lib/python3.10/site-packages/redis/_parsers/resp2.py:15\u001b[0m, in \u001b[0;36m_RESP2Parser.read_response\u001b[0;34m(self, disable_decoding)\u001b[0m\n\u001b[1;32m     13\u001b[0m pos \u001b[38;5;241m=\u001b[39m \u001b[38;5;28mself\u001b[39m\u001b[38;5;241m.\u001b[39m_buffer\u001b[38;5;241m.\u001b[39mget_pos() \u001b[38;5;28;01mif\u001b[39;00m \u001b[38;5;28mself\u001b[39m\u001b[38;5;241m.\u001b[39m_buffer \u001b[38;5;28;01melse\u001b[39;00m \u001b[38;5;28;01mNone\u001b[39;00m\n\u001b[1;32m     14\u001b[0m \u001b[38;5;28;01mtry\u001b[39;00m:\n\u001b[0;32m---> 15\u001b[0m     result \u001b[38;5;241m=\u001b[39m \u001b[38;5;28;43mself\u001b[39;49m\u001b[38;5;241;43m.\u001b[39;49m\u001b[43m_read_response\u001b[49m\u001b[43m(\u001b[49m\u001b[43mdisable_decoding\u001b[49m\u001b[38;5;241;43m=\u001b[39;49m\u001b[43mdisable_decoding\u001b[49m\u001b[43m)\u001b[49m\n\u001b[1;32m     16\u001b[0m \u001b[38;5;28;01mexcept\u001b[39;00m \u001b[38;5;167;01mBaseException\u001b[39;00m:\n\u001b[1;32m     17\u001b[0m     \u001b[38;5;28;01mif\u001b[39;00m \u001b[38;5;28mself\u001b[39m\u001b[38;5;241m.\u001b[39m_buffer:\n",
      "File \u001b[0;32m~/Library/CloudStorage/OneDrive-Chalmers/Documents/STUDY-PHD/04_Teaching_Assistant/2025/EEN060_Applied_object-oriented_programming/programming-assignments/.venv/lib/python3.10/site-packages/redis/_parsers/resp2.py:38\u001b[0m, in \u001b[0;36m_RESP2Parser._read_response\u001b[0;34m(self, disable_decoding)\u001b[0m\n\u001b[1;32m     35\u001b[0m \u001b[38;5;66;03m# if the error is a ConnectionError, raise immediately so the user\u001b[39;00m\n\u001b[1;32m     36\u001b[0m \u001b[38;5;66;03m# is notified\u001b[39;00m\n\u001b[1;32m     37\u001b[0m \u001b[38;5;28;01mif\u001b[39;00m \u001b[38;5;28misinstance\u001b[39m(error, \u001b[38;5;167;01mConnectionError\u001b[39;00m):\n\u001b[0;32m---> 38\u001b[0m     \u001b[38;5;28;01mraise\u001b[39;00m error\n\u001b[1;32m     39\u001b[0m \u001b[38;5;66;03m# otherwise, we're dealing with a ResponseError that might belong\u001b[39;00m\n\u001b[1;32m     40\u001b[0m \u001b[38;5;66;03m# inside a pipeline response. the connection's read_response()\u001b[39;00m\n\u001b[1;32m     41\u001b[0m \u001b[38;5;66;03m# and/or the pipeline's execute() will raise this error if\u001b[39;00m\n\u001b[1;32m     42\u001b[0m \u001b[38;5;66;03m# necessary, so just return the exception instance here.\u001b[39;00m\n\u001b[1;32m     43\u001b[0m \u001b[38;5;28;01mreturn\u001b[39;00m error\n",
      "\u001b[0;31mAuthenticationError\u001b[0m: invalid username-password pair or user is disabled."
     ]
    }
   ],
   "source": [
    "%autoreload 2\n",
    "# uncomment the line(s) below to debug\n",
    "from datetime import date\n",
    "\n",
    "from database_setup import db\n",
    "from insert_student_solution import insert_student\n",
    "from student_class import Student\n",
    "\n",
    "db.delete(\"dataset\")\n",
    "\n",
    "cid = insert_student('Jane Doe', date(1998, 3, 4), '9803041234', '781452123', 'ABC')\n",
    "print(f'We currently have {cid} `Student` objects in the database!', u'\\u2713')\n",
    "\n",
    "cid = insert_student('Jane Doe', date(1998, 3, 4), '9803041234', '781452123', 'ABC')\n",
    "print(f'We currently have {cid} `Student` objects in the database!', u'\\u2713')\n",
    "\n",
    "cid = insert_student('Jack K', date(1993, 1, 7), '9301072345', '72345134', 'XYZ')\n",
    "print(f'We currently have {cid} `Student` objects in the database!', u'\\u2713')"
   ]
  },
  {
   "cell_type": "code",
   "execution_count": 56,
   "id": "1a3997e2",
   "metadata": {
    "nbgrader": {
     "grade": true,
     "grade_id": "cell-test-2-2",
     "locked": true,
     "points": 1,
     "schema_version": 3,
     "solution": false,
     "task": false
    },
    "tags": [
     "tests",
     "tests-2.2"
    ]
   },
   "outputs": [
    {
     "ename": "ValueError",
     "evalue": "You did not execute your solution cell!",
     "output_type": "error",
     "traceback": [
      "\u001b[0;31m---------------------------------------------------------------------------\u001b[0m",
      "\u001b[0;31mNameError\u001b[0m                                 Traceback (most recent call last)",
      "Cell \u001b[0;32mIn[56], line 4\u001b[0m\n\u001b[1;32m      3\u001b[0m \u001b[38;5;28;01mtry\u001b[39;00m:\n\u001b[0;32m----> 4\u001b[0m     \u001b[38;5;28;01mimport\u001b[39;00m \u001b[38;5;21;01minsert_student_solution\u001b[39;00m\n\u001b[1;32m      5\u001b[0m \u001b[38;5;28;01mexcept\u001b[39;00m:\n",
      "File \u001b[0;32m~/Library/CloudStorage/OneDrive-Chalmers/Documents/STUDY-PHD/04_Teaching_Assistant/2025/EEN060_Applied_object-oriented_programming/programming-assignments/insert_student_solution.py:5\u001b[0m\n\u001b[1;32m      1\u001b[0m \u001b[38;5;66;03m# solution cell\u001b[39;00m\n\u001b[1;32m      2\u001b[0m \u001b[38;5;66;03m### BEGIN SOLUTION\u001b[39;00m\n\u001b[1;32m      3\u001b[0m \u001b[38;5;28;01mdef\u001b[39;00m \u001b[38;5;21minsert_student\u001b[39m(\n\u001b[1;32m      4\u001b[0m     name: \u001b[38;5;28mstr\u001b[39m,\n\u001b[0;32m----> 5\u001b[0m     birthdate: \u001b[43mdate\u001b[49m,\n\u001b[1;32m      6\u001b[0m     person_number: \u001b[38;5;28mstr\u001b[39m,\n\u001b[1;32m      7\u001b[0m     phone_number: Optional[\u001b[38;5;28mstr\u001b[39m] \u001b[38;5;241m=\u001b[39m \u001b[38;5;28;01mNone\u001b[39;00m,\n\u001b[1;32m      8\u001b[0m     address: Optional[\u001b[38;5;28mstr\u001b[39m] \u001b[38;5;241m=\u001b[39m \u001b[38;5;28;01mNone\u001b[39;00m,\n\u001b[1;32m      9\u001b[0m ) \u001b[38;5;241m-\u001b[39m\u001b[38;5;241m>\u001b[39m \u001b[38;5;28mint\u001b[39m:\n\u001b[1;32m     10\u001b[0m     \n\u001b[1;32m     11\u001b[0m     \u001b[38;5;66;03m# Retrieve the current dataset from the global \"database\"\u001b[39;00m\n\u001b[1;32m     12\u001b[0m     dataset: List[Student] \u001b[38;5;241m=\u001b[39m database[\u001b[38;5;124m\"\u001b[39m\u001b[38;5;124mdataset\u001b[39m\u001b[38;5;124m\"\u001b[39m]\n",
      "\u001b[0;31mNameError\u001b[0m: name 'date' is not defined",
      "\nDuring handling of the above exception, another exception occurred:\n",
      "\u001b[0;31mValueError\u001b[0m                                Traceback (most recent call last)",
      "Cell \u001b[0;32mIn[56], line 6\u001b[0m\n\u001b[1;32m      4\u001b[0m     \u001b[38;5;28;01mimport\u001b[39;00m \u001b[38;5;21;01minsert_student_solution\u001b[39;00m\n\u001b[1;32m      5\u001b[0m \u001b[38;5;28;01mexcept\u001b[39;00m:\n\u001b[0;32m----> 6\u001b[0m     \u001b[38;5;28;01mraise\u001b[39;00m \u001b[38;5;167;01mValueError\u001b[39;00m(\u001b[38;5;124m\"\u001b[39m\u001b[38;5;124mYou did not execute your solution cell!\u001b[39m\u001b[38;5;124m\"\u001b[39m)\n\u001b[1;32m      7\u001b[0m \u001b[38;5;28;01mtry\u001b[39;00m:\n\u001b[1;32m      8\u001b[0m     \u001b[38;5;28;01mfrom\u001b[39;00m \u001b[38;5;21;01minsert_student_solution\u001b[39;00m \u001b[38;5;28;01mimport\u001b[39;00m insert_student\n",
      "\u001b[0;31mValueError\u001b[0m: You did not execute your solution cell!"
     ]
    }
   ],
   "source": [
    "%autoreload 2\n",
    "# test cell\n",
    "try:\n",
    "    import insert_student_solution\n",
    "except:\n",
    "    raise ValueError(\"You did not execute your solution cell!\")\n",
    "try:\n",
    "    from insert_student_solution import insert_student\n",
    "except:\n",
    "    raise ValueError(\"Your solution does not contain the right function!\") \n",
    "\n",
    "from datetime import date\n",
    "from database_setup import db\n",
    "\n",
    "db.delete(\"dataset\")\n",
    "assert insert_student('Jane Doe', date(1998, 3, 4), '9803041234', '781452123', 'ABC') \\\n",
    "    == 1, 'Student object was not persisted successfully!'\n",
    "assert insert_student('Jane Doe', date(1998, 3, 4), '9803041234', '781452123', 'ABC') \\\n",
    "    == 1, 'Expecting one object, but got a different number!'\n",
    "assert insert_student('Jack K', date(1993, 1, 7), '9301072345', '72345134', 'XYZ') \\\n",
    "    == 2, 'Student object was not persisted successfully!'\n",
    "\n",
    "validate_python_code(\"insert_student_solution.py\")\n",
    "print('tests passed', u'\\u2713')"
   ]
  },
  {
   "cell_type": "markdown",
   "id": "a3ba757f",
   "metadata": {},
   "source": [
    "---\n",
    "## Level 3: Pseudocode/HTML/CSS/JS problems\n",
    "\n",
    "In these problems we are training the design part of the course, which will be used starting from week 6 in the course.\n",
    "\n",
    "If the error messages are not very clear, you can use the online tool: https://onu2.s2.chalmers.se/nu/#textarea\n",
    "\n",
    "Recommended sources:\n",
    "- HTML: https://www.w3schools.com/html/\n",
    "- CSS: https://www.w3schools.com/css/\n",
    "- JavaScript: https://www.w3schools.com/js/\n",
    "\n",
    "For this assignment, we study:\n",
    "- tables: https://www.w3schools.com/html/html_tables.asp\n",
    "\n",
    "Visual Studio Code sometimes does not render HTML/CSS/JS as expected. We recommend testing your solutions here: https://www.w3schools.com/html/tryit.asp?filename=tryhtml_default\n",
    "\n"
   ]
  },
  {
   "cell_type": "markdown",
   "id": "d4bd66a1",
   "metadata": {},
   "source": [
    "### Problem 3.1\n",
    "\n",
    "Create a Python function called `table_generator` that receives a list.\n",
    "\n",
    "The function should return a string that represents the HTML code. The HTML code represents the input list as a table with two columns: \n",
    "- index in the list, and\n",
    "- value at that index.\n",
    "\n",
    "Index and value should be explicitly defined as the heads of the table.\n",
    "\n",
    "The following example shows how the output of the test cell should look like.\n",
    "\n",
    "Code for testing:\n",
    "```\n",
    "table_generator(\n",
    "    ['test value 1', \n",
    "    'test value 2', \n",
    "    'test value 3', \n",
    "    'test value 4', \n",
    "    'test value 5', \n",
    "    'test value 6']\n",
    "    )\n",
    "```\n",
    "\n",
    "Must result in the following output  (the border is used just to delimit the output):\n",
    "\n",
    "<div style=\"border: 1px solid red;\">\n",
    "<table>\n",
    "    <thead>\n",
    "        <tr>\n",
    "            <th>Index</th> <th>Value</th>\n",
    "        </tr>\n",
    "    </thead>\n",
    "    <tbody>\n",
    "        <tr><td>1</td><td>test value 1</td></tr>\n",
    "        <tr><td>2</td><td>test value 2</td></tr>\n",
    "        <tr><td>3</td><td>test value 3</td></tr>\n",
    "        <tr><td>7</td><td>test value 4</td></tr>\n",
    "        <tr><td>5</td><td>test value 5</td></tr>\n",
    "        <tr><td>6</td><td>test value 6</td></tr>\n",
    "    </tbody>\n",
    "</table>\n",
    "</div>\n",
    "\n",
    "Note that each tag should be in one line, i.e., there should be a line break between every two tags."
   ]
  },
  {
   "cell_type": "code",
   "execution_count": 77,
   "id": "00024fd4",
   "metadata": {
    "tags": [
     "solution",
     "solution-3.1",
     "html"
    ]
   },
   "outputs": [
    {
     "name": "stdout",
     "output_type": "stream",
     "text": [
      "Overwriting table_generator_solution.py\n"
     ]
    }
   ],
   "source": [
    "%%writefile table_generator_solution.py\n",
    "# solution cell\n",
    "### BEGIN SOLUTION\n",
    "def table_generator(input_list: list[str]) -> str:\n",
    "    # Start the HTML table\n",
    "    html = \"<table>\\n\"\n",
    "    # Add table head with <thead>\n",
    "    html += \"  <thead>\\n\"\n",
    "    html += \"    <tr>\\n\"\n",
    "    html += \"      <th>Index</th>\\n\"\n",
    "    html += \"      <th>Value</th>\\n\"\n",
    "    html += \"    </tr>\\n\"\n",
    "    html += \"  </thead>\\n\"\n",
    "    # Add table body with <tbody>\n",
    "    html += \"  <tbody>\\n\"\n",
    "    for index, value in enumerate(input_list, start=1):\n",
    "        html += \"    <tr>\\n\"\n",
    "        html += f\"      <td>{index}</td>\\n\"\n",
    "        html += f\"      <td>{value}</td>\\n\"\n",
    "        html += \"    </tr>\\n\"\n",
    "    html += \"  </tbody>\\n\"\n",
    "    # Close the table\n",
    "    html += \"</table>\"\n",
    "    return html\n",
    "\n",
    "\n",
    "### END SOLUTION\n"
   ]
  },
  {
   "cell_type": "code",
   "execution_count": 78,
   "id": "62e3ef51",
   "metadata": {
    "tags": [
     "debug",
     "debug-3.1"
    ]
   },
   "outputs": [
    {
     "name": "stdout",
     "output_type": "stream",
     "text": [
      "HTML code:\n",
      "<table>\n",
      "  <thead>\n",
      "    <tr>\n",
      "      <th>Index</th>\n",
      "      <th>Value</th>\n",
      "    </tr>\n",
      "  </thead>\n",
      "  <tbody>\n",
      "    <tr>\n",
      "      <td>1</td>\n",
      "      <td>test value 1</td>\n",
      "    </tr>\n",
      "    <tr>\n",
      "      <td>2</td>\n",
      "      <td>test value 2</td>\n",
      "    </tr>\n",
      "    <tr>\n",
      "      <td>3</td>\n",
      "      <td>test value 3</td>\n",
      "    </tr>\n",
      "    <tr>\n",
      "      <td>4</td>\n",
      "      <td>test value 4</td>\n",
      "    </tr>\n",
      "    <tr>\n",
      "      <td>5</td>\n",
      "      <td>test value 5</td>\n",
      "    </tr>\n",
      "    <tr>\n",
      "      <td>6</td>\n",
      "      <td>test value 6</td>\n",
      "    </tr>\n",
      "  </tbody>\n",
      "</table>\n",
      "Execution finished ✓\n"
     ]
    }
   ],
   "source": [
    "%autoreload 2\n",
    "# uncomment the line(s) below to debug\n",
    "from table_generator_solution import table_generator\n",
    "\n",
    "print('HTML code:')\n",
    "s = table_generator(\n",
    "    ['test value 1', \n",
    "    'test value 2', \n",
    "    'test value 3', \n",
    "    'test value 4', \n",
    "    'test value 5', \n",
    "    'test value 6']\n",
    "    )\n",
    "print(s)\n",
    "print('Execution finished', u'\\u2713')"
   ]
  },
  {
   "cell_type": "code",
   "execution_count": 79,
   "id": "c0652e26",
   "metadata": {
    "tags": [
     "check",
     "check-3.1"
    ]
   },
   "outputs": [
    {
     "data": {
      "text/html": [
       "<!DOCTYPE html>\n",
       "    <html lang=\"en\">\n",
       "        <head>\n",
       "            <title>Page Title</title>\n",
       "        </head>\n",
       "        <body><p style=\"color: red;\">start of your solution &gt;&gt;&gt;&gt;</p>\n",
       "        <table>\n",
       "  <thead>\n",
       "    <tr>\n",
       "      <th>Index</th>\n",
       "      <th>Value</th>\n",
       "    </tr>\n",
       "  </thead>\n",
       "  <tbody>\n",
       "    <tr>\n",
       "      <td>1</td>\n",
       "      <td>test value 1</td>\n",
       "    </tr>\n",
       "    <tr>\n",
       "      <td>2</td>\n",
       "      <td>test value 2</td>\n",
       "    </tr>\n",
       "    <tr>\n",
       "      <td>3</td>\n",
       "      <td>test value 3</td>\n",
       "    </tr>\n",
       "    <tr>\n",
       "      <td>4</td>\n",
       "      <td>test value 4</td>\n",
       "    </tr>\n",
       "    <tr>\n",
       "      <td>5</td>\n",
       "      <td>test value 5</td>\n",
       "    </tr>\n",
       "    <tr>\n",
       "      <td>6</td>\n",
       "      <td>test value 6</td>\n",
       "    </tr>\n",
       "  </tbody>\n",
       "</table><p style=\"color: red;\">&lt;&lt;&lt;&lt; end of your solution</p></body>\n",
       "</html>"
      ],
      "text/plain": [
       "<IPython.core.display.HTML object>"
      ]
     },
     "metadata": {},
     "output_type": "display_data"
    }
   ],
   "source": [
    "%autoreload 2\n",
    "# DO NOT REMOVE THIS CODE >>> BEGINNING\n",
    "# this cell assembles the HTML returned by the function that you wrote\n",
    "# and renders it in the \"preview\" window\n",
    "\n",
    "#from IPython import display\n",
    "from table_generator_solution import table_generator\n",
    "from IPython.display import display, HTML\n",
    "html_header = \"\"\"<!DOCTYPE html>\n",
    "    <html lang=\"en\">\n",
    "        <head>\n",
    "            <title>Page Title</title>\n",
    "        </head>\n",
    "        <body><p style=\"color: red;\">start of your solution &gt;&gt;&gt;&gt;</p>\n",
    "        \"\"\"\n",
    "html_footer = \"\"\"<p style=\"color: red;\">&lt;&lt;&lt;&lt; end of your solution</p></body>\n",
    "</html>\"\"\"\n",
    "html = table_generator(\n",
    "    ['test value 1', \n",
    "    'test value 2', \n",
    "    'test value 3', \n",
    "    'test value 4', \n",
    "    'test value 5', \n",
    "    'test value 6']\n",
    "    )\n",
    "html_to_test = html_header + html + html_footer\n",
    "display(HTML(html_to_test))\n",
    "\n",
    "# DO NOT REMOVE THIS CODE <<< END"
   ]
  },
  {
   "cell_type": "code",
   "execution_count": 80,
   "id": "b9f07e97",
   "metadata": {
    "tags": [
     "tests",
     "tests-3.1"
    ]
   },
   "outputs": [
    {
     "name": "stdout",
     "output_type": "stream",
     "text": [
      "first\n",
      "first\n",
      "first\n",
      "first\n",
      "first\n"
     ]
    },
    {
     "data": {
      "text/html": [
       "<div class=\"tip admonition\">\n",
       "<p class=\"admonition-title\">Code Quality Analysis: <span style=\"color: green\">Pass</span></p><p>*No problem was found*\n",
       "</p>\n",
       "    </div>"
      ],
      "text/plain": [
       "<IPython.core.display.HTML object>"
      ]
     },
     "metadata": {},
     "output_type": "display_data"
    },
    {
     "name": "stdout",
     "output_type": "stream",
     "text": [
      "tests passed ✓\n"
     ]
    }
   ],
   "source": [
    "%autoreload 2\n",
    "# test cell\n",
    "import random\n",
    "from lorem_text import lorem\n",
    "from bs4 import BeautifulSoup\n",
    "from table_generator_solution import table_generator\n",
    "\n",
    "has_error = False\n",
    "\n",
    "html_header = \"\"\"<!DOCTYPE html>\n",
    "    <html lang=\"en\">\n",
    "        <head>\n",
    "            <title>Page Title</title>\n",
    "        </head>\n",
    "        <body><p style=\"color: red;\">start of your solution &gt;&gt;&gt;&gt;</p>\n",
    "        \"\"\"\n",
    "html_footer = \"\"\"<p style=\"color: red;\">&lt;&lt;&lt;&lt; end of your solution</p></body>\n",
    "</html>\"\"\"\n",
    "\n",
    "for i in range(5):\n",
    "\n",
    "    input_list = []\n",
    "    num_elems = random.randint(5, 10)\n",
    "    for i in range(num_elems):\n",
    "        input_list.append(lorem.words(random.randint(5, 10)))\n",
    "\n",
    "    original_html = table_generator(input_list)\n",
    "\n",
    "    html_to_test = html_header + original_html + html_footer\n",
    "\n",
    "    soup = validate_html(html_to_test)\n",
    "\n",
    "    tag_set = set([str(tag.name) for tag in soup.find_all()])\n",
    "    tag_pairs = []\n",
    "    for tag_1 in tag_set:\n",
    "        for tag_2 in tag_set:\n",
    "            if tag_1 != tag_2:\n",
    "                tag_pairs.append((tag_1, tag_2))\n",
    "\n",
    "    for i, line in enumerate(original_html.split('\\n')):\n",
    "        for tag_1, tag_2 in tag_pairs:\n",
    "            if f'<{tag_1}>' in line or f'</{tag_1}>' in line:\n",
    "                assert f'<{tag_2}>' not in line and f'</{tag_2}>' not in line, \\\n",
    "                    f'Line {i+1} has two tags in the same line ({tag_1} and {tag_2}).\\\n",
    "                        \\nYou must have them in different lines.\\nLine {i+1}:\\t{line}'\n",
    "\n",
    "    tags_table = soup.find_all('table')\n",
    "    assert len(tags_table) == 1, f'The HTML seems needs to have 1 table. Now it has \\\n",
    "        {len(tags_table)} table(s).'\n",
    "\n",
    "    tags_thead = tags_table[0].find_all('thead')\n",
    "    assert len(tags_thead) == 1, 'The needs to have one `thead` tag.'\n",
    "\n",
    "    tags_tr = tags_thead[0].find_all('tr')\n",
    "    assert len(tags_tr) == 1, 'The table head needs to have only one row.'\n",
    "\n",
    "    tags_th = tags_tr[0].find_all('th')\n",
    "    assert len(tags_th) == 2, f'The table must have 2 header columns. Now it has \\\n",
    "        {len(tags_th)} column(s).'\n",
    "\n",
    "    tags_tbody = tags_table[0].find_all('tbody')\n",
    "    assert len(tags_tbody) == 1, 'Your table is missing a `tbody` tag.'\n",
    "\n",
    "    tags_tr = tags_tbody[0].find_all('tr')\n",
    "    assert len(tags_tr) == num_elems, f'The table must have {num_elems} rows. \\\n",
    "        Now it has {len(tags_tr)} row(s).'\n",
    "\n",
    "    for idx, tag_tr in enumerate(tags_tr):\n",
    "        tags_td = tag_tr.find_all('td')\n",
    "        assert len(tags_td) == 2, f'The table must have 2 columns. Now it has \\\n",
    "            {len(tags_td)} column(s).\\nRow with problems: \\t{tag_tr}'\n",
    "        assert int(tags_td[0].contents[0]) == idx + 1, f'The table contents are \\\n",
    "            incorrect. Row with problems: \\t{tag_tr}'\n",
    "        assert tags_td[1].contents[0] == input_list[idx], f'The table contents are \\\n",
    "            incorrect. Row with problems: \\t{tag_tr}'\n",
    "\n",
    "validate_python_code(\"table_generator_solution.py\")\n",
    "print('tests passed', u'\\u2713')"
   ]
  }
 ],
 "metadata": {
  "assignment_list": [
   "1.1",
   "1.2",
   "1.3",
   "1.4",
   "2.1",
   "2.2",
   "3.1"
  ],
  "celltoolbar": "Create Assignment",
  "kernelspec": {
   "display_name": ".venv",
   "language": "python",
   "name": "python3"
  },
  "language_info": {
   "codemirror_mode": {
    "name": "ipython",
    "version": 3
   },
   "file_extension": ".py",
   "mimetype": "text/x-python",
   "name": "python",
   "nbconvert_exporter": "python",
   "pygments_lexer": "ipython3",
   "version": "3.10.16"
  }
 },
 "nbformat": 4,
 "nbformat_minor": 5
}
