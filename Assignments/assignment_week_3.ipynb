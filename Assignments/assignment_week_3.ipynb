{
 "cells": [
  {
   "cell_type": "markdown",
   "id": "24cf25b2",
   "metadata": {},
   "source": [
    "# EEN060 - Applied object-oriented programming\n",
    "\n",
    "Teacher: [Carlos Natalino](https://www.chalmers.se/en/staff/Pages/Carlos-Natalino-Da-Silva.aspx) / Examiner: [Paolo Monti](https://www.chalmers.se/en/staff/Pages/Paolo-Monti.aspx)\n",
    "\n",
    "[Canvas course page](https://chalmers.instructure.com/courses/28094)\n",
    "\n",
    "[Course channel on Chalmers Play](https://play.chalmers.se/channel/EEN060_EEN065_Applied_object-oriented_programming/300149)\n",
    "\n",
    "Before you turn this assignment list in, make sure everything runs as expected.\n",
    "First, **restart the kernel** and then **run all cells**.\n",
    "Then, check if all the tests run correctly.\n",
    "Note that if one of the problems present an error, the following ones **will not** be tested.\n",
    "\n",
    "In case of discrepancies between the problem command and the tests, you should solve it having in mind the tests.\n",
    "\n",
    "There are two types of cell:\n",
    "1. *solution cells:* These are the cells where you write your answer, or modify the existing code to solve the problem.\n",
    "2. *test cells:* These cells are used to test whether your solution is correct or not. If the tests run correctly, you should see a message `tests passed`. Otherwise, you should see an error message.\n",
    "\n",
    "**Delete** the line `raise NotImplementedError()` from the problems that you solve.\n",
    "\n",
    "**Do not delete or add any cell in this file.** All cells that you need are already in place.\n",
    "\n",
    "You may also have problems that will be manually graded (e.g., HTML/CSS/JS/pseudocode problems).\n",
    "These problems **do not** have a respective *test cell*.\n",
    "\n",
    "If you want to execute a cell, select the cell and press **CTRL+Enter** (in Windows) or **CMD+Enter** (in macOS) or click on the **Run cell** button.\n",
    "\n",
    "**If you want, you can solve this programming assignment using Google Colab**\n",
    "\n",
    "Link: https://colab.research.google.com/\n",
    "\n",
    "Just copy the following line to a code line and run it."
   ]
  },
  {
   "cell_type": "code",
   "execution_count": 1,
   "id": "44db2cf9",
   "metadata": {
    "tags": [
     "install"
    ]
   },
   "outputs": [],
   "source": [
    "# !pip install --upgrade --user pip pip-tools\n",
    "# !pip install ipykernel jupyter notebook wtforms flask flask-wtf gunicorn nose flask-testing pytest coverage flake8 requests mypy pylint blinker types-requests isort black lorem-text bs4 pep8-naming matplotlib redis\n"
   ]
  },
  {
   "cell_type": "markdown",
   "id": "6790616c",
   "metadata": {},
   "source": [
    "---\n",
    "\n",
    "Make sure you fill your name and collaborators (if any) below."
   ]
  },
  {
   "cell_type": "code",
   "execution_count": 2,
   "id": "b5baaab9",
   "metadata": {
    "tags": [
     "details"
    ]
   },
   "outputs": [],
   "source": [
    "NAME = \"Bingcheng Chen\"\n",
    "COLLABORATORS = \"None\""
   ]
  },
  {
   "cell_type": "markdown",
   "id": "82633915",
   "metadata": {},
   "source": [
    "# Assignment week 3\n",
    "\n",
    "\n",
    "In this assignment, students should practice:\n",
    "- how to solve the Python problems\n",
    "- understand different types of variables\n",
    "- how to create and use data structures in Python\n",
    "- how to combine the knowledge on data structures with the previous topics in the course\n",
    "- getting familiar with Python and HTML\n",
    "\n",
    "**Observations:**\n",
    "For the problems in this assignment, you should:\n",
    "- use only the math operations studied in Chapter 3.\n",
    "- not use external modules, i.e., `import` command is not allowed in your solutions\n",
    "\n",
    "**Preparation:** Run the cell below every time you start working on this file, and every time you restart the kernel."
   ]
  },
  {
   "cell_type": "code",
   "execution_count": 3,
   "id": "feebbdb6",
   "metadata": {
    "tags": [
     "load"
    ]
   },
   "outputs": [],
   "source": [
    "%load_ext autoreload\n",
    "try:\n",
    "    from utils import validate_python_code, validate_html\n",
    "except:\n",
    "    import sys\n",
    "    print(\"It seems this file is in the wrong folder. \"\n",
    "          \"Make sure to place it in the `programming-assignments` folder/project.\",\n",
    "          file=sys.stderr)"
   ]
  },
  {
   "cell_type": "markdown",
   "id": "6c0919a4",
   "metadata": {},
   "source": [
    "## Level 1\n",
    "\n",
    "Level 1 problems are simple problems that required only the knowledge obtained in the content of the lecture and the lecture notes of the particular lecture."
   ]
  },
  {
   "cell_type": "markdown",
   "id": "487cc97e",
   "metadata": {},
   "source": [
    "### Problem 1.1\n",
    "\n",
    "Create a function called `smallest_value` that receives four numbers (`int` or `float`) as an input, and returns the smallest one among them.\n",
    "\n",
    "**Observations:**\n",
    "- Remember that you must not use built-in functions to solve the problem; use only conditional statements."
   ]
  },
  {
   "cell_type": "markdown",
   "id": "a88730a8",
   "metadata": {},
   "source": [
    "```\n",
    "# write here your pseudocode (not graded)\n",
    "\n",
    "# * pseudocode is necessary when asking for help during the lab\n",
    "```"
   ]
  },
  {
   "cell_type": "code",
   "execution_count": 4,
   "id": "401d0d84",
   "metadata": {
    "nbgrader": {
     "grade": false,
     "grade_id": "cell-answer-1-2",
     "locked": false,
     "schema_version": 3,
     "solution": true,
     "task": false
    },
    "tags": [
     "solution",
     "solution-1.1"
    ]
   },
   "outputs": [
    {
     "name": "stdout",
     "output_type": "stream",
     "text": [
      "Overwriting smallest_value_solution.py\n"
     ]
    }
   ],
   "source": [
    "%%writefile smallest_value_solution.py\n",
    "# solution cell\n",
    "### BEGIN SOLUTION\n",
    "def smallest_value(\n",
    "    a: int | float, b: int | float, c: int | float, d: int | float\n",
    ") -> int | float:\n",
    "    smallest = a\n",
    "    if b < smallest:\n",
    "        smallest = b\n",
    "    if c < smallest:\n",
    "        smallest = c\n",
    "    if d < smallest:\n",
    "        smallest = d\n",
    "    return smallest\n",
    "\n",
    "\n",
    "### END SOLUTION\n"
   ]
  },
  {
   "cell_type": "code",
   "execution_count": 5,
   "id": "9e00226e",
   "metadata": {
    "tags": [
     "debug",
     "debug-1.1"
    ]
   },
   "outputs": [
    {
     "name": "stdout",
     "output_type": "stream",
     "text": [
      "The smallest value among 11, 20, 3, 23 is 3\n",
      "Execution finished ✓\n"
     ]
    }
   ],
   "source": [
    "%autoreload 2\n",
    "# uncomment the line(s) below to debug\n",
    "from smallest_value_solution import smallest_value\n",
    "\n",
    "a, b, c, d = 11, 20, 3, 23\n",
    "l = smallest_value(a, b, c, d)\n",
    "print(f\"The smallest value among {a}, {b}, {c}, {d} is {l}\")\n",
    "print(\"Execution finished\", \"\\u2713\")"
   ]
  },
  {
   "cell_type": "code",
   "execution_count": 6,
   "id": "b6f5f396",
   "metadata": {
    "nbgrader": {
     "grade": true,
     "grade_id": "cell-test-1-2",
     "locked": true,
     "points": 1,
     "schema_version": 3,
     "solution": false,
     "task": false
    },
    "tags": [
     "tests",
     "tests-1.1"
    ]
   },
   "outputs": [
    {
     "data": {
      "text/html": [
       "<div class=\"tip admonition\">\n",
       "<p class=\"admonition-title\">Code Quality Analysis: <span style=\"color: green\">Pass</span></p><p>*No problem was found*\n",
       "</p>\n",
       "    </div>"
      ],
      "text/plain": [
       "<IPython.core.display.HTML object>"
      ]
     },
     "metadata": {},
     "output_type": "display_data"
    },
    {
     "name": "stdout",
     "output_type": "stream",
     "text": [
      "tests passed ✓\n"
     ]
    }
   ],
   "source": [
    "%autoreload 2\n",
    "# test cell\n",
    "try:\n",
    "    import smallest_value_solution\n",
    "except:\n",
    "    raise ValueError(\"You did not execute your solution cell!\")\n",
    "try:\n",
    "    from smallest_value_solution import smallest_value\n",
    "except:\n",
    "    raise ValueError(\"Your solution does not contain the right function!\")\n",
    "\n",
    "from nose.tools import assert_equal\n",
    "\n",
    "assert_equal(smallest_value(1, 2.2, 3, 1), 1)\n",
    "assert_equal(smallest_value(2, 1.1, 3, 4), 1.1)\n",
    "assert_equal(smallest_value(3, 2.3, 2.3, 2.3), 2.3)\n",
    "assert_equal(smallest_value(1, -2, 0, -7), -7)\n",
    "\n",
    "from unittest.mock import patch\n",
    "with patch('__main__.min') as mock_min:\n",
    "    smallest_value(1, 2, 3, -1)\n",
    "mock_min.assert_not_called()\n",
    "\n",
    "from utils import validate_python_code\n",
    "validate_python_code(\"smallest_value_solution.py\")\n",
    "print(\"tests passed\", \"\\u2713\")"
   ]
  },
  {
   "cell_type": "markdown",
   "id": "5f6815d0",
   "metadata": {},
   "source": [
    "### Problem 1.2\n",
    "\n",
    "Create a Python function named `reverse_lower_and_upper_case` that receives a sequence data structure containing strings as an input and first reverses the list, then converts the elements in even indices to lower case and elements in odd indices to upper case. \n",
    "\n",
    "Note that even and odd parity is to be considered after reversing the list.\n",
    "\n",
    "**Examples**\n",
    "\n",
    "Input: ['tEsT_1', 'Practice_2']\n",
    "\n",
    "Output: ['practice_2', 'TEST_1']\n",
    "\n",
    "Explanation: Here 'Practice_2' has index 0 in reversed list which is even and 'tEsT_1' has index 1 which is odd."
   ]
  },
  {
   "cell_type": "markdown",
   "id": "a4b08144",
   "metadata": {},
   "source": [
    "```\n",
    "# write here your pseudocode (not graded)\n",
    "\n",
    "# * pseudocode is necessary when asking for help during the lab\n",
    "```"
   ]
  },
  {
   "cell_type": "code",
   "execution_count": 7,
   "id": "bd130549",
   "metadata": {
    "nbgrader": {
     "grade": false,
     "grade_id": "cell-answer-1-3",
     "locked": false,
     "schema_version": 3,
     "solution": true,
     "task": false
    },
    "tags": [
     "solution",
     "solution-1.2"
    ]
   },
   "outputs": [
    {
     "name": "stdout",
     "output_type": "stream",
     "text": [
      "Overwriting reverse_lower_and_upper_case_solution.py\n"
     ]
    }
   ],
   "source": [
    "%%writefile reverse_lower_and_upper_case_solution.py\n",
    "# solution cell\n",
    "### BEGIN SOLUTION\n",
    "def reverse_lower_and_upper_case(data: list[str]) -> list[str]:\n",
    "    # reverse the list\n",
    "    data = data[::-1]\n",
    "\n",
    "    # reverse the case of each string\n",
    "    for i, element in enumerate(data):\n",
    "        if i % 2 == 0:\n",
    "            data[i] = element.lower()\n",
    "        else:\n",
    "            data[i] = element.upper()\n",
    "    return data\n",
    "\n",
    "\n",
    "### END SOLUTION\n"
   ]
  },
  {
   "cell_type": "code",
   "execution_count": 8,
   "id": "9b9003a1",
   "metadata": {
    "tags": [
     "debug",
     "debug-1.2"
    ]
   },
   "outputs": [
    {
     "name": "stdout",
     "output_type": "stream",
     "text": [
      "The reveresed version of ['tEsT_1', 'Practice_2'] with case change as mentioned is ['practice_2', 'TEST_1']\n",
      "Execution finished ✓\n"
     ]
    }
   ],
   "source": [
    "%autoreload 2\n",
    "# uncomment the line(s) below to debug\n",
    "from reverse_lower_and_upper_case_solution import reverse_lower_and_upper_case\n",
    "\n",
    "initial = ['tEsT_1', 'Practice_2']\n",
    "result = reverse_lower_and_upper_case(initial)\n",
    "print(f\"The reveresed version of {initial} with case change as mentioned is {result}\")\n",
    "print(\"Execution finished\", \"\\u2713\")"
   ]
  },
  {
   "cell_type": "code",
   "execution_count": 9,
   "id": "93ab4d3a",
   "metadata": {
    "nbgrader": {
     "grade": true,
     "grade_id": "cell-test-1-3",
     "locked": true,
     "points": 1,
     "schema_version": 3,
     "solution": false,
     "task": false
    },
    "tags": [
     "tests",
     "tests-1.2"
    ]
   },
   "outputs": [
    {
     "data": {
      "text/html": [
       "<div class=\"tip admonition\">\n",
       "<p class=\"admonition-title\">Code Quality Analysis: <span style=\"color: green\">Pass</span></p><p>*No problem was found*\n",
       "</p>\n",
       "    </div>"
      ],
      "text/plain": [
       "<IPython.core.display.HTML object>"
      ]
     },
     "metadata": {},
     "output_type": "display_data"
    },
    {
     "name": "stdout",
     "output_type": "stream",
     "text": [
      "tests passed ✓\n"
     ]
    }
   ],
   "source": [
    "%autoreload 2\n",
    "# test cell\n",
    "try:\n",
    "    import reverse_lower_and_upper_case_solution\n",
    "except:\n",
    "    raise ValueError(\"You did not execute your solution cell!\")\n",
    "try:\n",
    "    from reverse_lower_and_upper_case_solution import reverse_lower_and_upper_case\n",
    "except:\n",
    "    raise ValueError(\"Your solution does not contain the right function!\")\n",
    "\n",
    "assert isinstance(reverse_lower_and_upper_case(['test_1', 'test_2']), list)\n",
    "\n",
    "from nose.tools import assert_equal\n",
    "\n",
    "assert_equal(reverse_lower_and_upper_case(['test_1', 'test_2']), ['test_2', 'TEST_1'])\n",
    "assert_equal(reverse_lower_and_upper_case(['teSt_1', 'teSt_2']), ['test_2', 'TEST_1'])\n",
    "assert_equal(reverse_lower_and_upper_case(['teSt_1', 'teSt_2']), ['test_2', 'TEST_1'])\n",
    "assert_equal(reverse_lower_and_upper_case(['Resource GranteD', 'Resource nOt GranteD', 'GrAtTiS']), ['grattis', 'RESOURCE NOT GRANTED', 'resource granted'])\n",
    "\n",
    "from utils import validate_python_code\n",
    "validate_python_code(\"reverse_lower_and_upper_case_solution.py\")\n",
    "print(\"tests passed\", \"\\u2713\")"
   ]
  },
  {
   "cell_type": "markdown",
   "id": "28d051d2",
   "metadata": {},
   "source": [
    "### Problem 1.3\n",
    "\n",
    "In this problem you will need to use deque. More info here: https://docs.python.org/3/library/collections.html#collections.deque\n",
    "\n",
    "Create a Python function named `deque_intersection` that receives two deques as an input.\n",
    "The function should make sure that the inputs are of the `deque` type.\n",
    "If either of the inputs is not a deque, the function should return `None` (the *void* type in Python, not a string with `\"None\"` inside).\n",
    "\n",
    "Otherwise, the function should return a deque that contains all the elements that are common to both the deques. If there are no such elements, return an empty deque `deque()`."
   ]
  },
  {
   "cell_type": "markdown",
   "id": "be00234d",
   "metadata": {},
   "source": [
    "```\n",
    "# write here your pseudocode (not graded)\n",
    "\n",
    "# * pseudocode is necessary when asking for help during the lab\n",
    "```"
   ]
  },
  {
   "cell_type": "code",
   "execution_count": 10,
   "id": "46b56621",
   "metadata": {
    "nbgrader": {
     "grade": false,
     "grade_id": "cell-answer-1-4",
     "locked": false,
     "schema_version": 3,
     "solution": true,
     "task": false
    },
    "tags": [
     "solution",
     "solution-1.3"
    ]
   },
   "outputs": [
    {
     "name": "stdout",
     "output_type": "stream",
     "text": [
      "Overwriting deque_intersection_solution.py\n"
     ]
    }
   ],
   "source": [
    "%%writefile deque_intersection_solution.py\n",
    "# solution cell\n",
    "### BEGIN SOLUTION\n",
    "from collections import deque\n",
    "\n",
    "\n",
    "def deque_intersection(deque1: deque[str], deque2: deque[str]) -> deque[str] | None:\n",
    "    if not isinstance(deque1, deque) or not isinstance(deque2, deque):\n",
    "        return None\n",
    "    # find the common elements\n",
    "    common_elements = []\n",
    "    for element in deque1:\n",
    "        if element in deque2:\n",
    "            common_elements.append(element)\n",
    "    return deque(common_elements)\n",
    "\n",
    "\n",
    "### END SOLUTION\n"
   ]
  },
  {
   "cell_type": "code",
   "execution_count": 11,
   "id": "bec72fae",
   "metadata": {
    "tags": [
     "debug",
     "debug-1.3"
    ]
   },
   "outputs": [
    {
     "name": "stdout",
     "output_type": "stream",
     "text": [
      "The intersection of deque(['a', 'w', 'b', 'x']) and deque(['a', 'b', 'c']) is deque(['a', 'b'])\n",
      "Execution finished ✓\n"
     ]
    }
   ],
   "source": [
    "%autoreload 2\n",
    "# uncomment the line(s) below to debug\n",
    "from collections import deque\n",
    "from deque_intersection_solution import deque_intersection\n",
    "\n",
    "que_1 = deque('awbx')\n",
    "que_2 = deque('abc')\n",
    "result = deque_intersection(que_1, que_2)\n",
    "print(f\"The intersection of {que_1} and {que_2} is {result}\")\n",
    "print(\"Execution finished\", \"\\u2713\")"
   ]
  },
  {
   "cell_type": "code",
   "execution_count": 12,
   "id": "b0e3cf0e",
   "metadata": {
    "nbgrader": {
     "grade": true,
     "grade_id": "cell-test-1-4",
     "locked": true,
     "points": 1,
     "schema_version": 3,
     "solution": false,
     "task": false
    },
    "tags": [
     "tests",
     "tests-1.3"
    ]
   },
   "outputs": [
    {
     "data": {
      "text/html": [
       "<div class=\"tip admonition\">\n",
       "<p class=\"admonition-title\">Code Quality Analysis: <span style=\"color: green\">Pass</span></p><p>*No problem was found*\n",
       "</p>\n",
       "    </div>"
      ],
      "text/plain": [
       "<IPython.core.display.HTML object>"
      ]
     },
     "metadata": {},
     "output_type": "display_data"
    },
    {
     "name": "stdout",
     "output_type": "stream",
     "text": [
      "tests passed ✓\n"
     ]
    }
   ],
   "source": [
    "%autoreload 2\n",
    "# test cell\n",
    "try:\n",
    "    import deque_intersection_solution\n",
    "except:\n",
    "    raise ValueError(\"You did not execute your solution cell!\")\n",
    "try:\n",
    "    from deque_intersection_solution import deque_intersection\n",
    "except:\n",
    "    raise ValueError(\"Your solution does not contain the right function!\")\n",
    "\n",
    "from collections import deque\n",
    "\n",
    "assert isinstance(deque_intersection(deque(), deque()), deque)\n",
    "\n",
    "from nose.tools import assert_equal\n",
    "\n",
    "assert_equal(deque_intersection(('test_1', 'test_2'), ('test_3', 'test_4')), None)\n",
    "assert_equal(deque_intersection(('test_1', 'test_2'), ['test_3', 'test_4']), None)\n",
    "assert_equal(deque_intersection(deque(['a', 'b']), deque(['b', 'c'])), deque('b'))\n",
    "assert_equal(deque_intersection(deque(['a', 'b']), deque(['a', 'b'])), deque('ab'))\n",
    "assert_equal(deque_intersection(deque(['a', 'b']), deque(['c', 'd'])), deque())\n",
    "\n",
    "from unittest.mock import patch\n",
    "with patch('builtins.set') as mock_set:\n",
    "    deque_intersection(deque('ab'), deque('ab'))\n",
    "mock_set.assert_not_called()\n",
    "\n",
    "from utils import validate_python_code\n",
    "validate_python_code(\"deque_intersection_solution.py\")\n",
    "print('tests passed', u'\\u2713')"
   ]
  },
  {
   "cell_type": "markdown",
   "id": "888c1b9d",
   "metadata": {},
   "source": [
    "### Problem 1.4\n",
    "\n",
    "Create a Python function named `age_counter`. It receives a string as an input containing name and age of people separated by comma as shown: `\"James = 20, Rock = 32, Fred = 20\"`\n",
    "\n",
    "The function returns a dictionary where each unique age becomes the key (integer), and the value is the number of people with that given age in the input. The function also returns an integer representing the number of people within the age 20 to 30 (both inclusive).\n",
    "\n",
    "Equal to and commas should not be considered (i.e., should be removed from the text). Remember, you must not use external functions to solve this problem."
   ]
  },
  {
   "cell_type": "markdown",
   "id": "79b96af3",
   "metadata": {},
   "source": [
    "```\n",
    "# write here your pseudocode (not graded)\n",
    "\n",
    "# * pseudocode is necessary when asking for help during the lab\n",
    "```"
   ]
  },
  {
   "cell_type": "code",
   "execution_count": 13,
   "id": "b822b578",
   "metadata": {
    "nbgrader": {
     "grade": false,
     "grade_id": "cell-answer-1-5",
     "locked": false,
     "schema_version": 3,
     "solution": true,
     "task": false
    },
    "tags": [
     "solution",
     "solution-1.4"
    ]
   },
   "outputs": [
    {
     "name": "stdout",
     "output_type": "stream",
     "text": [
      "Overwriting age_counter_solution.py\n"
     ]
    }
   ],
   "source": [
    "%%writefile age_counter_solution.py\n",
    "# solution cell\n",
    "### BEGIN SOLUTION\n",
    "def age_counter(text: str) -> dict[int, int]:\n",
    "    # delete the space in the text and split the text by \",\"\n",
    "    processed_text = text.replace(\" \", \"\")\n",
    "    entries = processed_text.split(\",\")\n",
    "    # create a dictionary to store the age\n",
    "    age_dict: dict[int, int] = {}\n",
    "    count_20_30 = 0\n",
    "    for char in entries:\n",
    "        # split the entries by \"=\"\n",
    "        age = int(char.split(\"=\")[1])\n",
    "        # check if the age is in the dictionary\n",
    "        if age in age_dict:\n",
    "            age_dict[age] += 1\n",
    "        else:\n",
    "            age_dict[age] = 1\n",
    "    # count the number of people whose age is between 20 and 30\n",
    "    for key in age_dict:\n",
    "        if 20 <= int(key) <= 30:\n",
    "            count_20_30 += age_dict[key]\n",
    "    # print the number of people whose age is between 20 and 30\n",
    "    print(count_20_30)\n",
    "    return age_dict\n",
    "\n",
    "\n",
    "### END SOLUTION\n"
   ]
  },
  {
   "cell_type": "code",
   "execution_count": 14,
   "id": "520355e2",
   "metadata": {
    "tags": [
     "debug",
     "debug-1.4"
    ]
   },
   "outputs": [
    {
     "name": "stdout",
     "output_type": "stream",
     "text": [
      "Number of people within age 20 to 30 is\n",
      "8\n",
      "Age statistics are:\n",
      " {25: 3,\n",
      " 31: 1,\n",
      " 22: 3,\n",
      " 28: 1,\n",
      " 35: 1,\n",
      " 27: 1}\n",
      "Execution finished ✓\n"
     ]
    }
   ],
   "source": [
    "%autoreload 2\n",
    "#uncomment the line(s) below to debug\n",
    "from age_counter_solution import age_counter\n",
    "\n",
    "text = \"Alice = 25, Bob = 31, Charlie = 22, David = 22, Emma = 28, \\\n",
    "        Frank = 35, Grace = 25, Harry = 25, Isabella = 22, Jack = 27\"\n",
    "print(\"Number of people within age 20 to 30 is\")\n",
    "age_count = age_counter(text)\n",
    "print(\"Age statistics are:\\n\",str(dict(age_count)).replace(', ',',\\n '))\n",
    "print(\"Execution finished\", \"\\u2713\")"
   ]
  },
  {
   "cell_type": "code",
   "execution_count": 15,
   "id": "39b83d97",
   "metadata": {
    "nbgrader": {
     "grade": true,
     "grade_id": "cell-test-1-5",
     "locked": true,
     "points": 1,
     "schema_version": 3,
     "solution": false,
     "task": false
    },
    "tags": [
     "tests",
     "tests-1.4"
    ]
   },
   "outputs": [
    {
     "name": "stdout",
     "output_type": "stream",
     "text": [
      "2\n"
     ]
    },
    {
     "data": {
      "text/html": [
       "<div class=\"tip admonition\">\n",
       "<p class=\"admonition-title\">Code Quality Analysis: <span style=\"color: green\">Pass</span></p><p>*No problem was found*\n",
       "</p>\n",
       "    </div>"
      ],
      "text/plain": [
       "<IPython.core.display.HTML object>"
      ]
     },
     "metadata": {},
     "output_type": "display_data"
    },
    {
     "name": "stdout",
     "output_type": "stream",
     "text": [
      "tests passed ✓\n"
     ]
    }
   ],
   "source": [
    "%autoreload 2\n",
    "# test cell\n",
    "try:\n",
    "    import age_counter_solution\n",
    "except:\n",
    "    raise ValueError(\"You did not execute your solution cell!\")\n",
    "try:\n",
    "    from age_counter_solution import age_counter\n",
    "except:\n",
    "    raise ValueError(\"Your solution does not contain the right function!\")\n",
    "\n",
    "from collections import defaultdict\n",
    "assert isinstance(age_counter('James = 20, Rock = 32, Fred = 20'), dict)\n",
    "\n",
    "from nose.tools import assert_equal\n",
    "from unittest.mock import patch\n",
    "from io import StringIO\n",
    "\n",
    "with patch('sys.stdout', new=StringIO()) as fakeOutput:\n",
    "    assert_equal(age_counter('Alice = 25, Bob = 31, Charlie = 22, David = 22, Emma = 28, \\\n",
    "        Frank = 35, Grace = 25, Harry = 25, Isabella = 22, Jack = 27'), \\\n",
    "            {25: 3, 31: 1, 22: 3, 28: 1, 35: 1, 27: 1})\n",
    "    assert_equal(fakeOutput.getvalue().strip(), '8')\n",
    "\n",
    "\n",
    "with patch('sys.stdout', new=StringIO()) as fakeOutput:\n",
    "    assert_equal(age_counter('Sophia = 24, Olivia = 28, Liam = 32, Noah = 24, \\\n",
    "        Emily = 28, Ava = 24, Benjamin = 35, Mia = 31, Elijah = 28, Harper = 28'), \\\n",
    "            {24: 3, 28: 4, 32: 1, 35: 1, 31: 1})\n",
    "    assert_equal(fakeOutput.getvalue().strip(), '7')\n",
    "\n",
    "from utils import validate_python_code\n",
    "validate_python_code(\"age_counter_solution.py\")\n",
    "print(\"tests passed\", \"\\u2713\")"
   ]
  },
  {
   "cell_type": "markdown",
   "id": "c5b0ae1f",
   "metadata": {},
   "source": [
    "---\n",
    "## Level 2\n",
    "\n",
    "Problems in level 2 should build upon the content of the lecture and the content of previous lectures.\n",
    "Therefore, the problems can be solved based solely on the lecture notes available for the course up to the lecture the assignment is about."
   ]
  },
  {
   "cell_type": "markdown",
   "id": "d320d0b6",
   "metadata": {},
   "source": [
    "### Problem 2.1\n",
    "\n",
    "Create a Python function called `mobile_number_validate` that receives a mobile number as a string and validates whether it is a correct mobile number (returning `True`) or not (returning `False`). \n",
    "\n",
    "Rules for mobile number:\n",
    "- string starts with either of `0`, `46`, or `+46`;\n",
    "- the remaining string has length 9 such that the first digit is between 1 to 9 and the other digits are between 0 to 9."
   ]
  },
  {
   "cell_type": "markdown",
   "id": "355fc837",
   "metadata": {},
   "source": [
    "```\n",
    "# write here your pseudocode (not graded)\n",
    "\n",
    "# * pseudocode is necessary when asking for help during the lab\n",
    "```"
   ]
  },
  {
   "cell_type": "code",
   "execution_count": 16,
   "id": "dc09c847",
   "metadata": {
    "nbgrader": {
     "grade": false,
     "grade_id": "cell-answer-2-1",
     "locked": false,
     "schema_version": 3,
     "solution": true,
     "task": false
    },
    "tags": [
     "solution",
     "solution-2.1"
    ]
   },
   "outputs": [
    {
     "name": "stdout",
     "output_type": "stream",
     "text": [
      "Overwriting mobile_number_validate_solution.py\n"
     ]
    }
   ],
   "source": [
    "%%writefile mobile_number_validate_solution.py\n",
    "# solution cell\n",
    "### BEGIN SOLUTION\n",
    "def mobile_number_validate(number: str) -> bool:\n",
    "    # check if the number starts with 0, +46 or 46\n",
    "    if number.startswith(\"+46\"):\n",
    "        rest = number[3:]\n",
    "    elif number.startswith(\"46\"):\n",
    "        rest = number[2:]\n",
    "    elif number.startswith(\"0\"):\n",
    "        rest = number[1:]\n",
    "    else:\n",
    "        # Invalid prefix\n",
    "        return False\n",
    "\n",
    "    # Check if the remaining string has exactly 9 digits\n",
    "    if len(rest) != 9:\n",
    "        return False\n",
    "\n",
    "    if not rest.isdigit():\n",
    "        return False\n",
    "\n",
    "    # The first digit must be between '1' and '9'\n",
    "    if not (1 <= int(rest[0]) <= 9):\n",
    "        return False\n",
    "\n",
    "    return True\n",
    "\n",
    "\n",
    "### END SOLUTION\n"
   ]
  },
  {
   "cell_type": "code",
   "execution_count": 17,
   "id": "a4768454",
   "metadata": {
    "tags": [
     "debug",
     "debug-2.1"
    ]
   },
   "outputs": [
    {
     "name": "stdout",
     "output_type": "stream",
     "text": [
      "The mobile number 46102345678 is valid\n",
      "Execution finished ✓\n"
     ]
    }
   ],
   "source": [
    "%autoreload 2\n",
    "# uncomment the line(s) below to debug\n",
    "from mobile_number_validate_solution import mobile_number_validate\n",
    "\n",
    "number = \"46102345678\" # Valid\n",
    "valid = mobile_number_validate(number)\n",
    "valid_string = \"valid\" if valid else \"invalid\"\n",
    "print(f\"The mobile number {number} is {valid_string}\")\n",
    "print(\"Execution finished\", \"\\u2713\")"
   ]
  },
  {
   "cell_type": "code",
   "execution_count": 18,
   "id": "782b4be2",
   "metadata": {
    "nbgrader": {
     "grade": true,
     "grade_id": "cell-tests-2-1",
     "locked": true,
     "points": 1,
     "schema_version": 3,
     "solution": false,
     "task": false
    },
    "tags": [
     "tests",
     "tests-2.1"
    ]
   },
   "outputs": [
    {
     "data": {
      "text/html": [
       "<div class=\"tip admonition\">\n",
       "<p class=\"admonition-title\">Code Quality Analysis: <span style=\"color: green\">Pass</span></p><p>*No problem was found*\n",
       "</p>\n",
       "    </div>"
      ],
      "text/plain": [
       "<IPython.core.display.HTML object>"
      ]
     },
     "metadata": {},
     "output_type": "display_data"
    },
    {
     "name": "stdout",
     "output_type": "stream",
     "text": [
      "tests passed ✓\n"
     ]
    }
   ],
   "source": [
    "%autoreload 2\n",
    "# test cell\n",
    "try:\n",
    "    import mobile_number_validate_solution\n",
    "except:\n",
    "    raise ValueError(\"You did not execute your solution cell!\")\n",
    "try:\n",
    "    from mobile_number_validate_solution import mobile_number_validate\n",
    "except:\n",
    "    raise ValueError(\"Your solution does not contain the right function!\")\n",
    "\n",
    "from nose.tools import assert_equal\n",
    "\n",
    "assert_equal(mobile_number_validate('0061234567'), False)\n",
    "assert_equal(mobile_number_validate('+46061234567'), False)\n",
    "assert_equal(mobile_number_validate('123456789'), False)\n",
    "assert_equal(mobile_number_validate('+465555'), False)\n",
    "assert_equal(mobile_number_validate('46123456789'), True)\n",
    "assert_equal(mobile_number_validate('+46761234567'), True)\n",
    "\n",
    "from utils import validate_python_code\n",
    "validate_python_code(\"mobile_number_validate_solution.py\")\n",
    "print('tests passed', u'\\u2713')"
   ]
  },
  {
   "cell_type": "markdown",
   "id": "c74b6a81",
   "metadata": {},
   "source": [
    "### Problem 2.2\n",
    "\n",
    "Create a Python function called `numbers_and_bools` that receives a sequence data structure as an input.\n",
    "The data structure contains numbers (integers and floats) and boolean values (`True`, `False`).\n",
    "The function should return two lists, the first one containing all the boolean values, and the second one containing all the numbers (integers and floats) from the received list."
   ]
  },
  {
   "cell_type": "markdown",
   "id": "f85e8ed1",
   "metadata": {},
   "source": [
    "```\n",
    "# write here your pseudocode (not graded)\n",
    "\n",
    "# * pseudocode is necessary when asking for help during the lab\n",
    "```"
   ]
  },
  {
   "cell_type": "code",
   "execution_count": 19,
   "id": "e0d45a79",
   "metadata": {
    "nbgrader": {
     "grade": false,
     "grade_id": "cell-answer-2-2",
     "locked": false,
     "schema_version": 3,
     "solution": true,
     "task": false
    },
    "tags": [
     "solution",
     "solution-2.2"
    ]
   },
   "outputs": [
    {
     "name": "stdout",
     "output_type": "stream",
     "text": [
      "Overwriting numbers_and_bools_solution.py\n"
     ]
    }
   ],
   "source": [
    "%%writefile numbers_and_bools_solution.py\n",
    "# solution cell\n",
    "### BEGIN SOLUTION\n",
    "def numbers_and_bools(\n",
    "    data: list[int | bool | float],\n",
    ") -> tuple[list[bool], list[int | float]]:\n",
    "    # create two empty lists to store the integers and booleans\n",
    "    numbers = []\n",
    "    booleans = []\n",
    "    for element in data:\n",
    "        if isinstance(element, bool):\n",
    "            booleans.append(element)\n",
    "        elif isinstance(element, int) or isinstance(element, float):\n",
    "            numbers.append(element)\n",
    "    return booleans, numbers\n",
    "\n",
    "\n",
    "### END SOLUTION\n"
   ]
  },
  {
   "cell_type": "code",
   "execution_count": 20,
   "id": "3dd64e61",
   "metadata": {
    "tags": [
     "debug",
     "debug-2.2"
    ]
   },
   "outputs": [
    {
     "name": "stdout",
     "output_type": "stream",
     "text": [
      "The set of values: [True, 10.0, False, 90.0, True, 45.0, True, 12, -1.2, 44.9]\n",
      "Results in bools: [True, False, True, True]\n",
      "and numbers: [10.0, 90.0, 45.0, 12, -1.2, 44.9]\n",
      "Execution finished ✓\n"
     ]
    }
   ],
   "source": [
    "%autoreload 2\n",
    "# uncomment the line(s) below to debug\n",
    "from numbers_and_bools_solution import numbers_and_bools\n",
    "\n",
    "data_structure = [True, 10., False, 90., True, 45., True, 12, -1.2, 44.9]\n",
    "# data_structure = ['this', 10., 'is', 90., 'my', 45., 'Python', 12, 'code', 44.9]\n",
    "result = numbers_and_bools(data_structure)\n",
    "print(f\"The set of values: {data_structure}\")\n",
    "print(f\"Results in bools: {result[0]}\")\n",
    "print(f\"and numbers: {result[1]}\")\n",
    "print(\"Execution finished\", u\"\\u2713\")"
   ]
  },
  {
   "cell_type": "code",
   "execution_count": 21,
   "id": "f84ef097",
   "metadata": {
    "nbgrader": {
     "grade": true,
     "grade_id": "cell-test-2-2",
     "locked": true,
     "points": 1,
     "schema_version": 3,
     "solution": false,
     "task": false
    },
    "tags": [
     "tests",
     "tests-2.2"
    ]
   },
   "outputs": [
    {
     "data": {
      "text/html": [
       "<div class=\"tip admonition\">\n",
       "<p class=\"admonition-title\">Code Quality Analysis: <span style=\"color: green\">Pass</span></p><p>*No problem was found*\n",
       "</p>\n",
       "    </div>"
      ],
      "text/plain": [
       "<IPython.core.display.HTML object>"
      ]
     },
     "metadata": {},
     "output_type": "display_data"
    },
    {
     "name": "stdout",
     "output_type": "stream",
     "text": [
      "tests passed ✓\n"
     ]
    }
   ],
   "source": [
    "%autoreload 2\n",
    "# test cell\n",
    "try:\n",
    "    import numbers_and_bools_solution\n",
    "except:\n",
    "    raise ValueError(\"You did not execute your solution cell!\")\n",
    "try:\n",
    "    from numbers_and_bools_solution import numbers_and_bools\n",
    "except:\n",
    "    raise ValueError(\"Your solution does not contain the right function!\")\n",
    "\n",
    "from nose.tools import assert_equal\n",
    "\n",
    "result = numbers_and_bools([True, 10., False, 90., True, 45., True, 12, -1.2, 44.9])\n",
    "\n",
    "assert isinstance(result, tuple)\n",
    "assert len(result) == 2, f\"The resulting tuple should have two elements, but this one has {len(result)}\"\n",
    "assert isinstance(result[0], list)\n",
    "assert isinstance(result[1], list)\n",
    "assert_equal(result, ([True, False, True, True], [10.0, 90.0, 45.0, 12, -1.2, 44.9]))\n",
    "assert_equal(numbers_and_bools(['this', 10., 'is', 90., 'another', 45., 'case', 12, 'test', 44.9]), ([], [10.0, 90.0, 45.0, 12, 44.9]))\n",
    "\n",
    "from utils import validate_python_code\n",
    "validate_python_code(\"numbers_and_bools_solution.py\")\n",
    "print('tests passed', u'\\u2713')"
   ]
  },
  {
   "cell_type": "markdown",
   "id": "a3774ecf",
   "metadata": {},
   "source": [
    "---\n",
    "## Level 3: Pseudocode/HTML/CSS/JS problems\n",
    "\n",
    "In these problems we are training the design part of the course, which will be used starting from week 6 in the course.\n",
    "\n",
    "Recommended sources:\n",
    "- HTML: https://www.w3schools.com/html/\n",
    "- CSS: https://www.w3schools.com/css/\n",
    "- JavaScript: https://www.w3schools.com/js/\n",
    "\n",
    "Visual Studio Code sometimes does not render HTML/CSS/JS as expected. We recommend testing your solutions here: https://www.w3schools.com/html/tryit.asp?filename=tryhtml_default"
   ]
  },
  {
   "cell_type": "markdown",
   "id": "2a2bca39",
   "metadata": {},
   "source": [
    "### Problem 3.1\n",
    "\n",
    "Create a Python function called `get_html_description` that returns the HTML string that reproduces the image below.\n",
    "Note that the red border, blue color for *TIEPL*, font type and size are not part of the assignment and will not be checked.\n",
    "\n",
    "*Suggestion*: Create the string using triple quotes.\n",
    "\n",
    "Documentation can be found [here](https://www.w3schools.com/html/html_formatting.asp).\n",
    "\n",
    "Tags to be used:\n",
    "- p\n",
    "- b\n",
    "- i\n",
    "\n",
    "<img style=\"border: 1px solid red;\" src=\"data:image/png;base64,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\"/>\n",
    "\n",
    "**Note:** Replace `ä` in `Tillämpad` with `a` to pass the validation. "
   ]
  },
  {
   "cell_type": "code",
   "execution_count": 22,
   "id": "9ff42712",
   "metadata": {
    "tags": [
     "solution",
     "solution-3.1",
     "html"
    ]
   },
   "outputs": [
    {
     "name": "stdout",
     "output_type": "stream",
     "text": [
      "Overwriting get_html_description_solution.py\n"
     ]
    }
   ],
   "source": [
    "%%writefile get_html_description_solution.py\n",
    "### BEGIN SOLUTION\n",
    "def get_html_description() -> str:\n",
    "    html = \"\"\"\n",
    "    <p><b>Course syllabus for</b></p>\n",
    "    <p><b>EEN060 - Applied object-oriented programming</b></p>\n",
    "    <p><i>Tillampad objektorienterad programmering</i></p>\n",
    "    <p>Course syllabus adopted 2021-02-26 by Head of Programme (or corresponding)</p>\n",
    "    <p>Owner: <b>TIDSL</b></p>\n",
    "    <p><b>7,5 Credits</b></p>\n",
    "    <p><b>Grading:</b> TH - Pass with distinction (5), Pass with credit (4), Pass (3), \\ \n",
    "    Fail</p>\n",
    "    <p><b>Education cycle:</b> First-cycle</p>\n",
    "    <p><b>Main field of study:</b> Computer Science and Engineering, \\ \n",
    "    Industrial Design Engineering</p>\n",
    "    <p><b>Department:</b> 32 - ELECTRICAL ENGINEERING</p>\n",
    "    \"\"\"\n",
    "    return html\n",
    "\n",
    "\n",
    "### END SOLUTION\n"
   ]
  },
  {
   "cell_type": "code",
   "execution_count": 23,
   "id": "46de5008",
   "metadata": {
    "tags": [
     "debug",
     "debug-3.1"
    ]
   },
   "outputs": [
    {
     "data": {
      "text/html": [
       "<!DOCTYPE html>\n",
       "    <html lang=\"en\">\n",
       "        <head>\n",
       "            <title>Page Title</title>\n",
       "        </head>\n",
       "        <body>\n",
       "            <p style=\"color: red;\">start of your solution &gt;&gt;&gt;&gt;</p>\n",
       "            \n",
       "        \n",
       "    <p><b>Course syllabus for</b></p>\n",
       "    <p><b>EEN060 - Applied object-oriented programming</b></p>\n",
       "    <p><i>Tillampad objektorienterad programmering</i></p>\n",
       "    <p>Course syllabus adopted 2021-02-26 by Head of Programme (or corresponding)</p>\n",
       "    <p>Owner: <b>TIDSL</b></p>\n",
       "    <p><b>7,5 Credits</b></p>\n",
       "    <p><b>Grading:</b> TH - Pass with distinction (5), Pass with credit (4), Pass (3), \\ \n",
       "    Fail</p>\n",
       "    <p><b>Education cycle:</b> First-cycle</p>\n",
       "    <p><b>Main field of study:</b> Computer Science and Engineering, \\ \n",
       "    Industrial Design Engineering</p>\n",
       "    <p><b>Department:</b> 32 - ELECTRICAL ENGINEERING</p>\n",
       "            \n",
       "        <p style=\"color: red;\">&lt;&lt;&lt;&lt; end of your solution</p>\n",
       "    </body>\n",
       "</html>"
      ],
      "text/plain": [
       "<IPython.core.display.HTML object>"
      ]
     },
     "metadata": {},
     "output_type": "display_data"
    }
   ],
   "source": [
    "# DO NOT REMOVE THIS CODE >>> BEGINNING\n",
    "# this cell assembles the HTML returned by the function that you wrote\n",
    "# and renders it in the \"preview\" window\n",
    "from IPython.display import display, HTML\n",
    "from get_html_description_solution import get_html_description\n",
    "html_header = \"\"\"<!DOCTYPE html>\n",
    "    <html lang=\"en\">\n",
    "        <head>\n",
    "            <title>Page Title</title>\n",
    "        </head>\n",
    "        <body>\n",
    "            <p style=\"color: red;\">start of your solution &gt;&gt;&gt;&gt;</p>\n",
    "            \n",
    "        \"\"\"\n",
    "html_header_offset = 1  # number of lines in the header\n",
    "html_footer = \"\"\"        \n",
    "        <p style=\"color: red;\">&lt;&lt;&lt;&lt; end of your solution</p>\n",
    "    </body>\n",
    "</html>\"\"\"\n",
    "\n",
    "html_to_test = html_header + get_html_description() + html_footer\n",
    "display(HTML(html_to_test))\n",
    "\n",
    "# DO NOT REMOVE THIS CODE <<< END"
   ]
  },
  {
   "cell_type": "code",
   "execution_count": 24,
   "id": "a68e9268",
   "metadata": {
    "tags": [
     "tests",
     "tests-3.1"
    ]
   },
   "outputs": [
    {
     "name": "stdout",
     "output_type": "stream",
     "text": [
      "first\n"
     ]
    },
    {
     "data": {
      "text/html": [
       "<div class=\"tip admonition\">\n",
       "<p class=\"admonition-title\">Code Quality Analysis: <span style=\"color: green\">Pass</span></p><p>*No problem was found*\n",
       "</p>\n",
       "    </div>"
      ],
      "text/plain": [
       "<IPython.core.display.HTML object>"
      ]
     },
     "metadata": {},
     "output_type": "display_data"
    },
    {
     "name": "stdout",
     "output_type": "stream",
     "text": [
      "tests passed ✓\n"
     ]
    }
   ],
   "source": [
    "%autoreload 2\n",
    "# test cell\n",
    "import re\n",
    "from bs4 import BeautifulSoup\n",
    "from get_html_description_solution import get_html_description\n",
    "\n",
    "original_html = get_html_description()\n",
    "final_html = ''\n",
    "for line in original_html.split('\\n'):\n",
    "    if line.strip() != '':\n",
    "        final_html += line + '\\n'\n",
    "final_html = re.sub('<\\s*', '<', final_html)\n",
    "final_html = re.sub('\\s*>', '>', final_html)\n",
    "final_html = re.sub('</\\s*', '</', final_html)\n",
    "html_to_test = html_header + final_html + html_footer\n",
    "\n",
    "validate_html(html_to_test)\n",
    "\n",
    "soup = BeautifulSoup(html_to_test, 'html.parser')\n",
    "tags_p = soup.find_all('p')\n",
    "\n",
    "assert len(tags_p) == 12, f'The solution must have 12 paragraphs in your HTML. You have {len(tags_p)} instead.'\n",
    "\n",
    "for par_without_b in [3, 4]:\n",
    "    assert tags_p[par_without_b].b is None, \\\n",
    "        f'The solution must not have a bold font text in the paragraph {par_without_b + 1}.'\n",
    "\n",
    "for par_with_b in [1, 2, 5, 6, 7, 8, 9]:\n",
    "    assert tags_p[par_with_b].b is not None, \\\n",
    "        f'The solution must have a bold font text in the paragraph {par_with_b + 1}.'\n",
    "\n",
    "assert tags_p[3].i is not None, 'The solution must have italic font in the paragraph 2'\n",
    "from utils import validate_python_code\n",
    "validate_python_code(\"get_html_description_solution.py\")\n",
    "print('tests passed', u'\\u2713')"
   ]
  },
  {
   "cell_type": "markdown",
   "id": "0a2e6d69",
   "metadata": {},
   "source": [
    "### Problem 3.2\n",
    "\n",
    "Create a Python function called `get_html_links` that returns an HTML string that reproduces the image below using the tag `a`.\n",
    "\n",
    "1. a link to program name with text `TIDSL PRODUCT DESIGN ENGINEERING, Year 1 (compulsory)` that, when clicked, opens the link https://www.student.chalmers.se/sp/programplan?program_id=1877&grade=1&conc_id=-1\n",
    "2. a link to program name with text `TKDES INDUSTRIAL DESIGN ENGINEERING, Year 3 (compulsory)` that, when clicked, opens the link https://www.student.chalmers.se/sp/programplan?program_id=1865&grade=3&conc_id=-1\n",
    "3. a link to the examiner's webpage with the text `Paolo Monti` that, when clicked, opens the link https://www.chalmers.se/en/persons/mpaolo/\n",
    "\n",
    "Documentation can be found [here](https://www.w3schools.com/html/html_links.asp).\n",
    "\n",
    "<img src=\"data:image/png;base64,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\"> </img>\n",
    "\n",
    "*Note that Visual Studio Code does not enable link clicks for security reasons.*"
   ]
  },
  {
   "cell_type": "code",
   "execution_count": 25,
   "id": "2b465549",
   "metadata": {
    "tags": [
     "solution",
     "solution-3.2",
     "html"
    ]
   },
   "outputs": [
    {
     "name": "stdout",
     "output_type": "stream",
     "text": [
      "Overwriting get_html_links_solution.py\n"
     ]
    }
   ],
   "source": [
    "%%writefile get_html_links_solution.py\n",
    "### BEGIN SOLUTION\n",
    "def get_html_links() -> str:\n",
    "    return \"\"\"\n",
    "    <p><b>In programs</b></p>\n",
    "    <p><a href=\\\n",
    "'https://www.student.chalmers.se/sp/programplan?program_id=1877&grade=1&conc_id=-1'>\\\n",
    "TIDSL PRODUCT DESIGN ENGINEERING, Year 1 (compulsory)</a></p>\n",
    "    <p><a href=\\\n",
    "'https://www.student.chalmers.se/sp/programplan?program_id=1865&grade=3&conc_id=-1'>\\\n",
    "TKDES INDUSTRIAL DESIGN ENGINEERING, Year 3 (compulsory)</a></p>\n",
    "    <p><b>Examiner</b></p>\n",
    "    <p><a href=\"https://www.chalmers.se/en/persons/mpaolo/\">Paolo Monti</a></p>\n",
    "    \"\"\"\n",
    "\n",
    "\n",
    "### END SOLUTION\n"
   ]
  },
  {
   "cell_type": "code",
   "execution_count": 26,
   "id": "cadea7d8",
   "metadata": {
    "tags": [
     "debug",
     "debug-3.2"
    ]
   },
   "outputs": [
    {
     "data": {
      "text/html": [
       "<!DOCTYPE html>\n",
       "    <html lang=\"en\">\n",
       "        <head>\n",
       "            <title>Page Title</title>\n",
       "        </head>\n",
       "        <body><p style=\"color: red;\">start of your solution &gt;&gt;&gt;&gt;</p>\n",
       "        \n",
       "    <p><b>In programs</b></p>\n",
       "    <p><a href='https://www.student.chalmers.se/sp/programplan?program_id=1877&grade=1&conc_id=-1'>TIDSL PRODUCT DESIGN ENGINEERING, Year 1 (compulsory)</a></p>\n",
       "    <p><a href='https://www.student.chalmers.se/sp/programplan?program_id=1865&grade=3&conc_id=-1'>TKDES INDUSTRIAL DESIGN ENGINEERING, Year 3 (compulsory)</a></p>\n",
       "    <p><b>Examiner</b></p>\n",
       "    <p><a href=\"https://www.chalmers.se/en/persons/mpaolo/\">Paolo Monti</a></p>\n",
       "         <p style=\"color: red;\">&lt;&lt;&lt;&lt; end of your solution</p></body>\n",
       "</html>"
      ],
      "text/plain": [
       "<IPython.core.display.HTML object>"
      ]
     },
     "metadata": {},
     "output_type": "display_data"
    }
   ],
   "source": [
    "# DO NOT REMOVE THIS CODE >>> BEGINNING\n",
    "# this cell assembles the HTML returned by the function that you wrote\n",
    "# and renders it in the \"preview\" window\n",
    "from IPython.display import display, HTML\n",
    "from get_html_links_solution import get_html_links\n",
    "html_header = \"\"\"<!DOCTYPE html>\n",
    "    <html lang=\"en\">\n",
    "        <head>\n",
    "            <title>Page Title</title>\n",
    "        </head>\n",
    "        <body><p style=\"color: red;\">start of your solution &gt;&gt;&gt;&gt;</p>\n",
    "        \"\"\"\n",
    "html_header_offset = 1  # number of lines in the header\n",
    "html_footer = \"\"\"     <p style=\"color: red;\">&lt;&lt;&lt;&lt; end of your solution</p></body>\n",
    "</html>\"\"\"\n",
    "\n",
    "html_to_test = html_header + get_html_links() + html_footer\n",
    "display(HTML(html_to_test))\n",
    "\n",
    "# DO NOT REMOVE THIS CODE <<< END"
   ]
  },
  {
   "cell_type": "code",
   "execution_count": 27,
   "id": "e46d1ba3",
   "metadata": {
    "tags": [
     "tests",
     "tests-3.2"
    ]
   },
   "outputs": [
    {
     "name": "stdout",
     "output_type": "stream",
     "text": [
      "first\n"
     ]
    },
    {
     "data": {
      "text/html": [
       "<div class=\"tip admonition\">\n",
       "<p class=\"admonition-title\">Code Quality Analysis: <span style=\"color: green\">Pass</span></p><p>*No problem was found*\n",
       "</p>\n",
       "    </div>"
      ],
      "text/plain": [
       "<IPython.core.display.HTML object>"
      ]
     },
     "metadata": {},
     "output_type": "display_data"
    },
    {
     "name": "stdout",
     "output_type": "stream",
     "text": [
      "tests passed ✓\n"
     ]
    }
   ],
   "source": [
    "%autoreload 2\n",
    "# test cell\n",
    "from bs4 import BeautifulSoup\n",
    "from get_html_links_solution import get_html_links\n",
    "\n",
    "html_to_test = html_header + get_html_links() + html_footer\n",
    "\n",
    "assert html_to_test.count('\\n') > 12, 'Your HTML seems to not have the sufficient lines.'\n",
    "\n",
    "validate_html(html_to_test)\n",
    "\n",
    "soup = BeautifulSoup(html_to_test, 'html.parser')\n",
    "tags_p = soup.find_all('p')\n",
    "tags_a = soup.find_all('a')\n",
    "\n",
    "assert len(tags_p) == 7, f'The solution must have 7 paragraphs in your HTML (including 2 paragraphs added in previous cell). You have {len(tags_p)} instead.'\n",
    "assert len(tags_a) == 3, f'The solution must have 3 links in your HTML. You have {len(tags_a)} instead.'\n",
    "\n",
    "for par_with_a in [2, 3, 5]:\n",
    "    assert tags_p[par_with_a].a is not None, \\\n",
    "        f'The solution must have a link in the paragraph {par_with_a + 1}.'\n",
    "\n",
    "for par_with_b in [1, 4]:\n",
    "    assert tags_p[par_with_b].b is not None, \\\n",
    "        f'The solution must have a bold font text in the paragraph {par_with_b + 1}.'\n",
    "\n",
    "assert tags_p[2].a.text == 'TIDSL PRODUCT DESIGN ENGINEERING, Year 1 (compulsory)', 'The text in the first link does not seem correct!'\n",
    "assert tags_p[2].a['href'] == 'https://www.student.chalmers.se/sp/programplan?program_id=1877&grade=1&conc_id=-1', 'The first link does not seem correct.'\n",
    "assert tags_p[3].a.text == 'TKDES INDUSTRIAL DESIGN ENGINEERING, Year 3 (compulsory)', 'The text in the second link does not seem correct!'\n",
    "assert tags_p[3].a['href'] == 'https://www.student.chalmers.se/sp/programplan?program_id=1865&grade=3&conc_id=-1', 'The second link does not seem correct.'\n",
    "assert tags_p[5].a.text == 'Paolo Monti', 'The text in the third link does not seem correct!'\n",
    "assert tags_p[5].a['href'] == 'https://www.chalmers.se/en/persons/mpaolo/', 'The third link does not seem correct.'\n",
    "\n",
    "from utils import validate_python_code\n",
    "validate_python_code(\"get_html_links_solution.py\")\n",
    "print('tests passed', u'\\u2713')"
   ]
  }
 ],
 "metadata": {
  "assignment_list": [
   "1.1",
   "1.2",
   "1.3",
   "1.4",
   "2.1",
   "2.2",
   "3.1",
   "3.2"
  ],
  "celltoolbar": "Tags",
  "kernelspec": {
   "display_name": ".venv",
   "language": "python",
   "name": "python3"
  },
  "language_info": {
   "codemirror_mode": {
    "name": "ipython",
    "version": 3
   },
   "file_extension": ".py",
   "mimetype": "text/x-python",
   "name": "python",
   "nbconvert_exporter": "python",
   "pygments_lexer": "ipython3",
   "version": "3.10.16"
  },
  "variation": 1
 },
 "nbformat": 4,
 "nbformat_minor": 5
}
