{
 "cells": [
  {
   "cell_type": "markdown",
   "id": "194fc03a",
   "metadata": {},
   "source": [
    "# EEN060 - Applied object-oriented programming\n",
    "\n",
    "Teacher: [Carlos Natalino](https://www.chalmers.se/en/staff/Pages/Carlos-Natalino-Da-Silva.aspx) / Examiner: [Paolo Monti](https://www.chalmers.se/en/staff/Pages/Paolo-Monti.aspx)\n",
    "\n",
    "[Canvas course page](https://chalmers.instructure.com/courses/28094)\n",
    "\n",
    "[Course channel on Chalmers Play](https://play.chalmers.se/channel/EEN060_EEN065_Applied_object-oriented_programming/300149)\n",
    "\n",
    "Before you turn this assignment list in, make sure everything runs as expected.\n",
    "First, **restart the kernel** and then **run all cells**.\n",
    "Then, check if all the tests run correctly.\n",
    "Note that if one of the problems present an error, the following ones **will not** be tested.\n",
    "\n",
    "In case of discrepancies between the problem command and the tests, you should solve it having in mind the tests.\n",
    "\n",
    "There are two types of cell:\n",
    "1. *solution cells:* These are the cells where you write your answer, or modify the existing code to solve the problem.\n",
    "2. *test cells:* These cells are used to test whether your solution is correct or not. If the tests run correctly, you should see a message `tests passed`. Otherwise, you should see an error message.\n",
    "\n",
    "**Delete** the line `raise NotImplementedError()` from the problems that you solve.\n",
    "\n",
    "**Do not delete or add any cell in this file.** All cells that you need are already in place.\n",
    "\n",
    "You may also have problems that will be manually graded (e.g., HTML/CSS/JS/pseudocode problems).\n",
    "These problems **do not** have a respective *test cell*.\n",
    "\n",
    "If you want to execute a cell, select the cell and press **CTRL+Enter** (in Windows) or **CMD+Enter** (in macOS) or click on the **Run cell** button.\n",
    "\n",
    "**If you want, you can solve this programming assignment using Google Colab**\n",
    "\n",
    "Link: https://colab.research.google.com/\n",
    "\n",
    "Just copy the following line to a code line and run it."
   ]
  },
  {
   "cell_type": "code",
   "execution_count": 1,
   "id": "2f447a6e",
   "metadata": {
    "tags": [
     "install"
    ]
   },
   "outputs": [],
   "source": [
    "# !pip install --upgrade --user pip pip-tools\n",
    "# !pip install ipykernel jupyter notebook wtforms flask flask-wtf gunicorn nose flask-testing pytest coverage flake8 requests mypy pylint blinker types-requests isort black lorem-text bs4 pep8-naming matplotlib redis"
   ]
  },
  {
   "cell_type": "markdown",
   "id": "0ffa1b78",
   "metadata": {},
   "source": [
    "# Assignment 4\n",
    "\n",
    "In this assignment, students should practice:\n",
    " - how to use built-in functionalities\n",
    " - how to use standard Python modules\n",
    " - how to find and use external Python modules\n",
    " - how to define classes\n",
    " - how to instantiate and intialize objects\n",
    " - how to define attributes\n",
    " - how to define methods\n",
    " - how to use inheritance\n",
    " - how to use composition\n",
    " - how to use dataclasses\n",
    " - how to set HTML styles property\n",
    "\n",
    " **Observations:**\n",
    " For the problems in this assignment, you should:\n",
    " - use the command `import`, if needed, within the solution cell, every time you need to use some module.\n",
    "- make sure that your `utils.py` file has the following line (i.e., replace `onu2` by `onu1` if needed):\n",
    "\n",
    "`url_html_validator = \"https://onu1.s2.chalmers.se/nu/?out=json\"`\n",
    "\n",
    " Reading material:\n",
    " - lecture notes\n",
    " - Online documentation:\n",
    "   - Python online documentation: https://docs.python.org/3.10/tutorial/modules.html\n",
    "   - Specific modules (for optional reading):\n",
    "     - datetime: https://docs.python.org/3.10/library/datetime.html\n",
    "     - math: https://docs.python.org/3.10/library/math.html\n",
    "     - random: https://docs.python.org/3.10/library/random.html\n",
    "     - statistics: https://docs.python.org/3.10/library/statistics.html\n",
    "\n",
    "**Preparation:** Run the cell below every time you start working on this file, and every time you restart the kernel."
   ]
  },
  {
   "cell_type": "code",
   "execution_count": 2,
   "id": "dfbd045c",
   "metadata": {
    "nbgrader": {
     "grade": false,
     "grade_id": "activate-autoreload",
     "locked": true,
     "schema_version": 3,
     "solution": false,
     "task": false
    },
    "tags": [
     "load"
    ]
   },
   "outputs": [],
   "source": [
    "%load_ext autoreload\n",
    "try:\n",
    "    from utils import validate_python_code, validate_html\n",
    "except:\n",
    "    import sys\n",
    "    print(\"It seems this file is in the wrong folder. \"\n",
    "          \"Make sure to place it in the `programming-assignments` folder/project.\",\n",
    "          file=sys.stderr)"
   ]
  },
  {
   "cell_type": "markdown",
   "id": "a6927533",
   "metadata": {},
   "source": [
    "## Level 1\n",
    "\n",
    "Level 1 problems are simple problems that required only the knowledge obtained in the content of the lecture and the lecture notes of the particular lecture.\n",
    "In our case, the official documentation of Python also applies."
   ]
  },
  {
   "cell_type": "markdown",
   "id": "2ce0387f",
   "metadata": {},
   "source": [
    "### Problem 1.1\n",
    "\n",
    "Create a Python function called `prod_list` that receives a list of numbers (`int` or `float`) as an input, and returns the product of all the elements in the list.\n",
    "\n",
    "You must use the function `prod` from `math` module to solve this problem."
   ]
  },
  {
   "cell_type": "markdown",
   "id": "1cc119e5",
   "metadata": {},
   "source": [
    "```\n",
    "# write here your pseudocode (not graded)\n",
    "\n",
    "# * pseudocode is necessary when asking for help during the lab\n",
    "```"
   ]
  },
  {
   "cell_type": "code",
   "execution_count": 3,
   "id": "8535e17c",
   "metadata": {
    "nbgrader": {
     "grade": false,
     "grade_id": "cell-answer-1-1",
     "locked": false,
     "schema_version": 3,
     "solution": true,
     "task": false
    },
    "tags": [
     "solution",
     "solution-1.1"
    ]
   },
   "outputs": [
    {
     "name": "stdout",
     "output_type": "stream",
     "text": [
      "Overwriting prod_list_solution.py\n"
     ]
    }
   ],
   "source": [
    "%%writefile prod_list_solution.py\n",
    "# solution cell\n",
    "### BEGIN SOLUTION\n",
    "from math import prod\n",
    "\n",
    "\n",
    "def prod_list(lst: list[int | float]) -> int | float:\n",
    "    return prod(lst)\n",
    "\n",
    "\n",
    "### END SOLUTION\n"
   ]
  },
  {
   "cell_type": "code",
   "execution_count": 4,
   "id": "be5e3e53",
   "metadata": {
    "nbgrader": {
     "grade": false,
     "grade_id": "cell-debug-1-1",
     "locked": true,
     "schema_version": 3,
     "solution": false,
     "task": false
    },
    "tags": [
     "debug",
     "debug-1.1"
    ]
   },
   "outputs": [
    {
     "name": "stdout",
     "output_type": "stream",
     "text": [
      "The product of [10, 12.0, 15, 17] is 30600.0\n",
      "Execution finished ✓\n"
     ]
    }
   ],
   "source": [
    "%autoreload 2\n",
    "# uncomment the line(s) below to debug\n",
    "from prod_list_solution import prod_list\n",
    "\n",
    "input_list = [10, 12.0, 15, 17] \n",
    "product = prod_list(input_list)\n",
    "print(f'The product of {input_list} is {product}')\n",
    "print('Execution finished', u'\\u2713')"
   ]
  },
  {
   "cell_type": "code",
   "execution_count": 5,
   "id": "565a3204",
   "metadata": {
    "nbgrader": {
     "grade": true,
     "grade_id": "cell-tests-1-1",
     "locked": true,
     "points": 1,
     "schema_version": 3,
     "solution": false,
     "task": false
    },
    "tags": [
     "tests",
     "tests-1.1"
    ]
   },
   "outputs": [
    {
     "data": {
      "text/html": [
       "<div class=\"tip admonition\">\n",
       "<p class=\"admonition-title\">Code Quality Analysis: <span style=\"color: green\">Pass</span></p><p>*No problem was found*\n",
       "</p>\n",
       "    </div>"
      ],
      "text/plain": [
       "<IPython.core.display.HTML object>"
      ]
     },
     "metadata": {},
     "output_type": "display_data"
    },
    {
     "name": "stdout",
     "output_type": "stream",
     "text": [
      "tests passed ✓\n"
     ]
    }
   ],
   "source": [
    "%autoreload 2\n",
    "# test cell\n",
    "try:\n",
    "    import prod_list_solution\n",
    "except:\n",
    "    raise ValueError(\"You did not execute your solution cell!\")\n",
    "try:\n",
    "    from prod_list_solution import prod_list\n",
    "except:\n",
    "    raise ValueError(\"Your solution does not contain the right function!\")\n",
    "\n",
    "with open(\"prod_list_solution.py\", \"rt\", encoding=\"UTF-8\") as file:\n",
    "    content = file.read()\n",
    "    assert \"math\" in content, \"You must import the `math` module.\"\n",
    "\n",
    "from nose.tools import assert_equal\n",
    "\n",
    "assert_equal(prod_list([]), 1)\n",
    "assert_equal(prod_list([1, 2, 3.0, 4, 5]), 120.0)\n",
    "assert_equal(prod_list([10, 12.0, 15, 17]), 30600.0)\n",
    "assert_equal(prod_list([10, 12.0, 15, -17]), -30600.0)\n",
    "\n",
    "validate_python_code(\"prod_list_solution.py\")\n",
    "print('tests passed', u'\\u2713')"
   ]
  },
  {
   "cell_type": "markdown",
   "id": "3443d0d0",
   "metadata": {},
   "source": [
    "### Problem 1.2\n",
    "\n",
    "Create a Python function called `gm_median` that receives a list of numbers (`int` or `float`) as parameter.\n",
    "The function should return the geometric mean, and the median of the list, computed using the module `statistics`. The result should be returned as a `tuple`."
   ]
  },
  {
   "cell_type": "markdown",
   "id": "070998fb",
   "metadata": {},
   "source": [
    "```\n",
    "# write here your pseudocode (not graded)\n",
    "\n",
    "# * pseudocode is necessary when asking for help during the lab\n",
    "```"
   ]
  },
  {
   "cell_type": "code",
   "execution_count": 12,
   "id": "610183aa",
   "metadata": {
    "nbgrader": {
     "grade": false,
     "grade_id": "cell-answer-1-2",
     "locked": false,
     "schema_version": 3,
     "solution": true,
     "task": false
    },
    "tags": [
     "solution",
     "solution-1.2"
    ]
   },
   "outputs": [
    {
     "name": "stdout",
     "output_type": "stream",
     "text": [
      "Overwriting gm_median_solution.py\n"
     ]
    }
   ],
   "source": [
    "%%writefile gm_median_solution.py\n",
    "# solution cell\n",
    "### BEGIN SOLUTION\n",
    "import statistics\n",
    "\n",
    "\n",
    "def gm_median(lst: list[int | float]) -> tuple[int | float, int | float]:\n",
    "    # Calculate geometric mean\n",
    "    gm = statistics.geometric_mean(lst)\n",
    "    # Calculate the median\n",
    "    median_value = statistics.median(lst)\n",
    "    return gm, median_value\n",
    "\n",
    "\n",
    "### END SOLUTION\n"
   ]
  },
  {
   "cell_type": "code",
   "execution_count": 13,
   "id": "69429dcf",
   "metadata": {
    "nbgrader": {
     "grade": false,
     "grade_id": "cell-debug-1-2",
     "locked": true,
     "schema_version": 3,
     "solution": false,
     "task": false
    },
    "tags": [
     "debug",
     "debug-1.2"
    ]
   },
   "outputs": [
    {
     "name": "stdout",
     "output_type": "stream",
     "text": [
      "Numbers: [30.36, 90.42, 35, 42.3, 23.0, 21.1, 90, 39.63, 60.46, 62.1]\n",
      "Geomtric Mean: 43.87136324804066\n",
      "Median: 40.965\n"
     ]
    }
   ],
   "source": [
    "%autoreload 2\n",
    "# uncomment the line(s) below to debug\n",
    "from gm_median_solution import gm_median\n",
    "\n",
    "numbers = [30.36, 90.42, 35, 42.3, 23.0, 21.1, 90, 39.63, 60.46, 62.1]\n",
    "print(f'Numbers: {numbers}')\n",
    "stats = gm_median(numbers)\n",
    "print(f'Geomtric Mean: {stats[0]}')\n",
    "print(f'Median: {stats[1]}')\n",
    "# print('Execution finished', u'\\u2713')"
   ]
  },
  {
   "cell_type": "code",
   "execution_count": 14,
   "id": "104242b8",
   "metadata": {
    "nbgrader": {
     "grade": true,
     "grade_id": "cell-test-1-2",
     "locked": true,
     "points": 1,
     "schema_version": 3,
     "solution": false,
     "task": false
    },
    "tags": [
     "tests",
     "tests-1.2"
    ]
   },
   "outputs": [
    {
     "data": {
      "text/html": [
       "<div class=\"tip admonition\">\n",
       "<p class=\"admonition-title\">Code Quality Analysis: <span style=\"color: green\">Pass</span></p><p>*No problem was found*\n",
       "</p>\n",
       "    </div>"
      ],
      "text/plain": [
       "<IPython.core.display.HTML object>"
      ]
     },
     "metadata": {},
     "output_type": "display_data"
    },
    {
     "name": "stdout",
     "output_type": "stream",
     "text": [
      "tests passed ✓\n"
     ]
    }
   ],
   "source": [
    "%autoreload 2\n",
    "# test cell\n",
    "try:\n",
    "    import gm_median_solution\n",
    "except:\n",
    "    raise ValueError(\"You did not execute your solution cell!\")\n",
    "try:\n",
    "    from gm_median_solution import gm_median\n",
    "except:\n",
    "    raise ValueError(\"Your solution does not contain the right function!\")\n",
    "\n",
    "with open(\"gm_median_solution.py\", \"rt\", encoding=\"UTF-8\") as file:\n",
    "    content = file.read()\n",
    "    assert \"statistics\" in content, \"You must import the `statistics` module.\"\n",
    "\n",
    "from nose.tools import assert_equal\n",
    "\n",
    "assert_equal(isinstance(gm_median([15.88, 48.0, 53.9, 4, 93]), tuple), True)\n",
    "assert len(gm_median([15.88, 48.0, 53.9, 4, 93])) == 2, 'The return of the function must be a sequence with 3 elements.'\n",
    "assert_equal(gm_median([15.88, 48.0, 53.9, 4, 93]), (27.34290717539487, 48.0))\n",
    "assert_equal(gm_median([2, 69, 39, 40, 35, 99]), (30.115112319375513, 39.5))\n",
    "\n",
    "from unittest.mock import patch\n",
    "\n",
    "with patch('statistics.geometric_mean') as mock_stdev:\n",
    "    gm_median([2.58, 69.7])\n",
    "mock_stdev.assert_called_once()\n",
    "\n",
    "validate_python_code(\"gm_median_solution.py\")\n",
    "print('tests passed', u'\\u2713')"
   ]
  },
  {
   "cell_type": "markdown",
   "id": "49650888",
   "metadata": {},
   "source": [
    "### Problem 1.3\n",
    "\n",
    "Create a Python function called `random_mobile_number_generator` that randomly generates a mobile number (`str`). \n",
    "\n",
    "The number should start with either of `0`, `46`, or `+46`. The remaining part of the number has length 9 such that the first digit is between 1 to 9 and the other digits are between 0 to 9.\n",
    "\n",
    "You must import and use module `random` in your solution."
   ]
  },
  {
   "cell_type": "markdown",
   "id": "d2b99d30",
   "metadata": {},
   "source": [
    "```\n",
    "# write here your pseudocode (not graded)\n",
    "\n",
    "# * pseudocode is necessary when asking for help during the lab\n",
    "```"
   ]
  },
  {
   "cell_type": "code",
   "execution_count": 21,
   "id": "91c1450d",
   "metadata": {
    "nbgrader": {
     "grade": false,
     "grade_id": "cell-answer-1-3",
     "locked": false,
     "schema_version": 3,
     "solution": true,
     "task": false
    },
    "tags": [
     "solution",
     "solution-1.3"
    ]
   },
   "outputs": [
    {
     "name": "stdout",
     "output_type": "stream",
     "text": [
      "Overwriting random_mobile_number_solution.py\n"
     ]
    }
   ],
   "source": [
    "%%writefile random_mobile_number_solution.py\n",
    "# solution cell\n",
    "### BEGIN SOLUTION\n",
    "import random\n",
    "\n",
    "\n",
    "def random_mobile_number_generator() -> str:\n",
    "    # Randomly choose the initial part of the number\n",
    "    prefix_options = [\"0\", \"46\", \"+46\"]\n",
    "    prefix = random.choice(prefix_options)\n",
    "\n",
    "    # Generate the remaining 9 digits\n",
    "    first_digit = random.randint(1, 9)  # The first digit must be between 1 and 9\n",
    "    remaining_digits = [str(random.randint(0, 9)) for _ in range(8)]\n",
    "    number_body = str(first_digit) + \"\".join(remaining_digits)\n",
    "    # Combine the prefix with the number body\n",
    "    mobile_number = prefix + number_body\n",
    "    return mobile_number\n",
    "\n",
    "\n",
    "### END SOLUTION\n"
   ]
  },
  {
   "cell_type": "code",
   "execution_count": 22,
   "id": "2bfd0030",
   "metadata": {
    "nbgrader": {
     "grade": false,
     "grade_id": "cell-debug-1-3",
     "locked": true,
     "schema_version": 3,
     "solution": false,
     "task": false
    },
    "tags": [
     "debug",
     "debug-1.3"
    ]
   },
   "outputs": [
    {
     "name": "stdout",
     "output_type": "stream",
     "text": [
      "Here are some random mobile numbers:\n",
      "+46322311650\n",
      "+46981166586\n",
      "+46382939286\n",
      "+46963886865\n",
      "+46857737755\n",
      "Execution finished ✓\n"
     ]
    }
   ],
   "source": [
    "%autoreload 2\n",
    "# uncomment the line(s) below to debug\n",
    "from random_mobile_number_solution import random_mobile_number_generator\n",
    "\n",
    "print('Here are some random mobile numbers:')\n",
    "for i in range(5):\n",
    "    print(random_mobile_number_generator())\n",
    "print('Execution finished', u'\\u2713')"
   ]
  },
  {
   "cell_type": "code",
   "execution_count": 23,
   "id": "f797ba9e",
   "metadata": {
    "nbgrader": {
     "grade": true,
     "grade_id": "cell-test-1-3",
     "locked": true,
     "points": 1,
     "schema_version": 3,
     "solution": false,
     "task": false
    },
    "tags": [
     "tests",
     "tests-1.3"
    ]
   },
   "outputs": [
    {
     "data": {
      "text/html": [
       "<div class=\"tip admonition\">\n",
       "<p class=\"admonition-title\">Code Quality Analysis: <span style=\"color: green\">Pass</span></p><p>*No problem was found*\n",
       "</p>\n",
       "    </div>"
      ],
      "text/plain": [
       "<IPython.core.display.HTML object>"
      ]
     },
     "metadata": {},
     "output_type": "display_data"
    },
    {
     "name": "stdout",
     "output_type": "stream",
     "text": [
      "tests passed ✓\n"
     ]
    }
   ],
   "source": [
    "%autoreload 2\n",
    "# test cell\n",
    "try:\n",
    "    import random_mobile_number_solution\n",
    "except:\n",
    "    raise ValueError(\"You did not execute your solution cell!\")\n",
    "try:\n",
    "    from random_mobile_number_solution import random_mobile_number_generator\n",
    "except:\n",
    "    raise ValueError(\"Your solution does not contain the right function!\")\n",
    "\n",
    "with open(\"random_mobile_number_solution.py\", \"rt\", encoding=\"UTF-8\") as file:\n",
    "    content = file.read()\n",
    "    assert \"random\" in content, \"You must import the `random` module.\"\n",
    "\n",
    "from nose.tools import assert_almost_equal\n",
    "# testing the probability\n",
    "import collections\n",
    "import random\n",
    "\n",
    "idx_digit = random.randint(1, 8)\n",
    "number_samples = 100000\n",
    "count_prefix = collections.defaultdict(int)\n",
    "count_digit = collections.defaultdict(int)\n",
    "valid_prefixes = [\"0\", \"46\", \"+46\"]\n",
    "\n",
    "for i in range(number_samples):\n",
    "    number = random_mobile_number_generator()\n",
    "    res = [number.startswith(prefix) for prefix in valid_prefixes]\n",
    "    assert any(res) == True, f\"Generated number {number} is invalid due to incorrect prefix. Check the rules again.\"\n",
    "    prefix = valid_prefixes[res.index(True)]\n",
    "    count_prefix[prefix] += 1\n",
    "    remaining_part = number.replace(prefix, '', 1)\n",
    "    assert remaining_part.isdigit() == True, f\"Generated number {number} is invalid due to incorrect digits. Check the rules again.\"\n",
    "    assert len(remaining_part) == 9, f\"Generated number {number} is invalid due to incorrect length. Check the rules again.\"\n",
    "    assert remaining_part[0] != '0', f\"Generated number {number} is invalid due to 0 in first digit after prefix. Check the rules again.\"\n",
    "    count_digit[remaining_part[idx_digit]] += 1\n",
    "\n",
    "for _, count in count_prefix.items():\n",
    "    assert_almost_equal(count / number_samples, 1/3, places=2)\n",
    "\n",
    "for _, count in count_digit.items():\n",
    "    assert_almost_equal(count / number_samples, 1/10, places=2)\n",
    "\n",
    "validate_python_code(\"random_mobile_number_solution.py\")\n",
    "print('tests passed', u'\\u2713')"
   ]
  },
  {
   "cell_type": "markdown",
   "id": "cfd11efa",
   "metadata": {},
   "source": [
    "### Problem 1.4\n",
    "\n",
    "Create a Python class with the name `VolumeCalculator`.\n",
    "\n",
    "The initialization `.__init__()` method receives a number and assign the value to the attribute `radius`.\n",
    "\n",
    "Then, create a method named `volume()` that returns the volume of the sphere using the `radius` attribute.\n",
    "If the `radius` attribute is `None` or $\\leq 0$ the method `volume()` should return `None`.\n",
    "\n",
    "**Remember:** from the `math` module, import `pi`."
   ]
  },
  {
   "cell_type": "markdown",
   "id": "392fdd9d",
   "metadata": {},
   "source": [
    "```\n",
    "# write here your pseudocode (not graded)\n",
    "\n",
    "# * pseudocode is necessary when asking for help during the lab\n",
    "```"
   ]
  },
  {
   "cell_type": "code",
   "execution_count": 44,
   "id": "de0260a4",
   "metadata": {
    "nbgrader": {
     "grade": false,
     "grade_id": "answer-1-5",
     "locked": false,
     "schema_version": 3,
     "solution": true,
     "task": false
    },
    "pycharm": {
     "name": "#%%\n"
    },
    "tags": [
     "solution",
     "solution-1.4"
    ]
   },
   "outputs": [
    {
     "name": "stdout",
     "output_type": "stream",
     "text": [
      "Overwriting volume_calculator_class.py\n"
     ]
    }
   ],
   "source": [
    "%%writefile volume_calculator_class.py\n",
    "# solution cell\n",
    "### BEGIN SOLUTION\n",
    "from math import pi\n",
    "\n",
    "\n",
    "class VolumeCalculator:\n",
    "    def __init__(self, radius: float | int | None) -> None:\n",
    "        self.radius = radius\n",
    "\n",
    "    def volume(self) -> float | None:\n",
    "        if self.radius is None or self.radius <= 0:\n",
    "            return None\n",
    "        return (4 / 3) * pi * self.radius**3\n",
    "\n",
    "\n",
    "### END SOLUTION\n"
   ]
  },
  {
   "cell_type": "code",
   "execution_count": 42,
   "id": "777c7d92",
   "metadata": {
    "nbgrader": {
     "grade": false,
     "grade_id": "debug-1-5",
     "locked": true,
     "schema_version": 3,
     "solution": false,
     "task": false
    },
    "tags": [
     "debug",
     "debug-1.4"
    ]
   },
   "outputs": [
    {
     "name": "stdout",
     "output_type": "stream",
     "text": [
      "The volume of a sphere with radius 2 is 33.510321638291124\n",
      "Execution finished ✓\n"
     ]
    }
   ],
   "source": [
    "%autoreload 2\n",
    "# uncomment the line(s) below to debug\n",
    "from volume_calculator_class import VolumeCalculator\n",
    "\n",
    "radius = 2\n",
    "s = VolumeCalculator(radius)\n",
    "print(f'The volume of a sphere with radius {radius} is {s.volume()}')\n",
    "print('Execution finished', u'\\u2713')"
   ]
  },
  {
   "cell_type": "code",
   "execution_count": 45,
   "id": "1142533d",
   "metadata": {
    "nbgrader": {
     "grade": true,
     "grade_id": "tests-1-5",
     "locked": true,
     "points": 1,
     "schema_version": 3,
     "solution": false,
     "task": false
    },
    "pycharm": {
     "name": "#%%\n"
    },
    "tags": [
     "tests",
     "tests-1.4"
    ]
   },
   "outputs": [
    {
     "data": {
      "text/html": [
       "<div class=\"tip admonition\">\n",
       "<p class=\"admonition-title\">Code Quality Analysis: <span style=\"color: green\">Pass</span></p><p>*No problem was found*\n",
       "</p>\n",
       "    </div>"
      ],
      "text/plain": [
       "<IPython.core.display.HTML object>"
      ]
     },
     "metadata": {},
     "output_type": "display_data"
    },
    {
     "name": "stdout",
     "output_type": "stream",
     "text": [
      "tests passed ✓\n"
     ]
    }
   ],
   "source": [
    "%autoreload 2\n",
    "# test cell\n",
    "try:\n",
    "    import volume_calculator_class\n",
    "except:\n",
    "    raise ValueError(\"You did not execute your solution cell!\")\n",
    "try:\n",
    "    from volume_calculator_class import VolumeCalculator\n",
    "except:\n",
    "    raise ValueError(\"Your solution does not contain the right function!\")\n",
    "\n",
    "with open(\"volume_calculator_class.py\", \"rt\", encoding=\"UTF-8\") as file:\n",
    "    content = file.read()\n",
    "    assert \"math\" in content, \"You must import `pi` from the `math` module.\"\n",
    "\n",
    "from nose.tools import assert_equal, assert_almost_equal\n",
    "import math\n",
    "\n",
    "assert 'VolumeCalculator' in dir(), 'Class VolumeCalculator does not exist!'\n",
    "assert 'volume' in dir(VolumeCalculator), 'Method volume() does not exist!'\n",
    "s = VolumeCalculator(None)\n",
    "assert s.volume() == None, 'Method volume() should return None for invalid values.'\n",
    "s = VolumeCalculator(0)\n",
    "assert s.volume() == None, 'Method volume() should return None for invalid values.'\n",
    "s = VolumeCalculator(-1)\n",
    "assert s.volume() == None, 'Method volume() should return None for invalid values.'\n",
    "s = VolumeCalculator(1)\n",
    "assert isinstance(s.volume(), float) or isinstance(s.volume(), int), 'The return type of the function volume() does not match the problem description.'\n",
    "assert_almost_equal(s.volume(), 4.18, places=1)\n",
    "s = VolumeCalculator(2)\n",
    "assert isinstance(s.volume(), float) or isinstance(s.volume(), int), 'The return type of the function volume() does not match the problem description.'\n",
    "assert_almost_equal(s.volume(), 33.5, places=1)\n",
    "\n",
    "validate_python_code(\"volume_calculator_class.py\")\n",
    "print('tests passed', u'\\u2713')"
   ]
  },
  {
   "cell_type": "markdown",
   "id": "51d93293",
   "metadata": {},
   "source": [
    "### Problem 1.5\n",
    "\n",
    "Create a Python class named `Person`.\n",
    "In the initialization method, the parameters are:\n",
    "1. Name (mandatory)\n",
    "2. role (mandatory)\n",
    "3. person number (mandatory)\n",
    "4. address (optional, `None` by default)\n",
    "5. phone number (optional, `None` by default)\n",
    "\n",
    "The initialization method should save these parameters as attributes.\n",
    "\n",
    "The class should also have a `__repr__()` method that returns a string containing only the attributes that are not `None`, separated by `\\t` characters."
   ]
  },
  {
   "cell_type": "code",
   "execution_count": 83,
   "id": "0810453c",
   "metadata": {
    "tags": [
     "solution",
     "solution-1.5"
    ]
   },
   "outputs": [
    {
     "name": "stdout",
     "output_type": "stream",
     "text": [
      "Overwriting person_class.py\n"
     ]
    }
   ],
   "source": [
    "%%writefile person_class.py\n",
    "# solution cell\n",
    "### BEGIN SOLUTION\n",
    "class Person:\n",
    "    def __init__(\n",
    "        self,\n",
    "        name: str,\n",
    "        role: str,\n",
    "        person_num: str,\n",
    "        address: str | None = None,\n",
    "        phone_num: str | None = None,\n",
    "    ) -> None:\n",
    "        self.name = name\n",
    "        self.role = role\n",
    "        self.person_num = person_num\n",
    "        self.address = address\n",
    "        self.phone_num = phone_num\n",
    "\n",
    "    def __repr__(self) -> str:\n",
    "        # Collect attributes that are not None into a list\n",
    "        attributes = [\n",
    "            f\"{self.name}\",\n",
    "            f\"{self.role}\",\n",
    "            f\"{self.person_num}\",\n",
    "        ]\n",
    "        if self.address is not None:\n",
    "            attributes.append(f\"{self.address}\")\n",
    "        if self.phone_num is not None:\n",
    "            attributes.append(f\"{self.phone_num}\")\n",
    "        # Join the attributes with tab characters\n",
    "        return \"\\t\".join(attributes)\n",
    "\n",
    "\n",
    "### END SOLUTION\n"
   ]
  },
  {
   "cell_type": "code",
   "execution_count": 84,
   "id": "d006fd96",
   "metadata": {
    "tags": [
     "debug",
     "debug-1.5"
    ]
   },
   "outputs": [
    {
     "name": "stdout",
     "output_type": "stream",
     "text": [
      "The Person object converts to string as John Doe\tManager\t201414202014\n",
      "Execution finished ✓\n"
     ]
    }
   ],
   "source": [
    "%autoreload 2\n",
    "# uncomment the line(s) below to debug\n",
    "from person_class import Person\n",
    "\n",
    "person = Person('John Doe', 'Manager', '201414202014')\n",
    "print(f'The Person object converts to string as {person}')\n",
    "print('Execution finished', u'\\u2713')"
   ]
  },
  {
   "cell_type": "code",
   "execution_count": 85,
   "id": "58b30175",
   "metadata": {
    "tags": [
     "tests",
     "tests-1.5"
    ]
   },
   "outputs": [
    {
     "data": {
      "text/html": [
       "<div class=\"tip admonition\">\n",
       "<p class=\"admonition-title\">Code Quality Analysis: <span style=\"color: green\">Pass</span></p><p>*No problem was found*\n",
       "</p>\n",
       "    </div>"
      ],
      "text/plain": [
       "<IPython.core.display.HTML object>"
      ]
     },
     "metadata": {},
     "output_type": "display_data"
    },
    {
     "name": "stdout",
     "output_type": "stream",
     "text": [
      "tests passed ✓\n"
     ]
    }
   ],
   "source": [
    "%autoreload 2\n",
    "# test cell\n",
    "try:\n",
    "    import person_class\n",
    "except:\n",
    "    raise ValueError(\"You did not execute your solution cell!\")\n",
    "try:\n",
    "    from person_class import Person\n",
    "except:\n",
    "    raise ValueError(\"Your solution does not contain the right function!\")\n",
    "\n",
    "from nose.tools import assert_equal\n",
    "from unittest.mock import patch\n",
    "\n",
    "assert 'Person' in dir(), 'Class Person does not exist!'\n",
    "p = Person('John Doe', 'Manager', '201414202014' )\n",
    "\n",
    "with patch('__main__.print') as mock_print:\n",
    "    s = str(p)\n",
    "mock_print.assert_not_called()\n",
    "\n",
    "assert_equal(str(p), 'John Doe\\tManager\\t201414202014')\n",
    "p = Person('Jane Doe', 'Supervisor', '201212202012', 'Gibraltargatan')\n",
    "assert_equal(str(p), 'Jane Doe\\tSupervisor\\t201212202012\\tGibraltargatan')\n",
    "p = Person('Jane Doe', 'Supervisor', '201212202012', 'Gibraltargatan', '123456')\n",
    "assert_equal(str(p), 'Jane Doe\\tSupervisor\\t201212202012\\tGibraltargatan\\t123456')\n",
    "p = Person('Jane Doe', 'Supervisor', '201212202012', '123456')\n",
    "assert_equal(str(p), 'Jane Doe\\tSupervisor\\t201212202012\\t123456')\n",
    "p = Person('Jane Doe', 'Super visor', '201212 202012',  'Gibraltar gatan')\n",
    "assert_equal(str(p), 'Jane Doe\\tSuper visor\\t201212 202012\\tGibraltar gatan')\n",
    "\n",
    "validate_python_code(\"person_class.py\")\n",
    "print('tests passed', u'\\u2713')"
   ]
  },
  {
   "cell_type": "markdown",
   "id": "244d9d7a",
   "metadata": {},
   "source": [
    "---\n",
    "## Level 2\n",
    "\n",
    "Problems in level 2 should build upon the content of the lecture and the content of previous lectures.\n",
    "Therefore, the problems can be solved based solely on the lecture notes available for the course up to the lecture the assignment is about."
   ]
  },
  {
   "cell_type": "markdown",
   "id": "0b5d5cbd",
   "metadata": {},
   "source": [
    "### Problem 2.1\n",
    "\n",
    "Create a Python function called `lottery_numbers` that receives three parameters:\n",
    "- how many numbers should be selected.\n",
    "- the upper bound for the number generation;\n",
    "- the lower bound for the number generation;\n",
    "\n",
    "The function should generate a list of integer numbers with the correct number of elements, each element between the informed lower and upper bounds.\n",
    "Remember that numbers in the list must not repeat.\n",
    "\n",
    "The function should also validate the input. If any of the parameters is out of the range the function should return `None`. The conditions for parameters are:\n",
    "- lower bound $\\geq 0$, \n",
    "- upper bound $\\geq 1$, \n",
    "- number $\\ge 1$ \n",
    "- (upper bound - lower bound) $\\geq$ (number - 1).\n"
   ]
  },
  {
   "cell_type": "markdown",
   "id": "60508976",
   "metadata": {},
   "source": [
    "```\n",
    "# write here your pseudocode (not graded)\n",
    "\n",
    "# * pseudocode is necessary when asking for help during the lab\n",
    "```"
   ]
  },
  {
   "cell_type": "code",
   "execution_count": 92,
   "id": "a2d39175",
   "metadata": {
    "nbgrader": {
     "grade": false,
     "grade_id": "cell-answer-2-1",
     "locked": false,
     "schema_version": 3,
     "solution": true,
     "task": false
    },
    "tags": [
     "solution",
     "solution-2.1"
    ]
   },
   "outputs": [
    {
     "name": "stdout",
     "output_type": "stream",
     "text": [
      "Overwriting lottery_numbers_solution.py\n"
     ]
    }
   ],
   "source": [
    "%%writefile lottery_numbers_solution.py\n",
    "# solution cell\n",
    "### BEGIN SOLUTION\n",
    "import random\n",
    "\n",
    "\n",
    "def lottery_numbers(\n",
    "    selected_num: int, upper_bound: int, lower_bound: int\n",
    ") -> list[int] | None:\n",
    "\n",
    "    # Validate inputs\n",
    "    if lower_bound < 0:\n",
    "        return None\n",
    "    if upper_bound < 1:\n",
    "        return None\n",
    "    if selected_num < 1:\n",
    "        return None\n",
    "    if (upper_bound - lower_bound) < (selected_num - 1):\n",
    "        return None\n",
    "\n",
    "    # Generate unique random numbers within the range\n",
    "    return random.sample(range(lower_bound, upper_bound + 1), selected_num)\n",
    "\n",
    "\n",
    "### END SOLUTION\n"
   ]
  },
  {
   "cell_type": "code",
   "execution_count": 93,
   "id": "54329d70",
   "metadata": {
    "nbgrader": {
     "grade": false,
     "grade_id": "debug-2-1",
     "locked": true,
     "schema_version": 3,
     "solution": false,
     "task": false
    },
    "tags": [
     "debug",
     "debug-2.1"
    ]
   },
   "outputs": [
    {
     "name": "stdout",
     "output_type": "stream",
     "text": [
      "Generating 5 numbers between 10 and 50 is [30, 20, 48, 14, 47]\n",
      "Execution finished ✓\n"
     ]
    }
   ],
   "source": [
    "%autoreload 2\n",
    "# uncomment the line(s) below to debug\n",
    "from lottery_numbers_solution import lottery_numbers\n",
    "\n",
    "result = lottery_numbers(5, 50, 10)\n",
    "print(f'Generating 5 numbers between 10 and 50 is {result}')\n",
    "print('Execution finished', u'\\u2713')"
   ]
  },
  {
   "cell_type": "code",
   "execution_count": 94,
   "id": "bf315b25",
   "metadata": {
    "nbgrader": {
     "grade": true,
     "grade_id": "cell-test-2-1",
     "locked": true,
     "points": 1,
     "schema_version": 3,
     "solution": false,
     "task": false
    },
    "tags": [
     "tests",
     "tests-2.1"
    ]
   },
   "outputs": [
    {
     "data": {
      "text/html": [
       "<div class=\"tip admonition\">\n",
       "<p class=\"admonition-title\">Code Quality Analysis: <span style=\"color: green\">Pass</span></p><p>*No problem was found*\n",
       "</p>\n",
       "    </div>"
      ],
      "text/plain": [
       "<IPython.core.display.HTML object>"
      ]
     },
     "metadata": {},
     "output_type": "display_data"
    },
    {
     "name": "stdout",
     "output_type": "stream",
     "text": [
      "tests passed ✓\n"
     ]
    }
   ],
   "source": [
    "# test cell\n",
    "%autoreload 2\n",
    "try:\n",
    "    import lottery_numbers_solution\n",
    "except:\n",
    "    raise ValueError(\"You did not execute your solution cell!\")\n",
    "try:\n",
    "    from lottery_numbers_solution import lottery_numbers\n",
    "except:\n",
    "    raise ValueError(\"Your solution does not contain the right function!\")\n",
    "\n",
    "from nose.tools import assert_equal\n",
    "\n",
    "result = lottery_numbers(5, 50, 10)\n",
    "\n",
    "assert len(result) == len(set(result)), 'There are repeated elements in the list'\n",
    "assert min(result) >= 10\n",
    "assert max(result) <= 50\n",
    "assert len(result) == 5\n",
    "\n",
    "result = lottery_numbers(30, 100, 0)\n",
    "\n",
    "assert len(result) == len(set(result)), 'There are repeated elements in the list'\n",
    "assert min(result) >= 0\n",
    "assert max(result) <= 100\n",
    "assert len(result) == 30\n",
    "\n",
    "assert_equal(lottery_numbers(30, 100, -1), None)\n",
    "assert_equal(lottery_numbers(30, 1, 0), None)\n",
    "\n",
    "result = lottery_numbers(2, 1, 0)\n",
    "\n",
    "assert len(result) == len(set(result)), 'There are repeated elements in the list'\n",
    "assert min(result) >= 0\n",
    "assert max(result) <= 1\n",
    "assert len(result) == 2\n",
    "\n",
    "assert_equal(lottery_numbers(0, 1, 0), None)\n",
    "assert_equal(lottery_numbers(30, -1, 0), None)\n",
    "assert_equal(lottery_numbers(-2, 10, 0), None)\n",
    "assert_equal(lottery_numbers(0, 1, 0), None)\n",
    "\n",
    "validate_python_code(\"lottery_numbers_solution.py\")\n",
    "print('tests passed', u'\\u2713')"
   ]
  },
  {
   "cell_type": "markdown",
   "id": "2b99627f",
   "metadata": {},
   "source": [
    "### Problem 2.2\n",
    "\n",
    "Create a Python dataclass named `PersonAge`.\n",
    "The attributes of this class are:\n",
    "1. name (Type: string)\n",
    "2. job (Type: string)\n",
    "3. birthdate (Type: date)\n",
    "4. age (Type: int, not an argument during initialization)\n",
    "\n",
    "The attributes `name`, `job` and `birthdate` are mandatory during initialization.\n",
    "Then, you need to create a method `.compute_age()` that uses the `birthdate` to compute how old the person is, saves it to the `age` property, and returns the `age` value.\n",
    "\n",
    "Remember to import `dataclass` and `field` from `dataclasses` module. Also import `datetime` for birthdate attribute.\n",
    "\n",
    "Link to read more about data class: https://docs.python.org/3.10/library/dataclasses.html"
   ]
  },
  {
   "cell_type": "markdown",
   "id": "b29d7da9",
   "metadata": {},
   "source": [
    "```\n",
    "# write here your pseudocode (not graded)\n",
    "\n",
    "# * pseudocode is necessary when asking for help during the lab\n",
    "```"
   ]
  },
  {
   "cell_type": "code",
   "execution_count": 114,
   "id": "a7a2e26b",
   "metadata": {
    "nbgrader": {
     "grade": false,
     "grade_id": "solution-2-3",
     "locked": false,
     "schema_version": 3,
     "solution": true,
     "task": false
    },
    "pycharm": {
     "name": "#%%\n"
    },
    "tags": [
     "solution",
     "solution-2.2"
    ]
   },
   "outputs": [
    {
     "name": "stdout",
     "output_type": "stream",
     "text": [
      "Overwriting person_age_class.py\n"
     ]
    }
   ],
   "source": [
    "%%writefile person_age_class.py\n",
    "# solution cell\n",
    "### BEGIN SOLUTION\n",
    "from dataclasses import dataclass, field\n",
    "from datetime import date, datetime\n",
    "\n",
    "\n",
    "@dataclass\n",
    "class PersonAge:\n",
    "    name: str\n",
    "    job: str\n",
    "    birthdate: date\n",
    "\n",
    "    def compute_age(self) -> int:\n",
    "        \"\"\"Computes the age of the person based on the birthdate.\"\"\"\n",
    "        today = date.today()\n",
    "        # Calculate age by subtracting birth year from current year\n",
    "        calculated_age = today.year - self.birthdate.year\n",
    "        # Adjust age if the birthdate hasn't occurred yet this year\n",
    "        if (today.month, today.day) < (self.birthdate.month, self.birthdate.day):\n",
    "            calculated_age -= 1\n",
    "        # add the age attribute\n",
    "        self.age = calculated_age\n",
    "        return self.age\n",
    "\n",
    "\n",
    "### END SOLUTION\n"
   ]
  },
  {
   "cell_type": "code",
   "execution_count": 112,
   "id": "5437672a",
   "metadata": {
    "nbgrader": {
     "grade": false,
     "grade_id": "debug-2-3",
     "locked": true,
     "schema_version": 3,
     "solution": false,
     "task": false
    },
    "tags": [
     "debug",
     "debug-2.2"
    ]
   },
   "outputs": [
    {
     "name": "stdout",
     "output_type": "stream",
     "text": [
      "The age of John Doe is 34\n",
      "The age of Jane Doe is 44\n",
      "Execution finished ✓\n"
     ]
    }
   ],
   "source": [
    "%autoreload 2\n",
    "# uncomment the line(s) below to debug\n",
    "from datetime import date\n",
    "from person_age_class import PersonAge\n",
    "\n",
    "person1 = PersonAge('John Doe', 'Manager', date(1990, 11, 15))\n",
    "person2 = PersonAge('Jane Doe', 'Manager', date(1980, 11, 15))\n",
    "print(f\"The age of {person1.name} is {person1.compute_age()}\")\n",
    "print(f\"The age of {person2.name} is {person2.compute_age()}\")\n",
    "print('Execution finished', u'\\u2713')"
   ]
  },
  {
   "cell_type": "code",
   "execution_count": 115,
   "id": "b91f74fe",
   "metadata": {
    "nbgrader": {
     "grade": true,
     "grade_id": "tests-2-3",
     "locked": true,
     "points": 1,
     "schema_version": 3,
     "solution": false,
     "task": false
    },
    "pycharm": {
     "name": "#%%\n"
    },
    "tags": [
     "tests",
     "tests-2.2"
    ]
   },
   "outputs": [
    {
     "data": {
      "text/html": [
       "<div class=\"tip admonition\">\n",
       "<p class=\"admonition-title\">Code Quality Analysis: <span style=\"color: green\">Pass</span></p><p>*No problem was found*\n",
       "</p>\n",
       "    </div>"
      ],
      "text/plain": [
       "<IPython.core.display.HTML object>"
      ]
     },
     "metadata": {},
     "output_type": "display_data"
    },
    {
     "name": "stdout",
     "output_type": "stream",
     "text": [
      "tests passed ✓\n"
     ]
    }
   ],
   "source": [
    "%autoreload 2\n",
    "# test cell\n",
    "try:\n",
    "    import person_age_class\n",
    "except:\n",
    "    raise ValueError(\"You did not execute your solution cell!\")\n",
    "try:\n",
    "    from person_age_class import PersonAge\n",
    "except:\n",
    "    raise ValueError(\"Your solution does not contain the right function!\")\n",
    "\n",
    "import dataclasses\n",
    "from datetime import date\n",
    "from nose.tools import assert_equal\n",
    "\n",
    "assert 'PersonAge' in dir(), 'Class PersonAge does not exist!'\n",
    "assert dataclasses.is_dataclass(PersonAge), \"The class is not a dataclass!\"\n",
    "\n",
    "p = PersonAge('John Doe', 'Manager', date(1990, 11, 15))\n",
    "assert hasattr(p, 'name'), 'Class PersonAge does not have property `name`.'\n",
    "assert hasattr(p, 'job'), 'Class PersonAge does not have property `job`.'\n",
    "assert hasattr(p, 'age') == False, 'Class PersonAge should not have property `age`.'\n",
    "p.compute_age()\n",
    "assert hasattr(p, 'age'), 'Class PersonAge does not have property `age`.'\n",
    "assert p.age == 34, f\"The computed age `{p.age}` is incorrect!\"\n",
    "\n",
    "from unittest.mock import patch\n",
    "\n",
    "with patch('__main__.print') as mock_print:\n",
    "    s = str(p)\n",
    "mock_print.assert_not_called()\n",
    "\n",
    "person1 = PersonAge('John Doe', 'Manager', date(1990, 11, 15))\n",
    "person1.compute_age()\n",
    "person2 = PersonAge('Jane Doe', 'Manager', date(1980, 11, 15))\n",
    "person2.compute_age()\n",
    "assert person1.age < person2.age, \"The age computation seems incorrect!\"\n",
    "\n",
    "validate_python_code(\"person_age_class.py\")\n",
    "print('tests passed', u'\\u2713')"
   ]
  },
  {
   "cell_type": "markdown",
   "id": "937b9437",
   "metadata": {},
   "source": [
    "---\n",
    "## Level 3: Pseudocode/HTML/CSS/JS problems\n",
    "\n",
    "In these problems we are training the design part of the course, which will be used starting from week 6 in the course.\n",
    "\n",
    "If the error messages are not very clear, you can use the online tool: https://onu1.s2.chalmers.se/nu/#textarea\n",
    "\n",
    "Recommended sources:\n",
    "- HTML: https://www.w3schools.com/html/\n",
    "- CSS: https://www.w3schools.com/css/\n",
    "- JavaScript: https://www.w3schools.com/js/\n",
    "\n",
    "For this assignment, we study:\n",
    "- lists: https://www.w3schools.com/html/html_lists.asp\n",
    "- tables: https://www.w3schools.com/html/html_tables.asp\n",
    "\n",
    "Visual Studio Code sometimes does not render HTML/CSS/JS as expected. We recommend testing your solutions here: https://www.w3schools.com/html/tryit.asp?filename=tryhtml_default\n",
    "\n"
   ]
  },
  {
   "cell_type": "markdown",
   "id": "ea055b70",
   "metadata": {},
   "source": [
    "### Problem 3.1\n",
    "\n",
    "Create a Python function called `list_generator` that receives a list of values.\n",
    "The function should create a string that represents the HTML that shows the list of values, each one as an item of an unordered list.\n",
    "\n",
    "The following example shows how the output of the test cell should look like.\n",
    "\n",
    "Code for the test:\n",
    "```\n",
    "list_generator([\n",
    "    'First item',\n",
    "    'Second item',\n",
    "    'Another item',\n",
    "    'Final item'\n",
    "])\n",
    "```\n",
    "\n",
    "Must result in the following result (the border is used just to delimit the output):\n",
    "<html>\n",
    "    <div style=\"border: 1px solid red;\">\n",
    "        <ul>\n",
    "            <li>First item</li>\n",
    "            <li>Second item</li>\n",
    "            <li>Another item</li>\n",
    "            <li>Final item</li>\n",
    "        </ul>\n",
    "    </div>\n",
    "</html>\n",
    "\n",
    "Note that each tag should be in one line, i.e., there should be a line break between every two tags."
   ]
  },
  {
   "cell_type": "code",
   "execution_count": 122,
   "id": "1f215ec0",
   "metadata": {
    "tags": [
     "solution",
     "solution-3.1",
     "html"
    ]
   },
   "outputs": [
    {
     "name": "stdout",
     "output_type": "stream",
     "text": [
      "Overwriting list_generator_solution.py\n"
     ]
    }
   ],
   "source": [
    "%%writefile list_generator_solution.py\n",
    "### BEGIN SOLUTION\n",
    "def list_generator(items: list[str]) -> str:\n",
    "    # Create the opening tag for the unordered list\n",
    "    html = \"<ul>\\n\"\n",
    "    # Add each item as a list item\n",
    "    for item in items:\n",
    "        html += f\"  <li>{item}</li>\\n\"\n",
    "    # Add the closing tag for the unordered list\n",
    "    html += \"</ul>\"\n",
    "    # Return the generated HTML string\n",
    "    return html\n",
    "\n",
    "\n",
    "### END SOLUTION\n"
   ]
  },
  {
   "cell_type": "code",
   "execution_count": 122,
   "id": "b92bb510",
   "metadata": {
    "tags": [
     "debug",
     "debug-3.1"
    ]
   },
   "outputs": [
    {
     "name": "stdout",
     "output_type": "stream",
     "text": [
      "HTML code:\n",
      "You can copy the code below and paste in the W3Schools tryit editor to test it!\n",
      "<ul>\n",
      "  <li>First item</li>\n",
      "  <li>Second item</li>\n",
      "  <li>Another item</li>\n",
      "  <li>Final item</li>\n",
      "</ul>\n",
      "Execution finished ✓\n"
     ]
    }
   ],
   "source": [
    "%autoreload 2\n",
    "# uncomment the line(s) below to debug\n",
    "from list_generator_solution import list_generator\n",
    "\n",
    "print('HTML code:')\n",
    "print('You can copy the code below and paste in the W3Schools tryit editor to test it!')\n",
    "print(list_generator([\n",
    "    'First item',\n",
    "    'Second item',\n",
    "    'Another item',\n",
    "    'Final item'\n",
    "]))\n",
    "print('Execution finished', u'\\u2713')"
   ]
  },
  {
   "cell_type": "code",
   "execution_count": 123,
   "id": "de3f2e15",
   "metadata": {
    "tags": [
     "check",
     "check-3.1"
    ]
   },
   "outputs": [
    {
     "data": {
      "text/html": [
       "<!DOCTYPE html>\n",
       "    <html lang=\"en\">\n",
       "        <head>\n",
       "            <title>Page Title</title>\n",
       "        </head>\n",
       "        <body><p style=\"color: red;\">start of your solution &gt;&gt;&gt;&gt;</p><hr/>\n",
       "        <ul>\n",
       "  <li>First item</li>\n",
       "  <li>Second item</li>\n",
       "  <li>Another item</li>\n",
       "  <li>Final item</li>\n",
       "</ul>     <hr/><p style=\"color: red;\">&lt;&lt;&lt;&lt; end of your solution</p></body>\n",
       "</html>"
      ],
      "text/plain": [
       "<IPython.core.display.HTML object>"
      ]
     },
     "metadata": {},
     "output_type": "display_data"
    }
   ],
   "source": [
    "%autoreload 2\n",
    "# DO NOT REMOVE THIS CODE >>> BEGINNING\n",
    "# this cell assembles the HTML returned by the function that you wrote\n",
    "# and renders it in the \"preview\" window\n",
    "from IPython.display import display, HTML\n",
    "from list_generator_solution import list_generator\n",
    "html_header = \"\"\"<!DOCTYPE html>\n",
    "    <html lang=\"en\">\n",
    "        <head>\n",
    "            <title>Page Title</title>\n",
    "        </head>\n",
    "        <body><p style=\"color: red;\">start of your solution &gt;&gt;&gt;&gt;</p><hr/>\n",
    "        \"\"\"\n",
    "html_footer = \"\"\"     <hr/><p style=\"color: red;\">&lt;&lt;&lt;&lt; end of your solution</p></body>\n",
    "</html>\"\"\"\n",
    "\n",
    "html_to_test = html_header + list_generator([\n",
    "    'First item',\n",
    "    'Second item',\n",
    "    'Another item',\n",
    "    'Final item'\n",
    "]) + html_footer\n",
    "display(HTML(html_to_test))\n",
    "\n",
    "# DO NOT REMOVE THIS CODE <<< END"
   ]
  },
  {
   "cell_type": "code",
   "execution_count": 124,
   "id": "d03954ad",
   "metadata": {
    "tags": [
     "tests",
     "tests-3.1"
    ]
   },
   "outputs": [
    {
     "name": "stdout",
     "output_type": "stream",
     "text": [
      "first\n",
      "first\n",
      "first\n",
      "first\n",
      "first\n"
     ]
    },
    {
     "data": {
      "text/html": [
       "<div class=\"tip admonition\">\n",
       "<p class=\"admonition-title\">Code Quality Analysis: <span style=\"color: green\">Pass</span></p><p>*No problem was found*\n",
       "</p>\n",
       "    </div>"
      ],
      "text/plain": [
       "<IPython.core.display.HTML object>"
      ]
     },
     "metadata": {},
     "output_type": "display_data"
    },
    {
     "name": "stdout",
     "output_type": "stream",
     "text": [
      "tests passed ✓\n"
     ]
    }
   ],
   "source": [
    "%autoreload 2\n",
    "# test cell\n",
    "from list_generator_solution import list_generator\n",
    "from lorem_text import lorem\n",
    "import random\n",
    "from utils import validate_html\n",
    "\n",
    "html_header = \"\"\"<!DOCTYPE html>\n",
    "    <html lang=\"en\">\n",
    "        <head>\n",
    "            <title>Page Title</title>\n",
    "        </head>\n",
    "        <body>\n",
    "        \"\"\"\n",
    "html_footer = \"\"\"</body>\n",
    "</html>\"\"\"\n",
    "\n",
    "for i in range(5):\n",
    "\n",
    "    num_items = random.randint(5, 20)\n",
    "\n",
    "    items = []\n",
    "    for i in range(num_items):\n",
    "        items.append(lorem.words(random.randint(3, 20)))\n",
    "\n",
    "    original_html = list_generator(items)\n",
    "\n",
    "    html_to_test = html_header + original_html + html_footer\n",
    "\n",
    "    soup = validate_html(html_to_test)\n",
    "\n",
    "    # print(soup)\n",
    "\n",
    "    tag_set = set([str(tag.name) for tag in soup.find_all()])\n",
    "    tag_pairs = []\n",
    "    for tag_1 in tag_set:\n",
    "        for tag_2 in tag_set:\n",
    "            if tag_1 != tag_2:\n",
    "                # print(tag_1, tag_2)\n",
    "                tag_pairs.append((tag_1, tag_2))\n",
    "\n",
    "    for i, line in enumerate(original_html.split('\\n')):\n",
    "        for tag_1, tag_2 in tag_pairs:\n",
    "            if f'<{tag_1}>' in line or f'</{tag_1}>' in line:\n",
    "                assert f'<{tag_2}>' not in line and f'</{tag_2}>' not in line, f'Line {i+1} has two tags in the same line ({tag_1} and {tag_2}).\\nYou must have them in different lines.\\nLine {i+1}:\\t{line}'\n",
    "\n",
    "    tags_ul = soup.find_all('ul')\n",
    "    assert len(tags_ul) == 1, f'The solution must have 1 unordered lists in your HTML. You have {len(tags_ul)} instead.'\n",
    "\n",
    "    tags_li = tags_ul[0].find_all('li')\n",
    "    assert len(tags_li) == num_items, f'The solution must have {num_items} list items in your HTML. You have {len(tags_li)} instead.'\n",
    "\n",
    "    for idi, item in enumerate(tags_li):\n",
    "        assert item.text == items[idi], f'The text in line {idi} is not the same as intended.'\n",
    "\n",
    "validate_python_code(\"list_generator_solution.py\")\n",
    "print('tests passed', u'\\u2713')"
   ]
  }
 ],
 "metadata": {
  "assignment_list": [
   "1.1",
   "1.2",
   "1.3",
   "1.4",
   "1.5",
   "2.1",
   "2.2",
   "3.1"
  ],
  "celltoolbar": "Create Assignment",
  "course": {
   "assignment": 2
  },
  "kernelspec": {
   "display_name": ".venv",
   "language": "python",
   "name": "python3"
  },
  "language_info": {
   "codemirror_mode": {
    "name": "ipython",
    "version": 3
   },
   "file_extension": ".py",
   "mimetype": "text/x-python",
   "name": "python",
   "nbconvert_exporter": "python",
   "pygments_lexer": "ipython3",
   "version": "3.10.16"
  }
 },
 "nbformat": 4,
 "nbformat_minor": 5
}
