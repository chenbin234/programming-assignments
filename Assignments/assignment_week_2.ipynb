{
 "cells": [
  {
   "cell_type": "markdown",
   "metadata": {},
   "source": [
    "# EEN060 - Applied object-oriented programming\n",
    "\n",
    "Teacher: [Carlos Natalino](https://www.chalmers.se/en/persons/carda/) / Examiner: [Paolo Monti](https://www.chalmers.se/en/persons/mpaolo/)\n",
    "\n",
    "[Canvas course page](https://chalmers.instructure.com/courses/28094)\n",
    "\n",
    "[Course channel on Chalmers Play](https://play.chalmers.se/channel/EEN060_EEN065_Applied_object-oriented_programming/300149)\n",
    "\n",
    "Before you turn this assignment list in, make sure everything runs as expected.\n",
    "First, **restart the kernel** and then **run all cells**.\n",
    "Then, check if all the tests run correctly.\n",
    "Note that if one of the problems present an error, the following ones **will not** be tested.\n",
    "\n",
    "In case of discrepancies between the problem command and the tests, you should solve it having in mind the tests.\n",
    "\n",
    "There are two types of cell:\n",
    "1. *solution cells:* These are the cells where you write your answer, or modify the existing code to solve the problem.\n",
    "2. *test cells:* These cells are used to test whether your solution is correct or not. If the tests run correctly, you should see a message `tests passed`. Otherwise, you should see an error message.\n",
    "\n",
    "**Delete** the line `raise NotImplementedError()` from the problems that you solve.\n",
    "\n",
    "**Do not delete or add any cell in this file.** All cells that you need are already in place.\n",
    "\n",
    "You may also have problems that will be manually graded (e.g., HTML/CSS/JS/pseudocode problems).\n",
    "These problems **do not** have a respective *test cell*.\n",
    "\n",
    "If you want to execute a cell, select the cell and press **CTRL+Enter** (in Windows) or **CMD+Enter** (in macOS) or click on the **Run cell** button.\n",
    "\n",
    "**If you want, you can solve this programming assignment using Google Colab**\n",
    "\n",
    "Link: https://colab.research.google.com/\n",
    "\n",
    "Just copy the following line to a code line and run it."
   ]
  },
  {
   "cell_type": "markdown",
   "metadata": {
    "nbgrader": {
     "grade": false,
     "grade_id": "cell-title-assignment",
     "locked": true,
     "schema_version": 3,
     "solution": false,
     "task": false
    }
   },
   "source": [
    "# Assignment 1\n",
    "\n",
    "In this assignment, students should practice:\n",
    "- how to use Visual Studio Code\n",
    "- how to download, solve and submit programming assignments\n",
    "- how to create functions\n",
    "- start getting familiar with Python\n",
    "- how to manipulate variables\n",
    "- how to use math operations\n",
    "- how to output the results\n",
    "- understand different types of variables\n",
    "- understand the code quality validation\n",
    "\n",
    "**Observations:**\n",
    "For the problems in this assignment, you should:\n",
    "- use only the math operations studied in the lecture notes (i.e., no advanced functions allowed).\n",
    "- not use external modules, i.e., `import` command is not allowed in your solutions (with exception of the module `typing`).\n",
    "- make sure that your `utils.py` file has the following line (i.e., replace `onu2` by `onu1` if needed):\n",
    "\n",
    "`url_python_validator = \"https://onu1.s2.chalmers.se/pnu/\"`\n",
    "\n",
    "**Preparation:** Run the cell below every time you start working on this file, and every time you restart the kernel."
   ]
  },
  {
   "cell_type": "code",
   "execution_count": 1,
   "metadata": {
    "tags": [
     "load"
    ]
   },
   "outputs": [],
   "source": [
    "%load_ext autoreload\n",
    "try:\n",
    "    from utils import validate_python_code, validate_html\n",
    "except:\n",
    "    import sys\n",
    "    print(\"It seems this file is in the wrong folder. \"\n",
    "          \"Make sure to place it in the `programming-assignments` folder/project.\",\n",
    "          file=sys.stderr)"
   ]
  },
  {
   "cell_type": "markdown",
   "metadata": {
    "nbgrader": {
     "grade": false,
     "grade_id": "cell-title-level-1",
     "locked": true,
     "schema_version": 3,
     "solution": false,
     "task": false
    }
   },
   "source": [
    "## Level 1\n",
    "\n",
    "Level 1 problems are simple problems that require only the knowledge obtained from the lecture's content and the lecture notes."
   ]
  },
  {
   "cell_type": "markdown",
   "metadata": {
    "nbgrader": {
     "grade": false,
     "grade_id": "cell-problem-1-1",
     "locked": true,
     "schema_version": 3,
     "solution": false,
     "task": false
    }
   },
   "source": [
    "### Problem 1.1\n",
    "\n",
    "Create a Python function called `sum_of_digits` that receives a positive integer upto three-digits and returns the sum of the digits."
   ]
  },
  {
   "cell_type": "markdown",
   "metadata": {
    "nbgrader": {
     "grade": false,
     "grade_id": "cell-pseudocode-1-1",
     "locked": true,
     "schema_version": 3,
     "solution": false,
     "task": false
    }
   },
   "source": [
    "```\n",
    "Write your pseudocode\n",
    "\n",
    "This is not graded\n",
    "\n",
    "This will not affect your Python code\n",
    "```"
   ]
  },
  {
   "cell_type": "code",
   "execution_count": 2,
   "metadata": {
    "nbgrader": {
     "grade": false,
     "grade_id": "cell-answer-1-1",
     "locked": false,
     "schema_version": 3,
     "solution": true,
     "task": false
    },
    "tags": [
     "solution",
     "solution-1.1"
    ]
   },
   "outputs": [
    {
     "name": "stdout",
     "output_type": "stream",
     "text": [
      "Overwriting sum_of_digits_solution.py\n"
     ]
    }
   ],
   "source": [
    "%%writefile sum_of_digits_solution.py\n",
    "# solution cell\n",
    "### BEGIN SOLUTION\n",
    "def sum_of_digits(n: int) -> int:\n",
    "    if n < 0:\n",
    "        raise ValueError(\"Input must be a non-negative integer.\")\n",
    "    return sum(int(digit) for digit in str(n))\n",
    "\n",
    "\n",
    "### END SOLUTION\n"
   ]
  },
  {
   "cell_type": "code",
   "execution_count": 3,
   "metadata": {
    "tags": [
     "debug",
     "debug-1.1"
    ]
   },
   "outputs": [
    {
     "name": "stdout",
     "output_type": "stream",
     "text": [
      "The sum of digits of 93 is 12\n",
      "Execution finished ✓\n"
     ]
    }
   ],
   "source": [
    "%autoreload 2\n",
    "# uncomment the line(s) below to debug\n",
    "from sum_of_digits_solution import sum_of_digits\n",
    "\n",
    "\n",
    "a = 93\n",
    "r = sum_of_digits(a)\n",
    "print(f\"The sum of digits of {a} is {r}\")\n",
    "print(\"Execution finished\", \"\\u2713\")"
   ]
  },
  {
   "cell_type": "code",
   "execution_count": 4,
   "metadata": {
    "nbgrader": {
     "grade": true,
     "grade_id": "cell-tests-1-1",
     "locked": true,
     "points": 1,
     "schema_version": 3,
     "solution": false,
     "task": false
    },
    "tags": [
     "tests",
     "tests-1.1"
    ]
   },
   "outputs": [
    {
     "data": {
      "text/html": [
       "<div class=\"tip admonition\">\n",
       "<p class=\"admonition-title\">Code Quality Analysis: <span style=\"color: green\">Pass</span></p><p>*No problem was found*\n",
       "</p>\n",
       "    </div>"
      ],
      "text/plain": [
       "<IPython.core.display.HTML object>"
      ]
     },
     "metadata": {},
     "output_type": "display_data"
    },
    {
     "name": "stdout",
     "output_type": "stream",
     "text": [
      "tests passed ✓\n"
     ]
    }
   ],
   "source": [
    "%autoreload 2\n",
    "# test cell\n",
    "try:\n",
    "    import sum_of_digits_solution\n",
    "except:\n",
    "    raise ValueError(\"You did not execute your solution cell!\")\n",
    "try:\n",
    "    from sum_of_digits_solution import sum_of_digits\n",
    "except:\n",
    "    raise ValueError(\"The module does not have the necessary function!\")\n",
    "\n",
    "from nose.tools import assert_equal, assert_raises\n",
    "\n",
    "assert_equal(sum_of_digits(103), 4)\n",
    "assert_equal(sum_of_digits(123), 6)\n",
    "assert_equal(sum_of_digits(67), 13)\n",
    "assert_raises(TypeError, sum_of_digits, \"2\")\n",
    "assert_raises(TypeError, sum_of_digits, None)\n",
    "assert_raises(TypeError, sum_of_digits, \"Test\", 2)\n",
    "\n",
    "from utils import validate_python_code\n",
    "\n",
    "validate_python_code(\"sum_of_digits_solution.py\")\n",
    "print(\"tests passed\", \"\\u2713\")"
   ]
  },
  {
   "cell_type": "markdown",
   "metadata": {
    "nbgrader": {
     "grade": false,
     "grade_id": "cell-problem-1-2",
     "locked": true,
     "schema_version": 3,
     "solution": false,
     "task": false
    }
   },
   "source": [
    "### Problem 1.2\n",
    "\n",
    "Create a Python function called `print_sum_of_digits` that receives a positive integer upto three-digits and print a $\\underline{\\textbf{string}}$ representing the sum of the digits. Note that the output is returned as a string rather than an integer or float."
   ]
  },
  {
   "cell_type": "markdown",
   "metadata": {
    "nbgrader": {
     "grade": false,
     "grade_id": "cell-pseudocode-1-2",
     "locked": true,
     "schema_version": 3,
     "solution": false,
     "task": false
    }
   },
   "source": [
    "```\n",
    "# write here your pseudocode (not graded)\n",
    "\n",
    "# * pseudocode is necessary when asking for help during the lab\n",
    "```"
   ]
  },
  {
   "cell_type": "code",
   "execution_count": 5,
   "metadata": {
    "nbgrader": {
     "grade": false,
     "grade_id": "cell-answer-1-2",
     "locked": false,
     "schema_version": 3,
     "solution": true,
     "task": false
    },
    "tags": [
     "solution",
     "solution-1.2"
    ]
   },
   "outputs": [
    {
     "name": "stdout",
     "output_type": "stream",
     "text": [
      "Overwriting print_sum_of_digits_solution.py\n"
     ]
    }
   ],
   "source": [
    "%%writefile print_sum_of_digits_solution.py\n",
    "# solution cell\n",
    "### BEGIN SOLUTION\n",
    "def print_sum_of_digits(n: int) -> None:\n",
    "    if n < 0:\n",
    "        raise ValueError(\"Input must be a non-negative integer.\")\n",
    "    sum_value = sum(int(digit) for digit in str(n))\n",
    "    print(f\"{sum_value}\")\n",
    "\n",
    "\n",
    "### END SOLUTION\n"
   ]
  },
  {
   "cell_type": "code",
   "execution_count": 6,
   "metadata": {
    "tags": [
     "debug",
     "debug-1.2"
    ]
   },
   "outputs": [
    {
     "name": "stdout",
     "output_type": "stream",
     "text": [
      "The sum of digits of 93 is \n",
      "12\n",
      "Execution finished ✓\n"
     ]
    }
   ],
   "source": [
    "%autoreload 2\n",
    "# uncomment the line(s) below to debug\n",
    "from print_sum_of_digits_solution import print_sum_of_digits\n",
    "\n",
    "\n",
    "a = 93\n",
    "print(f\"The sum of digits of {a} is \")\n",
    "print_sum_of_digits(a)\n",
    "print(\"Execution finished\", \"\\u2713\")"
   ]
  },
  {
   "cell_type": "code",
   "execution_count": 7,
   "metadata": {
    "nbgrader": {
     "grade": true,
     "grade_id": "cell-test-1-2",
     "locked": true,
     "points": 1,
     "schema_version": 3,
     "solution": false,
     "task": false
    },
    "tags": [
     "tests",
     "tests-1.2"
    ]
   },
   "outputs": [
    {
     "data": {
      "text/html": [
       "<div class=\"tip admonition\">\n",
       "<p class=\"admonition-title\">Code Quality Analysis: <span style=\"color: green\">Pass</span></p><p>*No problem was found*\n",
       "</p>\n",
       "    </div>"
      ],
      "text/plain": [
       "<IPython.core.display.HTML object>"
      ]
     },
     "metadata": {},
     "output_type": "display_data"
    },
    {
     "name": "stdout",
     "output_type": "stream",
     "text": [
      "tests passed ✓\n"
     ]
    }
   ],
   "source": [
    "%autoreload 2\n",
    "# test cell\n",
    "try:\n",
    "    import print_sum_of_digits_solution\n",
    "except:\n",
    "    raise ValueError(\"You did not execute your solution cell!\")\n",
    "try:\n",
    "    from print_sum_of_digits_solution import print_sum_of_digits\n",
    "except:\n",
    "    raise ValueError(\"The module does not have the necessary function!\")\n",
    "\n",
    "from nose.tools import assert_equal, assert_raises\n",
    "from unittest.mock import patch\n",
    "from io import StringIO\n",
    "\n",
    "# first test\n",
    "with patch('sys.stdout', new=StringIO()) as fakeOutput:\n",
    "    print_sum_of_digits(81)\n",
    "    assert_equal(fakeOutput.getvalue().strip(), '9')\n",
    "\n",
    "# second test\n",
    "with patch('sys.stdout', new=StringIO()) as fakeOutput:\n",
    "    print_sum_of_digits(103)\n",
    "    assert_equal(fakeOutput.getvalue().strip(), '4')\n",
    "\n",
    "# testing types\n",
    "assert_raises(TypeError, print_sum_of_digits)\n",
    "assert_raises(TypeError, print_sum_of_digits, \"2\")\n",
    "assert_raises(TypeError, print_sum_of_digits, 2, \"Test\")\n",
    "\n",
    "from utils import validate_python_code\n",
    "\n",
    "validate_python_code(\"print_sum_of_digits_solution.py\")\n",
    "print(\"tests passed\", \"\\u2713\")"
   ]
  },
  {
   "cell_type": "markdown",
   "metadata": {
    "nbgrader": {
     "grade": false,
     "grade_id": "cell-problem-1-3",
     "locked": true,
     "schema_version": 3,
     "solution": false,
     "task": false
    }
   },
   "source": [
    "### Problem 1.3\n",
    "\n",
    "Create a function called `sphere_volume` that, based on one parameter representing the radius of the sphere (integer or float), prints its volume upto three decimal places.\n",
    "\n",
    "Remember that the volume $V$ of a sphere given its radius $r$ is given by:\n",
    "\\begin{equation*}\n",
    "V = \\dfrac{4}{3}\\pi r^3. \n",
    "\\end{equation*}\n",
    "\n",
    "**Observations:**\n",
    "- You should assume $\\pi=3.14$."
   ]
  },
  {
   "cell_type": "markdown",
   "metadata": {
    "nbgrader": {
     "grade": false,
     "grade_id": "cell-pseudocode-1-3",
     "locked": true,
     "schema_version": 3,
     "solution": false,
     "task": false
    }
   },
   "source": [
    "```\n",
    "# write here your pseudocode (not graded)\n",
    "\n",
    "# * pseudocode is necessary when asking for help during the lab\n",
    "```"
   ]
  },
  {
   "cell_type": "code",
   "execution_count": 8,
   "metadata": {
    "nbgrader": {
     "grade": false,
     "grade_id": "cell-answer-1-3",
     "locked": false,
     "schema_version": 3,
     "solution": true,
     "task": false
    },
    "tags": [
     "solution",
     "solution-1.3"
    ]
   },
   "outputs": [
    {
     "name": "stdout",
     "output_type": "stream",
     "text": [
      "Overwriting sphere_volume_solution.py\n"
     ]
    }
   ],
   "source": [
    "%%writefile sphere_volume_solution.py\n",
    "# solution cell\n",
    "### BEGIN SOLUTION\n",
    "def sphere_volume(radius: int | float) -> None:\n",
    "    if radius < 0:\n",
    "        raise ValueError(\"Input must be a non-negative number.\")\n",
    "    volume = (4 / 3) * 3.14 * radius**3\n",
    "    print(f\"{volume:.3f}\")\n",
    "\n",
    "\n",
    "### END SOLUTION\n"
   ]
  },
  {
   "cell_type": "code",
   "execution_count": 9,
   "metadata": {
    "tags": [
     "debug",
     "debug-1.3"
    ]
   },
   "outputs": [
    {
     "name": "stdout",
     "output_type": "stream",
     "text": [
      "The volume of a sphere with radius 0.11 is\n",
      "0.006\n",
      "Execution finished ✓\n"
     ]
    }
   ],
   "source": [
    "%autoreload 2\n",
    "# uncomment the line(s) below to debug\n",
    "from sphere_volume_solution import sphere_volume\n",
    "\n",
    "\n",
    "r = 0.11\n",
    "print(f'The volume of a sphere with radius {r} is')\n",
    "sphere_volume(r)\n",
    "print(\"Execution finished\", \"\\u2713\")"
   ]
  },
  {
   "cell_type": "code",
   "execution_count": 10,
   "metadata": {
    "nbgrader": {
     "grade": true,
     "grade_id": "cell-test-1-3",
     "locked": true,
     "points": 1,
     "schema_version": 3,
     "solution": false,
     "task": false
    },
    "tags": [
     "tests",
     "tests-1.3"
    ]
   },
   "outputs": [
    {
     "data": {
      "text/html": [
       "<div class=\"tip admonition\">\n",
       "<p class=\"admonition-title\">Code Quality Analysis: <span style=\"color: green\">Pass</span></p><p>*No problem was found*\n",
       "</p>\n",
       "    </div>"
      ],
      "text/plain": [
       "<IPython.core.display.HTML object>"
      ]
     },
     "metadata": {},
     "output_type": "display_data"
    },
    {
     "name": "stdout",
     "output_type": "stream",
     "text": [
      "tests passed ✓\n"
     ]
    }
   ],
   "source": [
    "%autoreload 2\n",
    "# test cell\n",
    "try:\n",
    "    import sphere_volume_solution\n",
    "except:\n",
    "    raise ValueError(\"You did not execute your solution cell!\")\n",
    "try:\n",
    "    from sphere_volume_solution import sphere_volume\n",
    "except:\n",
    "    raise ValueError(\"The module does not have the necessary function!\")\n",
    "    \n",
    "from nose.tools import assert_equal, assert_raises\n",
    "from unittest.mock import patch\n",
    "from io import StringIO\n",
    "\n",
    "with patch('sys.stdout', new=StringIO()) as fakeOutput:\n",
    "    sphere_volume(2.1)\n",
    "    assert_equal(fakeOutput.getvalue().strip(), '38.773')\n",
    "\n",
    "with patch('sys.stdout', new=StringIO()) as fakeOutput:\n",
    "    sphere_volume(10)\n",
    "    assert_equal(fakeOutput.getvalue().strip(), '4186.667')\n",
    "\n",
    "with patch('sys.stdout', new=StringIO()) as fakeOutput:\n",
    "    sphere_volume(0.11)\n",
    "    assert_equal(fakeOutput.getvalue().strip(), '0.006')\n",
    "\n",
    "assert_raises(TypeError, sphere_volume)\n",
    "assert_raises(TypeError, sphere_volume, None)\n",
    "assert_raises(TypeError, sphere_volume, 2, None)\n",
    "\n",
    "from utils import validate_python_code\n",
    "validate_python_code(\"sphere_volume_solution.py\")\n",
    "print(\"tests passed\", \"\\u2713\")"
   ]
  },
  {
   "cell_type": "markdown",
   "metadata": {
    "nbgrader": {
     "grade": false,
     "grade_id": "cell-problem-1-4",
     "locked": true,
     "schema_version": 3,
     "solution": false,
     "task": false
    }
   },
   "source": [
    "### Problem 1.4\n",
    "\n",
    "Create a function named `greetings` that receives:\n",
    "- the salutation of a person (string),\n",
    "- the name of a person (string),\n",
    "- the surname of a person (string),\n",
    "- the age of a person (integer)\n",
    "- the location of a person (string),\n",
    "and returns the following greeting message.\n",
    "\n",
    "For instance, for a person of name 'John', surname 'Doe', salutation 'Mr.', age 39 and location 'paris', the function should return the following message which contains two lines:\n",
    "\n",
    "`Hello, World! I'm Mr. John Doe, age 39.`\n",
    "\n",
    "`I'm currently in Paris.`\n",
    "\n",
    "\n",
    "<!-- Greetings! I am Mr. John Doe, and I am 25 years old. -->\n",
    "\n",
    "The name, surname, salutation and location should always be capitalized. For instance, for a person of name 'jAne', surname 'DoE', salutation 'mS.', age 32 and location 'bErlin', the function should return a message similar to the following one:\n",
    "\n",
    "`Hello, World! I'm Ms. Jane Doe, age 32.`\n",
    "\n",
    "`I'm currently in Berlin.`\n",
    "\n",
    "**Observations:**\n",
    "- You should use `f-string` and `capitalize()` to solve this problem."
   ]
  },
  {
   "cell_type": "markdown",
   "metadata": {
    "nbgrader": {
     "grade": false,
     "grade_id": "cell-pseudocode-1-4",
     "locked": true,
     "schema_version": 3,
     "solution": false,
     "task": false
    }
   },
   "source": [
    "```\n",
    "# write here your pseudocode (not graded)\n",
    "\n",
    "# * pseudocode is necessary when asking for help during the lab\n",
    "```"
   ]
  },
  {
   "cell_type": "code",
   "execution_count": 11,
   "metadata": {
    "nbgrader": {
     "grade": false,
     "grade_id": "cell-answer-1-4",
     "locked": false,
     "schema_version": 3,
     "solution": true,
     "task": false
    },
    "tags": [
     "solution",
     "solution-1.4"
    ]
   },
   "outputs": [
    {
     "name": "stdout",
     "output_type": "stream",
     "text": [
      "Overwriting greetings_solution.py\n"
     ]
    }
   ],
   "source": [
    "%%writefile greetings_solution.py\n",
    "# solution cell\n",
    "### BEGIN SOLUTION\n",
    "def greetings(salutation: str, name: str, surname: str, age: int, location: str) -> str:\n",
    "    return (\n",
    "        f\"Hello, World! I'm {salutation.capitalize()} {name.capitalize()} \"\n",
    "        + f\"{surname.capitalize()}, age {age}.\\nI'm currently in {location.capitalize()}.\"\n",
    "    )\n",
    "\n",
    "\n",
    "### END SOLUTION\n"
   ]
  },
  {
   "cell_type": "code",
   "execution_count": 12,
   "metadata": {
    "tags": [
     "debug",
     "debug-1.4"
    ]
   },
   "outputs": [
    {
     "name": "stdout",
     "output_type": "stream",
     "text": [
      "Hello, World! I'm Ms. Jane Doe, age 32.\n",
      "I'm currently in Berlin.\n",
      "Execution finished ✓\n"
     ]
    }
   ],
   "source": [
    "%autoreload 2\n",
    "# uncomment the line(s) below to debug\n",
    "from greetings_solution import greetings\n",
    "\n",
    "g = greetings('ms.', 'jAne', 'DoE', 32, 'bErlin')\n",
    "print(g)\n",
    "print(\"Execution finished\", \"\\u2713\")"
   ]
  },
  {
   "cell_type": "code",
   "execution_count": 13,
   "metadata": {
    "nbgrader": {
     "grade": true,
     "grade_id": "cell-test-1-4",
     "locked": true,
     "points": 1,
     "schema_version": 3,
     "solution": false,
     "task": false
    },
    "tags": [
     "tests",
     "tests-1.4"
    ]
   },
   "outputs": [
    {
     "data": {
      "text/html": [
       "<div class=\"tip admonition\">\n",
       "<p class=\"admonition-title\">Code Quality Analysis: <span style=\"color: green\">Pass</span></p><p>*No problem was found*\n",
       "</p>\n",
       "    </div>"
      ],
      "text/plain": [
       "<IPython.core.display.HTML object>"
      ]
     },
     "metadata": {},
     "output_type": "display_data"
    },
    {
     "name": "stdout",
     "output_type": "stream",
     "text": [
      "tests passed ✓\n"
     ]
    }
   ],
   "source": [
    "%autoreload 2\n",
    "# test cell\n",
    "try:\n",
    "    import greetings_solution\n",
    "except:\n",
    "    raise ValueError(\"You did not execute your solution cell!\")\n",
    "try:\n",
    "    from greetings_solution import greetings\n",
    "except:\n",
    "    raise ValueError(\"The module does not have the necessary function!\")\n",
    "    \n",
    "from nose.tools import assert_equal\n",
    "\n",
    "assert_equal(greetings('MR.', 'joHn', 'DOe', 39, 'pARiS'), 'Hello, World! I\\'m Mr. John Doe, age 39.\\nI\\'m currently in Paris.')\n",
    "assert_equal(greetings('ms.', 'jAne', 'DoE', 32, 'bErLiN'), 'Hello, World! I\\'m Ms. Jane Doe, age 32.\\nI\\'m currently in Berlin.')\n",
    "\n",
    "from utils import validate_python_code\n",
    "\n",
    "validate_python_code(\"greetings_solution.py\")\n",
    "print(\"tests passed\", \"\\u2713\")"
   ]
  },
  {
   "cell_type": "markdown",
   "metadata": {
    "nbgrader": {
     "grade": false,
     "grade_id": "cell-title-level-2",
     "locked": true,
     "schema_version": 3,
     "solution": false,
     "task": false
    }
   },
   "source": [
    "---\n",
    "## Level 2\n",
    "\n",
    "Problems in level 2 should build upon the content of the lecture and the content of previous lectures.\n",
    "Therefore, the problems can be solved based solely on the lecture notes available for the course up to the lecture the assignment is about."
   ]
  },
  {
   "cell_type": "markdown",
   "metadata": {
    "nbgrader": {
     "grade": false,
     "grade_id": "cell-problem-2-1",
     "locked": true,
     "schema_version": 3,
     "solution": false,
     "task": false
    }
   },
   "source": [
    "### Problem 2.1\n",
    "\n",
    "Create a Python function called `print_return_sum` that receives two numbers (integer or float).\n",
    "The function should:\n",
    "1. print a string that represents the sum of the inputs; and\n",
    "2. return the sum of the inputs."
   ]
  },
  {
   "cell_type": "markdown",
   "metadata": {
    "nbgrader": {
     "grade": false,
     "grade_id": "cell-pseudocode-2-1",
     "locked": true,
     "schema_version": 3,
     "solution": false,
     "task": false
    }
   },
   "source": [
    "```\n",
    "# write here your pseudocode (not graded)\n",
    "\n",
    "# * pseudocode is necessary when asking for help during the lab\n",
    "```"
   ]
  },
  {
   "cell_type": "code",
   "execution_count": 14,
   "metadata": {
    "nbgrader": {
     "grade": false,
     "grade_id": "cell-answer-2-1",
     "locked": false,
     "schema_version": 3,
     "solution": true,
     "task": false
    },
    "tags": [
     "solution",
     "solution-2.1"
    ]
   },
   "outputs": [
    {
     "name": "stdout",
     "output_type": "stream",
     "text": [
      "Overwriting print_return_sum_solution.py\n"
     ]
    }
   ],
   "source": [
    "%%writefile print_return_sum_solution.py\n",
    "# solution cell\n",
    "### BEGIN SOLUTION\n",
    "def print_return_sum(a: int | float, b: int | float) -> int | float:\n",
    "    print(f\"{a + b}\")\n",
    "    return a + b\n",
    "\n",
    "\n",
    "### END SOLUTION\n"
   ]
  },
  {
   "cell_type": "code",
   "execution_count": 15,
   "metadata": {
    "tags": [
     "debug",
     "debug-2.1"
    ]
   },
   "outputs": [
    {
     "name": "stdout",
     "output_type": "stream",
     "text": [
      "the sum of 4.2 and 2.3 is:\n",
      "6.5\n",
      "or 6.5\n",
      "Execution finished ✓\n"
     ]
    }
   ],
   "source": [
    "%autoreload 2\n",
    "# uncomment the line(s) below to debug\n",
    "from print_return_sum_solution import print_return_sum\n",
    "\n",
    "\n",
    "x, y = 4.2, 2.3\n",
    "print(f'the sum of {x} and {y} is:')\n",
    "r = print_return_sum(x, y)\n",
    "print(f'or {r}')\n",
    "print(\"Execution finished\", \"\\u2713\")"
   ]
  },
  {
   "cell_type": "code",
   "execution_count": 16,
   "metadata": {
    "nbgrader": {
     "grade": true,
     "grade_id": "cell-tests-2-1",
     "locked": true,
     "points": 1,
     "schema_version": 3,
     "solution": false,
     "task": false
    },
    "tags": [
     "tests",
     "tests-2.1"
    ]
   },
   "outputs": [
    {
     "data": {
      "text/html": [
       "<div class=\"tip admonition\">\n",
       "<p class=\"admonition-title\">Code Quality Analysis: <span style=\"color: green\">Pass</span></p><p>*No problem was found*\n",
       "</p>\n",
       "    </div>"
      ],
      "text/plain": [
       "<IPython.core.display.HTML object>"
      ]
     },
     "metadata": {},
     "output_type": "display_data"
    },
    {
     "name": "stdout",
     "output_type": "stream",
     "text": [
      "tests passed ✓\n"
     ]
    }
   ],
   "source": [
    "%autoreload 2\n",
    "#test cell\n",
    "try:\n",
    "    import print_return_sum_solution\n",
    "except:\n",
    "    raise ValueError(\"You did not execute your solution cell!\")\n",
    "try:\n",
    "    from print_return_sum_solution import print_return_sum\n",
    "except:\n",
    "    raise ValueError(\"The module does not have the necessary function!\")\n",
    "    \n",
    "from nose.tools import assert_equal, assert_raises\n",
    "from unittest.mock import patch\n",
    "\n",
    "# first test\n",
    "with patch('sys.stdout', new=StringIO()) as fakeOutput:\n",
    "    r = print_return_sum(8.6352456, 52.18234)\n",
    "    assert_equal(60.8175856, r)\n",
    "    assert_equal(fakeOutput.getvalue().strip(), '60.8175856')\n",
    "\n",
    "# second test\n",
    "with patch('sys.stdout', new=StringIO()) as fakeOutput:\n",
    "    r = print_return_sum(4.2, 2.3)\n",
    "    assert_equal(r, 6.5)\n",
    "    assert_equal(fakeOutput.getvalue().strip(), '6.5')\n",
    "\n",
    "# testing types\n",
    "assert_raises(TypeError, print_return_sum)\n",
    "assert_raises(TypeError, print_return_sum, 2)\n",
    "\n",
    "from utils import validate_python_code\n",
    "\n",
    "validate_python_code(\"print_return_sum_solution.py\")\n",
    "print(\"tests passed\", \"\\u2713\")"
   ]
  },
  {
   "cell_type": "markdown",
   "metadata": {
    "nbgrader": {
     "grade": false,
     "grade_id": "cell-problem-2-1",
     "locked": true,
     "schema_version": 3,
     "solution": false,
     "task": false
    }
   },
   "source": [
    "### Problem 2.2\n",
    "\n",
    "Create a Python function called `return_sum` that receives two numbers (integer or float).\n",
    "The function should return a $\\underline{\\textbf{string}}$ that represents the sum of the inputs. Note that the output is returned as a string rather than an integer or float."
   ]
  },
  {
   "cell_type": "markdown",
   "metadata": {
    "nbgrader": {
     "grade": false,
     "grade_id": "cell-pseudocode-2-1",
     "locked": true,
     "schema_version": 3,
     "solution": false,
     "task": false
    }
   },
   "source": [
    "```\n",
    "# write here your pseudocode (not graded)\n",
    "\n",
    "# * pseudocode is necessary when asking for help during the lab\n",
    "```"
   ]
  },
  {
   "cell_type": "code",
   "execution_count": 26,
   "metadata": {
    "nbgrader": {
     "grade": false,
     "grade_id": "cell-answer-2-1",
     "locked": false,
     "schema_version": 3,
     "solution": true,
     "task": false
    },
    "tags": [
     "solution",
     "solution-2.2"
    ]
   },
   "outputs": [
    {
     "name": "stdout",
     "output_type": "stream",
     "text": [
      "Overwriting return_sum_solution.py\n"
     ]
    }
   ],
   "source": [
    "%%writefile return_sum_solution.py\n",
    "# solution cell\n",
    "### BEGIN SOLUTION\n",
    "def return_sum(a: int | float, b: int | float) -> str:\n",
    "    return str(a + b)\n",
    "\n",
    "\n",
    "### END SOLUTION\n"
   ]
  },
  {
   "cell_type": "code",
   "execution_count": 27,
   "metadata": {
    "tags": [
     "debug",
     "debug-2.2"
    ]
   },
   "outputs": [
    {
     "name": "stdout",
     "output_type": "stream",
     "text": [
      "the sum of 4.2 and 2.3 is: 6.5\n",
      "Execution finished ✓\n"
     ]
    }
   ],
   "source": [
    "%autoreload 2\n",
    "# uncomment the line(s) below to debug\n",
    "from return_sum_solution import return_sum\n",
    "\n",
    "\n",
    "x, y = 4.2, 2.3\n",
    "r = return_sum(x, y)\n",
    "print(f'the sum of {x} and {y} is: {r}')\n",
    "print(\"Execution finished\", \"\\u2713\")"
   ]
  },
  {
   "cell_type": "code",
   "execution_count": 28,
   "metadata": {
    "nbgrader": {
     "grade": true,
     "grade_id": "cell-tests-2-1",
     "locked": true,
     "points": 1,
     "schema_version": 3,
     "solution": false,
     "task": false
    },
    "tags": [
     "tests",
     "tests-2.2"
    ]
   },
   "outputs": [
    {
     "data": {
      "text/html": [
       "<div class=\"tip admonition\">\n",
       "<p class=\"admonition-title\">Code Quality Analysis: <span style=\"color: green\">Pass</span></p><p>*No problem was found*\n",
       "</p>\n",
       "    </div>"
      ],
      "text/plain": [
       "<IPython.core.display.HTML object>"
      ]
     },
     "metadata": {},
     "output_type": "display_data"
    },
    {
     "name": "stdout",
     "output_type": "stream",
     "text": [
      "tests passed ✓\n"
     ]
    }
   ],
   "source": [
    "%autoreload 2\n",
    "#test cell\n",
    "try:\n",
    "    import return_sum_solution\n",
    "except:\n",
    "    raise ValueError(\"You did not execute your solution cell!\")\n",
    "try:\n",
    "    from return_sum_solution import return_sum\n",
    "except:\n",
    "    raise ValueError(\"The module does not have the necessary function!\")\n",
    "    \n",
    "from nose.tools import assert_equal, assert_raises\n",
    "from unittest.mock import patch\n",
    "\n",
    "# first test\n",
    "r = return_sum(8.6352456, 52.18234)\n",
    "assert_equal(r, '60.8175856')\n",
    "\n",
    "# second test\n",
    "r = return_sum(4.2, 2.3)\n",
    "assert_equal(r, '6.5')\n",
    "\n",
    "# testing types\n",
    "assert_raises(TypeError, return_sum)\n",
    "assert_raises(TypeError, return_sum, 2)\n",
    "\n",
    "from utils import validate_python_code\n",
    "\n",
    "validate_python_code(\"return_sum_solution.py\")\n",
    "print(\"tests passed\", \"\\u2713\")"
   ]
  },
  {
   "cell_type": "markdown",
   "metadata": {
    "nbgrader": {
     "grade": false,
     "grade_id": "cell-problem-2-2",
     "locked": true,
     "schema_version": 3,
     "solution": false,
     "task": false
    }
   },
   "source": [
    "### Problem 2.3\n",
    "\n",
    "Create a function named `convert_days_to_ymd` that receives number of days (integer or float) and returns the equivalent days as a list of [years, months, days] (in this order). \n",
    "\n",
    "Suppose that there are 30.4375 days in a month and 365.25 days in a year.\n",
    "\n",
    "You need to round down the outputs to nearest integer.\n",
    "\n",
    "For instance:\n",
    "\n",
    "- Input: `30` / Output: `[0, 0, 30]`\n",
    "- Input: `30.5` / Output: `[0, 1, 0]`\n",
    "- Input: `365.249` / Output: `[0, 11, 30]`\n",
    "- Input: `365.5` / Output: `[1, 0, 0]`\n",
    "\n",
    "\n",
    "**Observations:**\n",
    "- Remember that you cannot use `import`. Use only the math operations in Chapter 3."
   ]
  },
  {
   "cell_type": "markdown",
   "metadata": {
    "nbgrader": {
     "grade": false,
     "grade_id": "cell-pseudocode-2-2",
     "locked": true,
     "schema_version": 3,
     "solution": false,
     "task": false
    }
   },
   "source": [
    "```\n",
    "# write here your pseudocode (not graded)\n",
    "\n",
    "# * pseudocode is necessary when asking for help during the lab\n",
    "```"
   ]
  },
  {
   "cell_type": "code",
   "execution_count": 91,
   "metadata": {
    "nbgrader": {
     "grade": false,
     "grade_id": "cell-answer-2-2",
     "locked": false,
     "schema_version": 3,
     "solution": true,
     "task": false
    },
    "tags": [
     "solution",
     "solution-2.3"
    ]
   },
   "outputs": [
    {
     "name": "stdout",
     "output_type": "stream",
     "text": [
      "Overwriting convert_days_to_ymd_solution.py\n"
     ]
    }
   ],
   "source": [
    "%%writefile convert_days_to_ymd_solution.py\n",
    "# solution cell\n",
    "### BEGIN SOLUTION\n",
    "def convert_days_to_ymd(days: int | float) -> list[int]:\n",
    "    if days < 0:\n",
    "        raise ValueError(\"Input must be a non-negative number.\")\n",
    "    years = days // 365.25\n",
    "    days %= 365.25\n",
    "    months = days // 30.4375\n",
    "    days %= 30.4375\n",
    "    return [int(years), int(months), int(days)]\n",
    "\n",
    "\n",
    "### END SOLUTION\n"
   ]
  },
  {
   "cell_type": "code",
   "execution_count": 92,
   "metadata": {
    "tags": [
     "debug",
     "debug-2.3"
    ]
   },
   "outputs": [
    {
     "name": "stdout",
     "output_type": "stream",
     "text": [
      "365.249 days is equivalent to 0 years, 11 months, 30 days\n",
      "Execution finished ✓\n"
     ]
    }
   ],
   "source": [
    "%autoreload 2\n",
    "# uncomment the line(s) below to debug\n",
    "from convert_days_to_ymd_solution import convert_days_to_ymd\n",
    "\n",
    "\n",
    "days = 365.249\n",
    "v = convert_days_to_ymd(days)\n",
    "print(f\"{days} days is equivalent to {v[0]} years, {v[1]} months, {v[2]} days\")\n",
    "print(\"Execution finished\", \"\\u2713\")"
   ]
  },
  {
   "cell_type": "code",
   "execution_count": 93,
   "metadata": {
    "nbgrader": {
     "grade": true,
     "grade_id": "cell-test-2-2",
     "locked": true,
     "points": 1,
     "schema_version": 3,
     "solution": false,
     "task": false
    },
    "tags": [
     "tests",
     "tests-2.3"
    ]
   },
   "outputs": [
    {
     "data": {
      "text/html": [
       "<div class=\"tip admonition\">\n",
       "<p class=\"admonition-title\">Code Quality Analysis: <span style=\"color: green\">Pass</span></p><p>*No problem was found*\n",
       "</p>\n",
       "    </div>"
      ],
      "text/plain": [
       "<IPython.core.display.HTML object>"
      ]
     },
     "metadata": {},
     "output_type": "display_data"
    },
    {
     "name": "stdout",
     "output_type": "stream",
     "text": [
      "tests passed ✓\n"
     ]
    }
   ],
   "source": [
    "%autoreload 2\n",
    "# test cell\n",
    "try:\n",
    "    import convert_days_to_ymd_solution\n",
    "except:\n",
    "    raise ValueError(\"You did not execute your solution cell!\")\n",
    "try:\n",
    "    from convert_days_to_ymd_solution import convert_days_to_ymd\n",
    "except:\n",
    "    raise ValueError(\"The module does not have the necessary function!\")\n",
    "\n",
    "from nose.tools import assert_equal\n",
    "\n",
    "assert_equal(convert_days_to_ymd(30.4375*10+0.5), [0, 10, 0])\n",
    "assert_equal(convert_days_to_ymd(30.4375*10+1.5), [0, 10, 1])\n",
    "assert_equal(convert_days_to_ymd(365.25*7+30.4375*10+7.9), [7, 10, 7])\n",
    "\n",
    "from utils import validate_python_code\n",
    "\n",
    "validate_python_code(\"convert_days_to_ymd_solution.py\")\n",
    "print(\"tests passed\", \"\\u2713\")"
   ]
  },
  {
   "cell_type": "markdown",
   "metadata": {
    "nbgrader": {
     "grade": false,
     "grade_id": "cell-problem-2-3",
     "locked": true,
     "schema_version": 3,
     "solution": false,
     "task": false
    }
   },
   "source": [
    "### Problem 2.4\n",
    "\n",
    "Create a function called `test_convert_days_to_ymd` that tests the function `convert_days_to_ymd` made in the previous problem.\n",
    "Note that after running the test cell, the code coverage should be 100%."
   ]
  },
  {
   "cell_type": "markdown",
   "metadata": {
    "nbgrader": {
     "grade": false,
     "grade_id": "cell-pseudocode-2-3",
     "locked": true,
     "schema_version": 3,
     "solution": false,
     "task": false
    }
   },
   "source": [
    "```\n",
    "# write here your pseudocode (not graded)\n",
    "\n",
    "# * pseudocode is necessary when asking for help during the lab\n",
    "```"
   ]
  },
  {
   "cell_type": "code",
   "execution_count": 101,
   "metadata": {
    "nbgrader": {
     "grade": false,
     "grade_id": "cell-answer-2-3",
     "locked": false,
     "schema_version": 3,
     "solution": true,
     "task": false
    },
    "tags": [
     "solution",
     "solution-2.4"
    ]
   },
   "outputs": [
    {
     "name": "stdout",
     "output_type": "stream",
     "text": [
      "Overwriting test_convert_days_to_ymd_file.py\n"
     ]
    }
   ],
   "source": [
    "%%writefile test_convert_days_to_ymd_file.py\n",
    "# solution cell\n",
    "# the line below brings the function `convert_days_to_ymd` into scope\n",
    "\n",
    "from convert_days_to_ymd_solution import convert_days_to_ymd\n",
    "from nose.tools import assert_equal\n",
    "\n",
    "\n",
    "### BEGIN SOLUTION\n",
    "def test_convert_days_to_ymd() -> None:\n",
    "    # Test 1: Input is less than a month\n",
    "    result = convert_days_to_ymd(30)\n",
    "    assert_equal(result, [0, 0, 30])\n",
    "\n",
    "    # Test 2: Input rounds slightly into one month\n",
    "    result = convert_days_to_ymd(30.5)\n",
    "    assert_equal(result, [0, 1, 0])\n",
    "\n",
    "    # Test 3: Input is just under a year (365.249 days)\n",
    "    result = convert_days_to_ymd(365.249)\n",
    "    assert_equal(result, [0, 11, 30])\n",
    "\n",
    "    # Test 4: Input rounds to exactly one year\n",
    "    result = convert_days_to_ymd(365.5)\n",
    "    assert_equal(result, [1, 0, 0])\n",
    "\n",
    "    # Test 5: Input is 0 (edge case)\n",
    "    result = convert_days_to_ymd(0)\n",
    "    assert_equal(result, [0, 0, 0])\n",
    "\n",
    "    # Test 6: Large input across years\n",
    "    result = convert_days_to_ymd(730.5)  # Two years\n",
    "    assert_equal(result, [2, 0, 0])\n",
    "\n",
    "    # Test 7: Fractional input distributing into months and days\n",
    "    result = convert_days_to_ymd(790)\n",
    "    assert_equal(result, [2, 1, 29])\n",
    "\n",
    "    # Test 8: Large number of days\n",
    "    result = convert_days_to_ymd(14610)  # 40 years\n",
    "    assert_equal(result, [40, 0, 0])\n",
    "\n",
    "    # Test 9: Negative input (should raise an exception)\n",
    "    try:\n",
    "        convert_days_to_ymd(-10)\n",
    "    except ValueError as e:\n",
    "        assert str(e) == \"Input must be a non-negative number.\"\n",
    "    else:\n",
    "        raise ValueError(\"The function should have raised an exception for negative\")\n",
    "\n",
    "    print(\"All test cases passed!\")\n",
    "\n",
    "\n",
    "### END SOLUTION\n"
   ]
  },
  {
   "cell_type": "code",
   "execution_count": 102,
   "metadata": {
    "tags": [
     "debug",
     "debug-2.4"
    ]
   },
   "outputs": [
    {
     "name": "stdout",
     "output_type": "stream",
     "text": [
      "\u001b[1m============================= test session starts ==============================\u001b[0m\n",
      "platform darwin -- Python 3.10.16, pytest-8.3.4, pluggy-1.5.0\n",
      "rootdir: /Users/chenbin/Library/CloudStorage/OneDrive-Chalmers/Documents/STUDY-PHD/04_Teaching_Assistant/2025/EEN060_Applied_object-oriented_programming/programming-assignments\n",
      "configfile: pyproject.toml\n",
      "plugins: anyio-4.7.0\n",
      "collected 1 item                                                               \u001b[0m\n",
      "\n",
      "test_convert_days_to_ymd_file.py \u001b[32m.\u001b[0m\u001b[33m                                       [100%]\u001b[0m\n",
      "\n",
      "\u001b[33m=============================== warnings summary ===============================\u001b[0m\n",
      ".venv/lib/python3.10/site-packages/nose/plugins/manager.py:418\n",
      "  /Users/chenbin/Library/CloudStorage/OneDrive-Chalmers/Documents/STUDY-PHD/04_Teaching_Assistant/2025/EEN060_Applied_object-oriented_programming/programming-assignments/.venv/lib/python3.10/site-packages/nose/plugins/manager.py:418: DeprecationWarning: pkg_resources is deprecated as an API. See https://setuptools.pypa.io/en/latest/pkg_resources.html\n",
      "    import pkg_resources\n",
      "\n",
      ".venv/lib/python3.10/site-packages/nose/importer.py:12\n",
      "  /Users/chenbin/Library/CloudStorage/OneDrive-Chalmers/Documents/STUDY-PHD/04_Teaching_Assistant/2025/EEN060_Applied_object-oriented_programming/programming-assignments/.venv/lib/python3.10/site-packages/nose/importer.py:12: DeprecationWarning: the imp module is deprecated in favour of importlib and slated for removal in Python 3.12; see the module's documentation for alternative uses\n",
      "    from imp import find_module, load_module, acquire_lock, release_lock\n",
      "\n",
      "-- Docs: https://docs.pytest.org/en/stable/how-to/capture-warnings.html\n",
      "\u001b[33m======================== \u001b[32m1 passed\u001b[0m, \u001b[33m\u001b[1m2 warnings\u001b[0m\u001b[33m in 0.13s\u001b[0m\u001b[33m =========================\u001b[0m\n",
      "/Users/chenbin/Library/CloudStorage/OneDrive-Chalmers/Documents/STUDY-PHD/04_Teaching_Assistant/2025/EEN060_Applied_object-oriented_programming/programming-assignments/.venv/lib/python3.10/site-packages/coverage/inorout.py:508: CoverageWarning: Module codeapp was never imported. (module-not-imported)\n",
      "  self.warn(f\"Module {pkg} was never imported.\", slug=\"module-not-imported\")\n",
      "/Users/chenbin/Library/CloudStorage/OneDrive-Chalmers/Documents/STUDY-PHD/04_Teaching_Assistant/2025/EEN060_Applied_object-oriented_programming/programming-assignments/.venv/lib/python3.10/site-packages/coverage/control.py:892: CoverageWarning: No data was collected. (no-data-collected)\n",
      "  self._warn(\"No data was collected.\", slug=\"no-data-collected\")\n",
      "No data to report.\n"
     ]
    }
   ],
   "source": [
    "# run the tests and check coverage\n",
    "\n",
    "!coverage run -m pytest test_convert_days_to_ymd_file.py\n",
    "!coverage report -m --include=\"convert_days_to_ymd_solution*\"\n",
    "!coverage erase"
   ]
  },
  {
   "cell_type": "code",
   "execution_count": 103,
   "metadata": {
    "nbgrader": {
     "grade": true,
     "grade_id": "cell-test-2-3",
     "locked": true,
     "points": 1,
     "schema_version": 3,
     "solution": false,
     "task": false
    },
    "tags": [
     "tests",
     "tests-2.4"
    ]
   },
   "outputs": [
    {
     "data": {
      "text/html": [
       "<div class=\"tip admonition\">\n",
       "<p class=\"admonition-title\">Code Quality Analysis: <span style=\"color: green\">Pass</span></p><p>*No problem was found*\n",
       "</p>\n",
       "    </div>"
      ],
      "text/plain": [
       "<IPython.core.display.HTML object>"
      ]
     },
     "metadata": {},
     "output_type": "display_data"
    },
    {
     "name": "stdout",
     "output_type": "stream",
     "text": [
      "tests passed ✓\n"
     ]
    }
   ],
   "source": [
    "%autoreload 2\n",
    "# test cell\n",
    "\n",
    "validate_python_code(\"test_convert_days_to_ymd_file.py\")\n",
    "print(\"tests passed\", \"\\u2713\")"
   ]
  }
 ],
 "metadata": {
  "assignment_list": [
   "1.1",
   "1.2",
   "1.3",
   "1.4",
   "2.1",
   "2.2",
   "2.3",
   "2.4"
  ],
  "celltoolbar": "Tags",
  "kernelspec": {
   "display_name": ".venv",
   "language": "python",
   "name": "python3"
  },
  "language_info": {
   "codemirror_mode": {
    "name": "ipython",
    "version": 3
   },
   "file_extension": ".py",
   "mimetype": "text/x-python",
   "name": "python",
   "nbconvert_exporter": "python",
   "pygments_lexer": "ipython3",
   "version": "3.10.16"
  }
 },
 "nbformat": 4,
 "nbformat_minor": 4
}
